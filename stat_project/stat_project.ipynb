{
 "cells": [
  {
   "cell_type": "markdown",
   "metadata": {},
   "source": [
    "# Teste de normalidade (Shapiro-Wilk)"
   ]
  },
  {
   "cell_type": "code",
   "execution_count": 1,
   "metadata": {},
   "outputs": [],
   "source": [
    "set.seed(1234)"
   ]
  },
  {
   "cell_type": "code",
   "execution_count": 24,
   "metadata": {},
   "outputs": [
    {
     "data": {
      "text/html": [
       "<table>\n",
       "<thead><tr><th></th><th scope=col>2017</th><th scope=col>2016</th><th scope=col>2015</th></tr></thead>\n",
       "<tbody>\n",
       "\t<tr><th scope=row>janeiro</th><td>0.5140683</td><td>0.4605650</td><td>0.5167583</td></tr>\n",
       "\t<tr><th scope=row>fevereiro</th><td>0.4690903</td><td>0.4529098</td><td>0.4202182</td></tr>\n",
       "\t<tr><th scope=row>marco</th><td>0.5114321</td><td>0.4540632</td><td>0.4667455</td></tr>\n",
       "\t<tr><th scope=row>abril</th><td>0.4471398</td><td>0.4488657</td><td>0.4605079</td></tr>\n",
       "\t<tr><th scope=row>maio</th><td>0.4981540</td><td>0.4524613</td><td>0.4424670</td></tr>\n",
       "\t<tr><th scope=row>junho</th><td>0.4508907</td><td>0.4287378</td><td>0.4264188</td></tr>\n",
       "\t<tr><th scope=row>julho</th><td>0.4534881</td><td>0.4508649</td><td>0.4182571</td></tr>\n",
       "\t<tr><th scope=row>agosto</th><td>0.5174409</td><td>0.4432495</td><td>0.4493986</td></tr>\n",
       "\t<tr><th scope=row>setembro</th><td>0.5479941</td><td>0.4682573</td><td>0.4427050</td></tr>\n",
       "\t<tr><th scope=row>outubro</th><td>0.5847791</td><td>0.5092831</td><td>0.4855577</td></tr>\n",
       "\t<tr><th scope=row>novembro</th><td>0.5125454</td><td>0.4938669</td><td>0.4514019</td></tr>\n",
       "\t<tr><th scope=row>dezembro</th><td>0.5353323</td><td>0.5110178</td><td>0.5152501</td></tr>\n",
       "</tbody>\n",
       "</table>\n"
      ],
      "text/latex": [
       "\\begin{tabular}{r|lll}\n",
       "  & 2017 & 2016 & 2015\\\\\n",
       "\\hline\n",
       "\tjaneiro & 0.5140683 & 0.4605650 & 0.5167583\\\\\n",
       "\tfevereiro & 0.4690903 & 0.4529098 & 0.4202182\\\\\n",
       "\tmarco & 0.5114321 & 0.4540632 & 0.4667455\\\\\n",
       "\tabril & 0.4471398 & 0.4488657 & 0.4605079\\\\\n",
       "\tmaio & 0.4981540 & 0.4524613 & 0.4424670\\\\\n",
       "\tjunho & 0.4508907 & 0.4287378 & 0.4264188\\\\\n",
       "\tjulho & 0.4534881 & 0.4508649 & 0.4182571\\\\\n",
       "\tagosto & 0.5174409 & 0.4432495 & 0.4493986\\\\\n",
       "\tsetembro & 0.5479941 & 0.4682573 & 0.4427050\\\\\n",
       "\toutubro & 0.5847791 & 0.5092831 & 0.4855577\\\\\n",
       "\tnovembro & 0.5125454 & 0.4938669 & 0.4514019\\\\\n",
       "\tdezembro & 0.5353323 & 0.5110178 & 0.5152501\\\\\n",
       "\\end{tabular}\n"
      ],
      "text/markdown": [
       "\n",
       "| <!--/--> | 2017 | 2016 | 2015 |\n",
       "|---|---|---|---|\n",
       "| janeiro | 0.5140683 | 0.4605650 | 0.5167583 |\n",
       "| fevereiro | 0.4690903 | 0.4529098 | 0.4202182 |\n",
       "| marco | 0.5114321 | 0.4540632 | 0.4667455 |\n",
       "| abril | 0.4471398 | 0.4488657 | 0.4605079 |\n",
       "| maio | 0.4981540 | 0.4524613 | 0.4424670 |\n",
       "| junho | 0.4508907 | 0.4287378 | 0.4264188 |\n",
       "| julho | 0.4534881 | 0.4508649 | 0.4182571 |\n",
       "| agosto | 0.5174409 | 0.4432495 | 0.4493986 |\n",
       "| setembro | 0.5479941 | 0.4682573 | 0.4427050 |\n",
       "| outubro | 0.5847791 | 0.5092831 | 0.4855577 |\n",
       "| novembro | 0.5125454 | 0.4938669 | 0.4514019 |\n",
       "| dezembro | 0.5353323 | 0.5110178 | 0.5152501 |\n",
       "\n"
      ],
      "text/plain": [
       "          2017      2016      2015     \n",
       "janeiro   0.5140683 0.4605650 0.5167583\n",
       "fevereiro 0.4690903 0.4529098 0.4202182\n",
       "marco     0.5114321 0.4540632 0.4667455\n",
       "abril     0.4471398 0.4488657 0.4605079\n",
       "maio      0.4981540 0.4524613 0.4424670\n",
       "junho     0.4508907 0.4287378 0.4264188\n",
       "julho     0.4534881 0.4508649 0.4182571\n",
       "agosto    0.5174409 0.4432495 0.4493986\n",
       "setembro  0.5479941 0.4682573 0.4427050\n",
       "outubro   0.5847791 0.5092831 0.4855577\n",
       "novembro  0.5125454 0.4938669 0.4514019\n",
       "dezembro  0.5353323 0.5110178 0.5152501"
      ]
     },
     "metadata": {},
     "output_type": "display_data"
    }
   ],
   "source": [
    "# Open file\n",
    "df <- read.csv(\"./suicidio_prop_100k_hab_mes_2015-2017.csv\")\n",
    "\n",
    "# Transpose columns as rows\n",
    "t_df <- setNames(data.frame(t(df[,-1])), df[,1])\n",
    "t_df"
   ]
  },
  {
   "cell_type": "code",
   "execution_count": 3,
   "metadata": {},
   "outputs": [
    {
     "data": {
      "text/plain": [
       "\n",
       "\tShapiro-Wilk normality test\n",
       "\n",
       "data:  t_df$\"2015\"\n",
       "W = 0.90531, p-value = 0.1857\n"
      ]
     },
     "metadata": {},
     "output_type": "display_data"
    }
   ],
   "source": [
    "# Normality test with Shapiro-Wilk for 2015 col\n",
    "shapiro.test(t_df$'2015')"
   ]
  },
  {
   "cell_type": "code",
   "execution_count": 4,
   "metadata": {},
   "outputs": [
    {
     "data": {
      "text/plain": [
       "\n",
       "\tShapiro-Wilk normality test\n",
       "\n",
       "data:  t_df$\"2016\"\n",
       "W = 0.86435, p-value = 0.05544\n"
      ]
     },
     "metadata": {},
     "output_type": "display_data"
    }
   ],
   "source": [
    "# Normality test with Shapiro-Wilk for 2016 col\n",
    "shapiro.test(t_df$'2016')"
   ]
  },
  {
   "cell_type": "code",
   "execution_count": 5,
   "metadata": {},
   "outputs": [
    {
     "data": {
      "text/plain": [
       "\n",
       "\tShapiro-Wilk normality test\n",
       "\n",
       "data:  t_df$\"2017\"\n",
       "W = 0.93883, p-value = 0.4831\n"
      ]
     },
     "metadata": {},
     "output_type": "display_data"
    }
   ],
   "source": [
    "# Normality test with Shapiro-Wilk for 2017 col\n",
    "shapiro.test(t_df$'2017')"
   ]
  },
  {
   "cell_type": "markdown",
   "metadata": {},
   "source": [
    "> Como vimos, não conseguimos rejeitar a hipótese nula para os anos de `2015`, `2016` e `2017` (`p > 0.05`). Assim, esses conjuntos de dados foram extraídos de uma população com distribuição normal."
   ]
  },
  {
   "cell_type": "markdown",
   "metadata": {},
   "source": [
    "# Análise gráfica"
   ]
  },
  {
   "cell_type": "code",
   "execution_count": 6,
   "metadata": {},
   "outputs": [
    {
     "name": "stderr",
     "output_type": "stream",
     "text": [
      "Registered S3 methods overwritten by 'ggplot2':\n",
      "  method         from \n",
      "  [.quosures     rlang\n",
      "  c.quosures     rlang\n",
      "  print.quosures rlang\n"
     ]
    }
   ],
   "source": [
    "library('ggplot2')"
   ]
  },
  {
   "cell_type": "code",
   "execution_count": 10,
   "metadata": {},
   "outputs": [
    {
     "name": "stderr",
     "output_type": "stream",
     "text": [
      "`stat_bin()` using `bins = 30`. Pick better value with `binwidth`.\n"
     ]
    },
    {
     "data": {
      "image/png": "[encoded data removed]",
      "text/plain": [
       "plot without title"
      ]
     },
     "metadata": {},
     "output_type": "display_data"
    }
   ],
   "source": [
    "# Plot graph to 2015 col\n",
    "ggplot(t_df, aes(x=t_df$'2015'))+geom_histogram(fill='white', colour='black')"
   ]
  },
  {
   "cell_type": "code",
   "execution_count": 12,
   "metadata": {},
   "outputs": [
    {
     "name": "stderr",
     "output_type": "stream",
     "text": [
      "`stat_bin()` using `bins = 30`. Pick better value with `binwidth`.\n"
     ]
    },
    {
     "data": {
      "image/png": "[encoded data removed]",
      "text/plain": [
       "plot without title"
      ]
     },
     "metadata": {},
     "output_type": "display_data"
    }
   ],
   "source": [
    "# Plot graph to 2016 col\n",
    "ggplot(t_df, aes(x=t_df$'2016'))+geom_histogram(fill='white', colour='black')"
   ]
  },
  {
   "cell_type": "code",
   "execution_count": 18,
   "metadata": {},
   "outputs": [
    {
     "name": "stderr",
     "output_type": "stream",
     "text": [
      "ERROR while rich displaying an object: Error: stat_bin() must not be used with a y aesthetic.\n",
      "\n",
      "Traceback:\n",
      "1. FUN(X[[i]], ...)\n",
      "2. tryCatch(withCallingHandlers({\n",
      " .     if (!mime %in% names(repr::mime2repr)) \n",
      " .         stop(\"No repr_* for mimetype \", mime, \" in repr::mime2repr\")\n",
      " .     rpr <- repr::mime2repr[[mime]](obj)\n",
      " .     if (is.null(rpr)) \n",
      " .         return(NULL)\n",
      " .     prepare_content(is.raw(rpr), rpr)\n",
      " . }, error = error_handler), error = outer_handler)\n",
      "3. tryCatchList(expr, classes, parentenv, handlers)\n",
      "4. tryCatchOne(expr, names, parentenv, handlers[[1L]])\n",
      "5. doTryCatch(return(expr), name, parentenv, handler)\n",
      "6. withCallingHandlers({\n",
      " .     if (!mime %in% names(repr::mime2repr)) \n",
      " .         stop(\"No repr_* for mimetype \", mime, \" in repr::mime2repr\")\n",
      " .     rpr <- repr::mime2repr[[mime]](obj)\n",
      " .     if (is.null(rpr)) \n",
      " .         return(NULL)\n",
      " .     prepare_content(is.raw(rpr), rpr)\n",
      " . }, error = error_handler)\n",
      "7. repr::mime2repr[[mime]](obj)\n",
      "8. repr_text.default(obj)\n",
      "9. paste(capture.output(print(obj)), collapse = \"\\n\")\n",
      "10. capture.output(print(obj))\n",
      "11. evalVis(expr)\n",
      "12. withVisible(eval(expr, pf))\n",
      "13. eval(expr, pf)\n",
      "14. eval(expr, pf)\n",
      "15. print(obj)\n",
      "16. print.ggplot(obj)\n",
      "17. ggplot_build(x)\n",
      "18. ggplot_build.ggplot(x)\n",
      "19. by_layer(function(l, d) l$compute_statistic(d, layout))\n",
      "20. f(l = layers[[i]], d = data[[i]])\n",
      "21. l$compute_statistic(d, layout)\n",
      "22. f(..., self = self)\n",
      "23. self$stat$setup_params(data, self$stat_params)\n",
      "24. f(...)\n",
      "25. stop(\"stat_bin() must not be used with a y aesthetic.\", call. = FALSE)\n"
     ]
    },
    {
     "data": {
      "image/png": "[encoded data removed]",
      "text/plain": [
       "plot without title"
      ]
     },
     "metadata": {},
     "output_type": "display_data"
    }
   ],
   "source": [
    "# Plot graph to 2017 col\n",
    "ggplot(t_df, aes(x=t_df$'2017'))+geom_histogram(fill='white', colour='black')"
   ]
  },
  {
   "cell_type": "code",
   "execution_count": 16,
   "metadata": {},
   "outputs": [
    {
     "data": {
      "image/png": "[encoded data removed]",
      "text/plain": [
       "Plot with title “Histogram of t_df$\"2017\"”"
      ]
     },
     "metadata": {},
     "output_type": "display_data"
    }
   ],
   "source": [
    "hist(t_df$'2017')"
   ]
  },
  {
   "cell_type": "code",
   "execution_count": 28,
   "metadata": {},
   "outputs": [
    {
     "name": "stderr",
     "output_type": "stream",
     "text": [
      "also installing the dependencies ‘purrr’, ‘tidyselect’, ‘BH’, ‘plogr’\n",
      "\n",
      "Warning message in download.file(url, destfile, method, mode = \"wb\", ...):\n",
      "“URL 'https://cran.r-project.org/src/contrib/plogr_0.2.0.tar.gz': status was 'Couldn't resolve host name'”"
     ]
    },
    {
     "name": "stdout",
     "output_type": "stream",
     "text": [
      "Error in download.file(url, destfile, method, mode = \"wb\", ...) : \n",
      "  cannot open URL 'https://cran.r-project.org/src/contrib/plogr_0.2.0.tar.gz'\n"
     ]
    },
    {
     "name": "stderr",
     "output_type": "stream",
     "text": [
      "Warning message in download.packages(pkgs, destdir = tmpd, available = available, :\n",
      "“download of package ‘plogr’ failed”Warning message in download.file(url, destfile, method, mode = \"wb\", ...):\n",
      "“URL 'https://cran.r-project.org/src/contrib/dplyr_0.8.2.tar.gz': status was 'Couldn't connect to server'”"
     ]
    },
    {
     "name": "stdout",
     "output_type": "stream",
     "text": [
      "Error in download.file(url, destfile, method, mode = \"wb\", ...) : \n",
      "  cannot open URL 'https://cran.r-project.org/src/contrib/dplyr_0.8.2.tar.gz'\n"
     ]
    },
    {
     "name": "stderr",
     "output_type": "stream",
     "text": [
      "Warning message in download.packages(pkgs, destdir = tmpd, available = available, :\n",
      "“download of package ‘dplyr’ failed”Updating HTML index of packages in '.Library'\n",
      "Making 'packages.html' ... done\n"
     ]
    }
   ],
   "source": [
    "install.packages('dplyr')"
   ]
  },
  {
   "cell_type": "code",
   "execution_count": null,
   "metadata": {},
   "outputs": [],
   "source": []
  }
 ],
 "metadata": {
  "kernelspec": {
   "display_name": "R",
   "language": "R",
   "name": "ir"
  },
  "language_info": {
   "codemirror_mode": "r",
   "file_extension": ".r",
   "mimetype": "text/x-r-source",
   "name": "R",
   "pygments_lexer": "r",
   "version": "3.6.0"
  }
 },
 "nbformat": 4,
 "nbformat_minor": 2
}
