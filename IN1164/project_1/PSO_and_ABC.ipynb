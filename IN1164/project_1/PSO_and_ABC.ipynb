{
  "nbformat": 4,
  "nbformat_minor": 0,
  "metadata": {
    "colab": {
      "name": "PSO_and_ABC.ipynb",
      "provenance": [],
      "collapsed_sections": [],
      "authorship_tag": "ABX9TyNiggjwLvSPsHC9EY//N8M/",
      "include_colab_link": true
    },
    "kernelspec": {
      "name": "python3",
      "display_name": "Python 3"
    }
  },
  "cells": [
    {
      "cell_type": "markdown",
      "metadata": {
        "id": "view-in-github",
        "colab_type": "text"
      },
      "source": [
        "<a href=\"https://colab.research.google.com/github/geocarvalho/uni-proj/blob/master/IN1164/project_1/PSO_and_ABC.ipynb\" target=\"_parent\"><img src=\"https://colab.research.google.com/assets/colab-badge.svg\" alt=\"Open In Colab\"/></a>"
      ]
    },
    {
      "cell_type": "markdown",
      "metadata": {
        "id": "ldjXjxI_fpHS",
        "colab_type": "text"
      },
      "source": [
        "# Implementação: \n",
        "- PSO padrão e uma variação.\n",
        "- ABC (ou Firefly) padrão e uma variação.\n",
        "\n",
        "\n",
        "Testar em 6 funções de benchmark com variação de atributos de 10, 20 e 50.\n",
        "Funções:\n",
        "- [Ackley function](http://benchmarkfcns.xyz/benchmarkfcns/ackleyfcn.html) - [em python](https://www.cs.unm.edu/~neal.holts/dga/benchmarkFunction/ackley.html)\n",
        "- [Alpine function](http://benchmarkfcns.xyz/benchmarkfcns/alpinen1fcn.html)\n",
        "- [Schwefel Function](http://benchmarkfcns.xyz/benchmarkfcns/schwefelfcn.html) - [em python](https://www.cs.unm.edu/~neal.holts/dga/benchmarkFunction/schwefel.html)\n",
        "- [Happy Cat Function](http://benchmarkfcns.xyz/benchmarkfcns/happycatfcn.html) \n",
        "- [Brown function](http://benchmarkfcns.xyz/benchmarkfcns/brownfcn.html)\n",
        "- [Exponential function](http://benchmarkfcns.xyz/benchmarkfcns/exponentialfcn.html)\n",
        "\n",
        "Para funções olhar o site: http://benchmarkfcns.xyz/\n",
        "\n",
        "# Funções de fitness\n"
      ]
    },
    {
      "cell_type": "code",
      "metadata": {
        "id": "Au52g_W1XP1O",
        "colab_type": "code",
        "colab": {}
      },
      "source": [
        "import math\n",
        "import random\n",
        "import numpy as np\n",
        "\n",
        "def simple_func(position):\n",
        "  \"\"\" Simple function that models the problem \"\"\"\n",
        "  return position[0]**2 + position[1]**2 + 1\n",
        "\n",
        "def sphere_func(positions):\n",
        "  \"\"\" Sphere function \n",
        "  http://benchmarkfcns.xyz/benchmarkfcns/spherefcn.html\"\"\"\n",
        "  c = np.array(positions)\n",
        "  x = c**2\n",
        "  return np.sum(x)\n",
        "\n",
        "def ackley_func(positions):\n",
        "  \"\"\" Ackley function\"\"\"\n",
        "  c = np.array(positions)\n",
        "  firstSum = np.sum(c**2.0)\n",
        "  secondSum = np.sum(np.cos(2.0*math.pi*c))\n",
        "  n = float(len(positions))\n",
        "  return -20.0*math.exp(-0.2*math.sqrt(firstSum/n)) - math.exp(secondSum/n) + 20 + math.e\n",
        "\n",
        "def alpine_func(positions):\n",
        "  \"\"\" Alpine function \"\"\"\n",
        "  c = np.array(positions)\n",
        "  scores = np.sum(abs(c * np.sin(c) + 0.1*c))\n",
        "  return scores\n",
        "\n",
        "def schwefel_func(positions):\n",
        "  \"\"\"F7 Schwefel's function\n",
        "  multimodal, asymmetric, separable\"\"\"\n",
        "  c = np.array(positions)\n",
        "  n = len(c)\n",
        "  alpha = 418.982887\n",
        "  fitness = np.sum(c * np.sin(np.sqrt(abs(c))))\n",
        "  return alpha * n - fitness\n",
        "\n",
        "def happy_cat_func(positions):\n",
        "  \"\"\" Happy Cat function \"\"\"\n",
        "  alpha = 0.5\n",
        "  c = np.array(positions)\n",
        "  n = len(c)\n",
        "  x2 = np.sum(c*c)\n",
        "  scores = (((x2 - n)**2)**alpha + (0.5*x2 + np.sum(c)))/ (n + 0.5)\n",
        "  return scores\n",
        "\n",
        "def brown_func(positions):\n",
        "  \"\"\" Brown function \"\"\"\n",
        "  c = np.array(positions)\n",
        "  n = len(c)\n",
        "  x = c**2\n",
        "  scores = 0\n",
        "  for i in range(n-1):\n",
        "    scores = scores + x[i]**(x[i+1] + 1) + x[i+1]**(x[i]+1)\n",
        "  return scores\n",
        "\n",
        "def exponential_func(positions):\n",
        "  \"\"\" Exponential function \"\"\"\n",
        "  c = np.array(positions)\n",
        "  x2 = c**2\n",
        "  scores = -np.exp(-0.5 * np.sum(x2))\n",
        "  return scores\n"
      ],
      "execution_count": 1,
      "outputs": []
    },
    {
      "cell_type": "markdown",
      "metadata": {
        "id": "L6WM35o7X1Rl",
        "colab_type": "text"
      },
      "source": [
        "# PSO padrão\n",
        "\n",
        "* [1995 Particle swarm optimization](https://ieeexplore.ieee.org/abstract/document/488968)\n",
        "* [1998 A Modified Particle Swarm Optimizer](https://ieeexplore.ieee.org/document/699146)"
      ]
    },
    {
      "cell_type": "code",
      "metadata": {
        "id": "deK75GBtRCdD",
        "colab_type": "code",
        "colab": {}
      },
      "source": [
        "def PSO(problem, dimension, var_min, var_max, n_iterations, n_particles,\n",
        "        wdamp, w, c1, c2, show_iter):\n",
        "  \"\"\" PSO algorithm \"\"\"\n",
        "  # Inicialization\n",
        "  # np.seterr(over='ignore')\n",
        "  particle_position_vector = np.random.uniform(var_min,var_max,(\n",
        "      n_particles, dimension))\n",
        "  pbest_position = particle_position_vector\n",
        "  pbest_fitness_value = np.full(shape=n_particles, fill_value=float('inf'))\n",
        "  gbest_fitness_value = float('inf')\n",
        "  gbest_position = np.array([float('inf'), float('inf')])\n",
        "  velocity_vector = np.zeros(shape=(n_particles, dimension))\n",
        "  iteration = 0\n",
        "\n",
        "  # Start iterations\n",
        "  while iteration < n_iterations:\n",
        "    for p in range(n_particles):\n",
        "      fitness_candidate = problem(particle_position_vector[p])\n",
        "      \n",
        "      # Calculate pbest\n",
        "      if pbest_fitness_value[p] > fitness_candidate:\n",
        "        pbest_fitness_value[p] = fitness_candidate\n",
        "        pbest_position[p] = particle_position_vector[p]\n",
        "      \n",
        "      # Calculate gbest\n",
        "      if gbest_fitness_value > fitness_candidate:\n",
        "        gbest_fitness_value = fitness_candidate\n",
        "        gbest_position = particle_position_vector[p]\n",
        "    if show_iter:\n",
        "      print(gbest_fitness_value, \" :\", gbest_position)\n",
        "    \n",
        "    # Update velocity of each particle\n",
        "    for p in range(n_particles):\n",
        "      new_velocity = (w * velocity_vector[p]) + \\\n",
        "      ((c1 * random.random()) * (pbest_position[p] - particle_position_vector[p])) + \\\n",
        "      ((c2 * random.random()) * (gbest_position - particle_position_vector[p]))\n",
        "      new_position = new_velocity + particle_position_vector[p]\n",
        "      particle_position_vector[p] = new_position\n",
        "\n",
        "    iteration += 1\n",
        "    w *= wdamp\n",
        "\n",
        "  # print(\"The best position is: \", gbest_position, \" with value of \", gbest_fitness_value,\n",
        "  #       \" in iteration number \", iteration)\n",
        "  return gbest_position, gbest_fitness_value"
      ],
      "execution_count": 2,
      "outputs": []
    },
    {
      "cell_type": "code",
      "metadata": {
        "id": "TxPiKLAmdPE2",
        "colab_type": "code",
        "colab": {
          "base_uri": "https://localhost:8080/",
          "height": 360
        },
        "outputId": "a0d9bd4f-1a97-4f1d-da47-fe97c8dc8eec"
      },
      "source": [
        "# Problem definition\n",
        "fitness_functions = {\"Ackley function\": ackley_func, \n",
        "                     \"Alpine function\": alpine_func, \n",
        "                     \"Schwefel's function\": schwefel_func, \n",
        "                     \"Happy Cat function\": happy_cat_func,\n",
        "                     \"Brown function\": brown_func,\n",
        "                     \"Exponential function\": exponential_func}\n",
        "dimensions = [10, 20, 50]\n",
        "\n",
        "for dim in dimensions:\n",
        "  for name, func in fitness_functions.items():\n",
        "    kwargs = {\"problem\": func, \"dimension\": dim, \"var_min\": -10, \n",
        "              \"var_max\": 10, \"n_iterations\": 30, \"n_particles\": 50,\n",
        "              \"wdamp\": 0.99, \"w\": 1, \"c1\": 2, \"c2\": 2, \"show_iter\": False}\n",
        "    gbest_pos, gbest_value = PSO(**kwargs)\n",
        "    print(\"For dimension %s using the %s, the gbest was: %s\" % (dim, name, gbest_value))"
      ],
      "execution_count": 3,
      "outputs": [
        {
          "output_type": "stream",
          "text": [
            "For dimension 10 using the Ackley function, the gbest was: 6.953462934036228\n",
            "For dimension 10 using the Alpine function, the gbest was: 6.042823714806516\n",
            "For dimension 10 using the Schwefel's function, the gbest was: 4124.334992623597\n",
            "For dimension 10 using the Happy Cat function, the gbest was: 0.1737469464919016\n",
            "For dimension 10 using the Brown function, the gbest was: 52.46112228560064\n",
            "For dimension 10 using the Exponential function, the gbest was: -0.19999791115643545\n"
          ],
          "name": "stdout"
        },
        {
          "output_type": "stream",
          "text": [
            "/usr/local/lib/python3.6/dist-packages/ipykernel_launcher.py:55: RuntimeWarning: overflow encountered in double_scalars\n"
          ],
          "name": "stderr"
        },
        {
          "output_type": "stream",
          "text": [
            "For dimension 20 using the Ackley function, the gbest was: 6.722570689220133\n",
            "For dimension 20 using the Alpine function, the gbest was: 12.314961160927963\n",
            "For dimension 20 using the Schwefel's function, the gbest was: 8253.363160767685\n",
            "For dimension 20 using the Happy Cat function, the gbest was: 4.279561942251673\n",
            "For dimension 20 using the Brown function, the gbest was: 338.10825376077156\n",
            "For dimension 20 using the Exponential function, the gbest was: -6.894140037536164e-07\n",
            "For dimension 50 using the Ackley function, the gbest was: 8.158335366140255\n",
            "For dimension 50 using the Alpine function, the gbest was: 59.97219969843034\n",
            "For dimension 50 using the Schwefel's function, the gbest was: 20875.666502364413\n",
            "For dimension 50 using the Happy Cat function, the gbest was: 5.867952057103593\n",
            "For dimension 50 using the Brown function, the gbest was: 930724771.7385129\n",
            "For dimension 50 using the Exponential function, the gbest was: -1.0844425003097115e-26\n"
          ],
          "name": "stdout"
        }
      ]
    },
    {
      "cell_type": "markdown",
      "metadata": {
        "id": "c5PGJG1yoXSw",
        "colab_type": "text"
      },
      "source": [
        "# Variação do PSO\n",
        "\n",
        "* [2002 The particle swarm - explosion, stability, and convergence in a multidimensional complex space](https://ieeexplore.ieee.org/abstract/document/985692)\n",
        "\n",
        "> Constriction coefficients\n",
        "\n",
        "$\\chi = \\frac{2k}{|2 - \\phi - \\sqrt{\\phi^2 - 4\\phi}|}$\n",
        "\n",
        "* Onde $0\\leq k \\leq 1$ e $\\phi_1, \\phi_2 = 2.05$;\n",
        "* Valor de $k=1$;\n",
        "* Substituições $w = \\chi$, $c_1 = \\chi.\\phi_1$ e $c_2 = \\chi.\\phi_2$.\n",
        "* Além disso, $\\phi = \\phi_1 + \\phi_2 \\geq 4$"
      ]
    },
    {
      "cell_type": "code",
      "metadata": {
        "id": "JvpBb4QbgOsm",
        "colab_type": "code",
        "colab": {}
      },
      "source": [
        "def PSO_cc(problem, dimension, var_min, var_max, n_iterations, n_particles,\n",
        "        wdamp, w, c1, c2, show_iter):\n",
        "  \"\"\" PSO algorithm \"\"\"\n",
        "  # Inicialization\n",
        "  # np.seterr(over='ignore')\n",
        "  particle_position_vector = np.random.uniform(var_min,var_max,(\n",
        "      n_particles, dimension))\n",
        "  pbest_position = particle_position_vector\n",
        "  pbest_fitness_value = np.full(shape=n_particles, fill_value=float('inf'))\n",
        "  gbest_fitness_value = float('inf')\n",
        "  gbest_position = np.array([float('inf'), float('inf')])\n",
        "  velocity_vector = np.zeros(shape=(n_particles, dimension))\n",
        "  iteration = 0\n",
        "\n",
        "  # Start iterations\n",
        "  while iteration < n_iterations:\n",
        "    for p in range(n_particles):\n",
        "      fitness_candidate = problem(particle_position_vector[p])\n",
        "      \n",
        "      # Calculate pbest\n",
        "      if pbest_fitness_value[p] > fitness_candidate:\n",
        "        pbest_fitness_value[p] = fitness_candidate\n",
        "        pbest_position[p] = particle_position_vector[p]\n",
        "      \n",
        "      # Calculate gbest\n",
        "      if gbest_fitness_value > fitness_candidate:\n",
        "        gbest_fitness_value = fitness_candidate\n",
        "        gbest_position = particle_position_vector[p]\n",
        "    if show_iter:\n",
        "      print(gbest_fitness_value, \" :\", gbest_position)\n",
        "    \n",
        "    # Update velocity of each particle\n",
        "    for p in range(n_particles):\n",
        "      new_velocity = (w * velocity_vector[p]) + \\\n",
        "      ((c1 * random.random()) * (pbest_position[p] - particle_position_vector[p])) + \\\n",
        "      ((c2 * random.random()) * (gbest_position - particle_position_vector[p]))\n",
        "      new_position = new_velocity + particle_position_vector[p]\n",
        "      particle_position_vector[p] = new_position\n",
        "\n",
        "    iteration += 1\n",
        "    w *= wdamp\n",
        "\n",
        "  # print(\"The best position is: \", gbest_position, \" with value of \", gbest_fitness_value,\n",
        "  #       \" in iteration number \", iteration)\n",
        "  return gbest_position, gbest_fitness_value"
      ],
      "execution_count": 4,
      "outputs": []
    },
    {
      "cell_type": "code",
      "metadata": {
        "id": "weTK_cygo7tE",
        "colab_type": "code",
        "colab": {
          "base_uri": "https://localhost:8080/",
          "height": 360
        },
        "outputId": "6abf4600-825b-4b40-dacb-7779e7a4914a"
      },
      "source": [
        "# Problem definition\n",
        "fitness_functions = {\"Ackley function\": ackley_func, \n",
        "                     \"Alpine function\": alpine_func, \n",
        "                     \"Schwefel's function\": schwefel_func, \n",
        "                     \"Happy Cat function\": happy_cat_func,\n",
        "                     \"Brown function\": brown_func,\n",
        "                     \"Exponential function\": exponential_func}\n",
        "dimensions = [10, 20, 50]\n",
        "\n",
        "phi1 = 2.05\n",
        "phi2 = 2.05\n",
        "phi = phi1 + phi2\n",
        "kappa = 1\n",
        "chi = 2*kappa/(abs(2-phi-math.sqrt(phi**2 - 4*phi)))\n",
        "\n",
        "for dim in dimensions:\n",
        "  for name, func in fitness_functions.items():\n",
        "    kwargs = {\"problem\": func, \"dimension\": dim, \"var_min\": -10, \n",
        "              \"var_max\": 10, \"n_iterations\": 1000, \"n_particles\": 50,\n",
        "              \"wdamp\": 1, \"w\": chi, \"c1\": chi*phi1, \"c2\": chi*phi2, \"show_iter\": False}\n",
        "    gbest_pos, gbest_value = PSO_cc(**kwargs)\n",
        "    print(\"For dimension %s using the %s, the gbest was: %s\" % (dim, name, gbest_value))"
      ],
      "execution_count": 5,
      "outputs": [
        {
          "output_type": "stream",
          "text": [
            "For dimension 10 using the Ackley function, the gbest was: 6.8170526123803015\n",
            "For dimension 10 using the Alpine function, the gbest was: 5.31742183377697\n",
            "For dimension 10 using the Schwefel's function, the gbest was: 4156.751874264943\n",
            "For dimension 10 using the Happy Cat function, the gbest was: 1.7469455466797335\n"
          ],
          "name": "stdout"
        },
        {
          "output_type": "stream",
          "text": [
            "/usr/local/lib/python3.6/dist-packages/ipykernel_launcher.py:55: RuntimeWarning: overflow encountered in double_scalars\n"
          ],
          "name": "stderr"
        },
        {
          "output_type": "stream",
          "text": [
            "For dimension 10 using the Brown function, the gbest was: 344.6628620670352\n",
            "For dimension 10 using the Exponential function, the gbest was: -1.2475081542000248e-06\n",
            "For dimension 20 using the Ackley function, the gbest was: 7.927017637984289\n",
            "For dimension 20 using the Alpine function, the gbest was: 21.393874315328343\n",
            "For dimension 20 using the Schwefel's function, the gbest was: 8322.601794263304\n",
            "For dimension 20 using the Happy Cat function, the gbest was: 0.8283440185811473\n",
            "For dimension 20 using the Brown function, the gbest was: 811093.0004636154\n",
            "For dimension 20 using the Exponential function, the gbest was: -5.463396260252381e-13\n",
            "For dimension 50 using the Ackley function, the gbest was: 7.857759748399621\n",
            "For dimension 50 using the Alpine function, the gbest was: 53.55064432387734\n",
            "For dimension 50 using the Schwefel's function, the gbest was: 20874.92053546948\n",
            "For dimension 50 using the Happy Cat function, the gbest was: 4.599395176121348\n",
            "For dimension 50 using the Brown function, the gbest was: 889723355214762.2\n",
            "For dimension 50 using the Exponential function, the gbest was: -2.2011775885553093e-47\n"
          ],
          "name": "stdout"
        }
      ]
    },
    {
      "cell_type": "markdown",
      "metadata": {
        "id": "W4PdCtx8ilg7",
        "colab_type": "text"
      },
      "source": [
        "# ABC padrão"
      ]
    },
    {
      "cell_type": "code",
      "metadata": {
        "id": "rYuqJ7hRo3w2",
        "colab_type": "code",
        "colab": {}
      },
      "source": [
        "def fitness_calc(value):\n",
        "  \"\"\" Calculate the fitness based on the object function result \"\"\"\n",
        "  if value >= 0:\n",
        "    return 1/(1+value)\n",
        "  else:\n",
        "    return 1 + abs(value)\n",
        "\n",
        "def generate_new_solution(dimension, food_source, num, food, fit, \n",
        "                          var_min, var_max, trial, fitness_func,\n",
        "                          population, obj):\n",
        "  \"\"\" Generates a new solution \"\"\"\n",
        "  # Phi is a random number between -1 and 1\n",
        "  phi = random.uniform(-1,1)\n",
        "  ## Select a random variable to change\n",
        "  var_index_lst = list(range(dimension))\n",
        "  var_index = random.choice(var_index_lst)\n",
        "  food_var = food[var_index]\n",
        "  ## Select a random partner\n",
        "  partner_index_lst = list(range(food_source))\n",
        "  partner_index_lst.remove(num)\n",
        "  partner_index = random.choice(partner_index_lst)\n",
        "  partner = population[partner_index]\n",
        "  partner_var = partner[var_index]\n",
        "  ## Create a new food location\n",
        "  x_new = food_var + (phi*(food_var - partner_var))\n",
        "  ## Check if the new location violates the lower bound (0<=x<=10)\n",
        "  x_new = np.max([var_min, x_new])\n",
        "  x_new = np.min([var_max, x_new])\n",
        "  copy_food = np.copy(food)\n",
        "  copy_food[var_index] = x_new\n",
        "  ## Evaluate the fitness\n",
        "  new_obj = fitness_func(copy_food)\n",
        "  new_fit = fitness_calc(new_obj)\n",
        "  ## Perform greedy selection\n",
        "  if new_fit > fit[num]:\n",
        "    food[var_index] = x_new\n",
        "    fit[num] = new_fit\n",
        "    obj[num] = new_obj\n",
        "    trial[num] = 0\n",
        "  else:\n",
        "    trial[num] += 1\n",
        "  return food, obj, fit, trial\n",
        "\n",
        "def ABC(dimension, fitness_func, var_min, var_max, pop_size, limit,\n",
        "        n_cycles, show_iter):\n",
        "  # Parameters\n",
        "  employed_bees = int(pop_size/2)\n",
        "  onlooker_bees = int(pop_size/2)\n",
        "  food_source = int(pop_size/2)\n",
        "\n",
        "  # Initialization\n",
        "  ## The food source population with 4 variables, create random value 0<x<10\n",
        "  population = np.random.uniform(var_min,var_max,(food_source, dimension))\n",
        "  ## Calculate the object function for each food source\n",
        "  obj = np.apply_along_axis(fitness_func, 1, population)\n",
        "  ## Calculate randintfitness of the population\n",
        "  fit = np.array([fitness_calc(value) for value in obj])\n",
        "  ## Generate initial trial vector\n",
        "  trial = np.zeros(food_source)\n",
        "  ## Start the best solution variable\n",
        "  b_fit_solution = np.max(fit)\n",
        "  b_index = list(fit).index(b_fit_solution)\n",
        "  b_food = population[b_index]\n",
        "  b_obj = obj[b_index]\n",
        "  b_cycle = 0\n",
        "  for cycle in range(n_cycles):\n",
        "    # Employed bee phase\n",
        "    for num1, food in enumerate(population, start=0):\n",
        "      food, obj, fit, trial = generate_new_solution(\n",
        "          dimension, food_source, num1, food, fit, var_min, var_max,\n",
        "          trial, fitness_func, population, obj)\n",
        "    # Calculate the probability values\n",
        "    max = np.max(fit)\n",
        "    prob = ((fit/max)*0.9)+0.1\n",
        "    # Onlooker bee phase\n",
        "    num2 = 0\n",
        "    for obee in range(onlooker_bees):\n",
        "      search_for_food = True\n",
        "      while search_for_food:\n",
        "        # Control the flow to search for food using num and food\n",
        "        if num2 == len(population-1):\n",
        "          num2 = 0\n",
        "        food = population[num2]\n",
        "        ## Select a random number\n",
        "        r = random.uniform(0,1)\n",
        "        if r < prob[num2]:\n",
        "          food, obj, fit, trial = generate_new_solution(\n",
        "              dimension, food_source, num2, food, fit, var_min, var_max,\n",
        "              trial, fitness_func, population, obj)\n",
        "          num2 += 1\n",
        "          search_for_food = False\n",
        "        else:\n",
        "          num2 += 1\n",
        "    # Memorize the best solution\n",
        "    candidate = np.max(fit)\n",
        "    if candidate > b_fit_solution:\n",
        "      b_index = list(fit).index(candidate)\n",
        "      b_food = np.copy(population[b_index])\n",
        "      b_fit_solution = fit[b_index]\n",
        "      b_obj = obj[b_index]\n",
        "      b_cycle = cycle\n",
        "      if show_iter:\n",
        "        print(\"____Inter values\")\n",
        "        print(population)\n",
        "        print(obj)\n",
        "        print(fit)\n",
        "        print(trial)\n",
        "    # Scout bee phase\n",
        "    ## Select one solution for which the trial is greater than limit\n",
        "    trial_val = np.max(trial)\n",
        "    num3 = list(trial).index(trial_val)\n",
        "    if trial_val > limit:\n",
        "      population[num3] = np.random.uniform(var_min,var_max,(dimension))\n",
        "      obj[num3] = fitness_func(population[num3])\n",
        "      fit[num3] = fitness_calc(obj[num3])\n",
        "      trial[num3] = 0\n",
        "  if show_iter:\n",
        "    print(\"\\n____Final values\")\n",
        "    print(population)\n",
        "    print(obj)\n",
        "    print(fit)\n",
        "    print(trial)\n",
        "  return b_food, b_obj, b_fit_solution, b_cycle\n"
      ],
      "execution_count": 6,
      "outputs": []
    },
    {
      "cell_type": "code",
      "metadata": {
        "id": "xzhhwsVzrSij",
        "colab_type": "code",
        "colab": {
          "base_uri": "https://localhost:8080/",
          "height": 343
        },
        "outputId": "f0f8e447-d5b2-4b21-daad-f7cf2e5a98c0"
      },
      "source": [
        "# ABC Problem\n",
        "\n",
        "fitness_functions = {\"Ackley function\": ackley_func, \n",
        "                     \"Alpine function\": alpine_func, \n",
        "                     \"Schwefel's function\": schwefel_func, \n",
        "                     \"Happy Cat function\": happy_cat_func,\n",
        "                     \"Brown function\": brown_func,\n",
        "                     \"Exponential function\": exponential_func}\n",
        "dimensions = [10, 20, 50]\n",
        "\n",
        "for dim in dimensions:\n",
        "  for name, func in fitness_functions.items():\n",
        "    kwargs = {\"dimension\": dim, \"fitness_func\": func, \"var_min\": 0.0, \n",
        "              \"var_max\": 10.0, \"pop_size\": 10, \"limit\": 5,\n",
        "              \"n_cycles\": 50, \"show_iter\": False}\n",
        "    b_food, b_obj, b_fit_solution, b_cycle = ABC(**kwargs)\n",
        "    print(\"dimension: %s, %s, object: %s, fitness: %s, cycle: %s\" % (\n",
        "            dim, name, b_obj, b_fit_solution, b_cycle))\n",
        "\n",
        "# print(\"\\n____Best solution:\")\n",
        "# print(\"best positions: \", b_food)\n",
        "# print(\"best object: \", b_obj)\n",
        "# print(\"best fitness: \",b_fit_solution)\n",
        "# print(\"best cycle: \", b_cycle)"
      ],
      "execution_count": 7,
      "outputs": [
        {
          "output_type": "stream",
          "text": [
            "dimension: 10, Ackley function, object: 6.917663827293989, fitness: 0.1262998811029047, cycle: 33\n",
            "dimension: 10, Alpine function, object: 1.8848250302256184, fitness: 0.34664147375405685, cycle: 25\n",
            "dimension: 10, Schwefel's function, object: 4151.147983421825, fitness: 0.00024083920033502522, cycle: 48\n",
            "dimension: 10, Happy Cat function, object: 0.9864819660656426, fitness: 0.5034025060799144, cycle: 40\n",
            "dimension: 10, Brown function, object: 1145.2640423749242, fitness: 0.0008723993452050695, cycle: 30\n",
            "dimension: 10, Exponential function, object: -1.3360302162641798e-60, fitness: 1.0, cycle: 0\n",
            "dimension: 20, Ackley function, object: 10.67964310301392, fitness: 0.08561905455329805, cycle: 48\n",
            "dimension: 20, Alpine function, object: 22.162156167390883, fitness: 0.04317387348453603, cycle: 47\n",
            "dimension: 20, Schwefel's function, object: 8304.01609972039, fitness: 0.00012040915851248834, cycle: 49\n",
            "dimension: 20, Happy Cat function, object: 12.547206612706432, fitness: 0.07381595546509659, cycle: 29\n",
            "dimension: 20, Brown function, object: 7.463649015981089e+42, fitness: 1.339827204975489e-43, cycle: 35\n",
            "dimension: 20, Exponential function, object: -1.647404996179365e-129, fitness: 1.0, cycle: 0\n",
            "dimension: 50, Ackley function, object: 13.455951127604976, fitness: 0.06917566275458745, cycle: 48\n",
            "dimension: 50, Alpine function, object: 85.94134482563948, fitness: 0.011502007497186707, cycle: 44\n",
            "dimension: 50, Schwefel's function, object: 20796.132798513194, fitness: 4.808355121295811e-05, cycle: 48\n",
            "dimension: 50, Happy Cat function, object: 28.542648995872884, fitness: 0.033849368082723395, cycle: 49\n",
            "dimension: 50, Brown function, object: 7.825267673845882e+124, fitness: 1.2779115573800305e-125, cycle: 18\n",
            "dimension: 50, Exponential function, object: -0.0, fitness: 1.0, cycle: 0\n"
          ],
          "name": "stdout"
        }
      ]
    },
    {
      "cell_type": "markdown",
      "metadata": {
        "id": "hrtqYmCdo1VQ",
        "colab_type": "text"
      },
      "source": [
        "# Outras referências\n",
        "\n",
        "* [A novel particle swarm optimization algorithm with adaptive inertia weight](https://www.sciencedirect.com/science/article/abs/pii/S156849461100055X)\n",
        "* [The particle swarm optimization algorithm: convergence analysis and parameter selection](https://www.sciencedirect.com/science/article/abs/pii/S0020019002004477)\n",
        "* [An Overview of Particle Swarm Optimization Variants](https://www.sciencedirect.com/science/article/pii/S1877705813001823)\n",
        "* [2020 Population size in Particle Swarm Optimization](https://www.sciencedirect.com/science/article/pii/S2210650220303710)\n",
        "* [Lec 10 : Particle Swarm Optimization](https://www.youtube.com/watch?v=UKx76ThMXDM)\n",
        "* [Lec 11 : Implementation of Particle Swarm Optimization using MATLAB](https://www.youtube.com/watch?v=2VJl37RWvkw)\n",
        "* [Lec 18 : Working of Artificial Bee Colony Algorithm](https://youtu.be/MAhlPwK4_fI)\n",
        "* [Lec 19 : Implementation of Artificial Bee Colony using MATLAB](https://www.youtube.com/watch?v=2Huy72h7Y20)"
      ]
    },
    {
      "cell_type": "code",
      "metadata": {
        "id": "Trp0l6HdB2uq",
        "colab_type": "code",
        "colab": {}
      },
      "source": [
        ""
      ],
      "execution_count": 7,
      "outputs": []
    }
  ]
}