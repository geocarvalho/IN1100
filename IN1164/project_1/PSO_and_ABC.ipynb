{
  "nbformat": 4,
  "nbformat_minor": 0,
  "metadata": {
    "colab": {
      "name": "PSO_and_ABC.ipynb",
      "provenance": [],
      "collapsed_sections": [],
      "authorship_tag": "ABX9TyOaLlHB3PQGshYA2sQIJyfM",
      "include_colab_link": true
    },
    "kernelspec": {
      "name": "python3",
      "display_name": "Python 3"
    }
  },
  "cells": [
    {
      "cell_type": "markdown",
      "metadata": {
        "id": "view-in-github",
        "colab_type": "text"
      },
      "source": [
        "<a href=\"https://colab.research.google.com/github/geocarvalho/uni-proj/blob/master/IN1164/project_1/PSO_and_ABC.ipynb\" target=\"_parent\"><img src=\"https://colab.research.google.com/assets/colab-badge.svg\" alt=\"Open In Colab\"/></a>"
      ]
    },
    {
      "cell_type": "markdown",
      "metadata": {
        "id": "ldjXjxI_fpHS",
        "colab_type": "text"
      },
      "source": [
        "# Implementação: \n",
        "- PSO padrão e uma variação.\n",
        "- ABC (ou Firefly) padrão e uma variação.\n",
        "\n",
        "\n",
        "Testar em 6 funções de benchmark com variação de atributos de 10, 20 e 50.\n",
        "Funções:\n",
        "- [Ackley function](http://benchmarkfcns.xyz/benchmarkfcns/ackleyfcn.html) - [em python](https://www.cs.unm.edu/~neal.holts/dga/benchmarkFunction/ackley.html)\n",
        "- [Alpine function](http://benchmarkfcns.xyz/benchmarkfcns/alpinen1fcn.html)\n",
        "- [Schwefel Function](http://benchmarkfcns.xyz/benchmarkfcns/schwefelfcn.html) - [em python](https://www.cs.unm.edu/~neal.holts/dga/benchmarkFunction/schwefel.html)\n",
        "- [Happy Cat Function](http://benchmarkfcns.xyz/benchmarkfcns/happycatfcn.html) \n",
        "- [Brown function](http://benchmarkfcns.xyz/benchmarkfcns/brownfcn.html)\n",
        "- [Exponential function](http://benchmarkfcns.xyz/benchmarkfcns/exponentialfcn.html)\n",
        "\n",
        "Para funções olhar o site: http://benchmarkfcns.xyz/\n",
        "\n",
        "# Funções de fitness\n"
      ]
    },
    {
      "cell_type": "code",
      "metadata": {
        "id": "Au52g_W1XP1O",
        "colab_type": "code",
        "colab": {}
      },
      "source": [
        "import math\n",
        "import random\n",
        "import numpy as np\n",
        "\n",
        "def simple_func(position):\n",
        "  \"\"\" Simple function that models the problem \"\"\"\n",
        "  return position[0]**2 + position[1]**2 + 1\n",
        "\n",
        "def sphere_func(positions):\n",
        "  \"\"\" Sphere function \n",
        "  http://benchmarkfcns.xyz/benchmarkfcns/spherefcn.html\"\"\"\n",
        "  c = np.array(positions)\n",
        "  x = c**2\n",
        "  return np.sum(x)\n",
        "\n",
        "def ackley_func(positions):\n",
        "  \"\"\" Ackley function\"\"\"\n",
        "  c = np.array(positions)\n",
        "  firstSum = np.sum(c**2.0)\n",
        "  secondSum = np.sum(np.cos(2.0*math.pi*c))\n",
        "  n = float(len(positions))\n",
        "  return -20.0*math.exp(-0.2*math.sqrt(firstSum/n)) - math.exp(secondSum/n) + 20 + math.e\n",
        "\n",
        "def alpine_func(positions):\n",
        "  \"\"\" Alpine function \"\"\"\n",
        "  c = np.array(positions)\n",
        "  scores = np.sum(abs(c * np.sin(c) + 0.1*c))\n",
        "  return scores\n",
        "\n",
        "def schwefel_func(positions):\n",
        "  \"\"\"F7 Schwefel's function\n",
        "  multimodal, asymmetric, separable\"\"\"\n",
        "  c = np.array(positions)\n",
        "  n = len(c)\n",
        "  alpha = 418.982887\n",
        "  fitness = np.sum(c * np.sin(np.sqrt(abs(c))))\n",
        "  return alpha * n - fitness\n",
        "\n",
        "def happy_cat_func(positions):\n",
        "  \"\"\" Happy Cat function \"\"\"\n",
        "  alpha = 0.5\n",
        "  c = np.array(positions)\n",
        "  n = len(c)\n",
        "  x2 = np.sum(c*c)\n",
        "  scores = (((x2 - n)**2)**alpha + (0.5*x2 + np.sum(c)))/ (n + 0.5)\n",
        "  return scores\n",
        "\n",
        "def brown_func(positions):\n",
        "  \"\"\" Brown function \"\"\"\n",
        "  c = np.array(positions)\n",
        "  n = len(c)\n",
        "  x = c**2\n",
        "  scores = 0\n",
        "  for i in range(n-1):\n",
        "    scores = scores + x[i]**(x[i+1] + 1) + x[i+1]**(x[i]+1)\n",
        "  return scores\n",
        "\n",
        "def exponential_func(positions):\n",
        "  \"\"\" Exponential function \"\"\"\n",
        "  c = np.array(positions)\n",
        "  x2 = c**2\n",
        "  scores = -np.exp(-0.5 * np.sum(x2))\n",
        "  return scores\n"
      ],
      "execution_count": null,
      "outputs": []
    },
    {
      "cell_type": "markdown",
      "metadata": {
        "id": "L6WM35o7X1Rl",
        "colab_type": "text"
      },
      "source": [
        "# PSO padrão\n",
        "\n",
        "* [1995 Particle swarm optimization](https://ieeexplore.ieee.org/abstract/document/488968)\n",
        "* [1998 A Modified Particle Swarm Optimizer](https://ieeexplore.ieee.org/document/699146)"
      ]
    },
    {
      "cell_type": "code",
      "metadata": {
        "id": "deK75GBtRCdD",
        "colab_type": "code",
        "colab": {}
      },
      "source": [
        "def PSO(problem, dimension, var_min, var_max, n_iterations, n_particles,\n",
        "        wdamp, w, c1, c2, show_iter):\n",
        "  \"\"\" PSO algorithm \"\"\"\n",
        "  # Inicialization\n",
        "  # np.seterr(over='ignore')\n",
        "  particle_position_vector = np.random.uniform(var_min,var_max,(\n",
        "      n_particles, dimension))\n",
        "  pbest_position = particle_position_vector\n",
        "  pbest_fitness_value = np.full(shape=n_particles, fill_value=float('inf'))\n",
        "  gbest_fitness_value = float('inf')\n",
        "  gbest_position = np.array([float('inf'), float('inf')])\n",
        "  velocity_vector = np.zeros(shape=(n_particles, dimension))\n",
        "  iteration = 0\n",
        "\n",
        "  # Start iterations\n",
        "  while iteration < n_iterations:\n",
        "    for p in range(n_particles):\n",
        "      fitness_candidate = problem(particle_position_vector[p])\n",
        "      \n",
        "      # Calculate pbest\n",
        "      if pbest_fitness_value[p] > fitness_candidate:\n",
        "        pbest_fitness_value[p] = fitness_candidate\n",
        "        pbest_position[p] = particle_position_vector[p]\n",
        "      \n",
        "      # Calculate gbest\n",
        "      if gbest_fitness_value > fitness_candidate:\n",
        "        gbest_fitness_value = fitness_candidate\n",
        "        gbest_position = particle_position_vector[p]\n",
        "    if show_iter:\n",
        "      print(gbest_fitness_value, \" :\", gbest_position)\n",
        "    \n",
        "    # Update velocity of each particle\n",
        "    for p in range(n_particles):\n",
        "      new_velocity = (w * velocity_vector[p]) + \\\n",
        "      ((c1 * random.random()) * (pbest_position[p] - particle_position_vector[p])) + \\\n",
        "      ((c2 * random.random()) * (gbest_position - particle_position_vector[p]))\n",
        "      new_position = new_velocity + particle_position_vector[p]\n",
        "      particle_position_vector[p] = new_position\n",
        "\n",
        "    iteration += 1\n",
        "    w *= wdamp\n",
        "\n",
        "  # print(\"The best position is: \", gbest_position, \" with value of \", gbest_fitness_value,\n",
        "  #       \" in iteration number \", iteration)\n",
        "  return gbest_position, gbest_fitness_value"
      ],
      "execution_count": null,
      "outputs": []
    },
    {
      "cell_type": "code",
      "metadata": {
        "id": "TxPiKLAmdPE2",
        "colab_type": "code",
        "colab": {
          "base_uri": "https://localhost:8080/",
          "height": 354
        },
        "outputId": "a5828388-c732-4570-e7c8-15e2f18b7fd0"
      },
      "source": [
        "# Problem definition\n",
        "fitness_functions = {\"Ackley function\": ackley_func, \n",
        "                     \"Alpine function\": alpine_func, \n",
        "                     \"Schwefel's function\": schwefel_func, \n",
        "                     \"Happy Cat function\": happy_cat_func,\n",
        "                     \"Brown function\": brown_func,\n",
        "                     \"Exponential function\": exponential_func}\n",
        "dimensions = [10, 20, 50]\n",
        "\n",
        "for dim in dimensions:\n",
        "  for name, func in fitness_functions.items():\n",
        "    kwargs = {\"problem\": func, \"dimension\": dim, \"var_min\": -10, \n",
        "              \"var_max\": 10, \"n_iterations\": 30, \"n_particles\": 50,\n",
        "              \"wdamp\": 0.99, \"w\": 1, \"c1\": 2, \"c2\": 2, \"show_iter\": False}\n",
        "    gbest_pos, gbest_value = PSO(**kwargs)\n",
        "    print(\"For dimension %s using the %s, the gbest was: %s\" % (dim, name, gbest_value))"
      ],
      "execution_count": null,
      "outputs": [
        {
          "output_type": "stream",
          "text": [
            "For dimension 10 using the Ackley function, the gbest was: 3.915421669265641\n",
            "For dimension 10 using the Alpine function, the gbest was: 3.7860278799787066\n",
            "For dimension 10 using the Schwefel's function, the gbest was: 4149.781805058077\n",
            "For dimension 10 using the Happy Cat function, the gbest was: 0.6541087149515272\n",
            "For dimension 10 using the Brown function, the gbest was: 33.463181132317594\n",
            "For dimension 10 using the Exponential function, the gbest was: -0.010342054296966791\n"
          ],
          "name": "stdout"
        },
        {
          "output_type": "stream",
          "text": [
            "/usr/local/lib/python3.6/dist-packages/ipykernel_launcher.py:55: RuntimeWarning: overflow encountered in double_scalars\n"
          ],
          "name": "stderr"
        },
        {
          "output_type": "stream",
          "text": [
            "For dimension 20 using the Ackley function, the gbest was: 6.436154939649434\n",
            "For dimension 20 using the Alpine function, the gbest was: 13.763747796540372\n",
            "For dimension 20 using the Schwefel's function, the gbest was: 8298.608960497542\n",
            "For dimension 20 using the Happy Cat function, the gbest was: 1.9717850518919877\n",
            "For dimension 20 using the Brown function, the gbest was: 14602.903672688088\n",
            "For dimension 20 using the Exponential function, the gbest was: -5.715374523596763e-12\n",
            "For dimension 50 using the Ackley function, the gbest was: 8.521931481667345\n",
            "For dimension 50 using the Alpine function, the gbest was: 53.798887881288856\n",
            "For dimension 50 using the Schwefel's function, the gbest was: 20773.04886869769\n",
            "For dimension 50 using the Happy Cat function, the gbest was: 2.9374231654057277\n",
            "For dimension 50 using the Brown function, the gbest was: 5708779502.177752\n",
            "For dimension 50 using the Exponential function, the gbest was: -6.745876194841163e-45\n"
          ],
          "name": "stdout"
        }
      ]
    },
    {
      "cell_type": "markdown",
      "metadata": {
        "id": "c5PGJG1yoXSw",
        "colab_type": "text"
      },
      "source": [
        "# Variação do PSO\n",
        "\n",
        "* [2002 The particle swarm - explosion, stability, and convergence in a multidimensional complex space](https://ieeexplore.ieee.org/abstract/document/985692)\n",
        "\n",
        "> Constriction coefficients\n",
        "\n",
        "$\\chi = \\frac{2k}{|2 - \\phi - \\sqrt{\\phi^2 - 4\\phi}|}$\n",
        "\n",
        "* Onde $0\\leq k \\leq 1$ e $\\phi_1, \\phi_2 = 2.05$;\n",
        "* Valor de $k=1$;\n",
        "* Substituições $w = \\chi$, $c_1 = \\chi.\\phi_1$ e $c_2 = \\chi.\\phi_2$.\n",
        "* Além disso, $\\phi = \\phi_1 + \\phi_2 \\geq 4$"
      ]
    },
    {
      "cell_type": "code",
      "metadata": {
        "id": "JvpBb4QbgOsm",
        "colab_type": "code",
        "colab": {}
      },
      "source": [
        "def PSO_cc(problem, dimension, var_min, var_max, n_iterations, n_particles,\n",
        "        wdamp, w, c1, c2, show_iter):\n",
        "  \"\"\" PSO algorithm \"\"\"\n",
        "  # Inicialization\n",
        "  # np.seterr(over='ignore')\n",
        "  particle_position_vector = np.random.uniform(var_min,var_max,(\n",
        "      n_particles, dimension))\n",
        "  pbest_position = particle_position_vector\n",
        "  pbest_fitness_value = np.full(shape=n_particles, fill_value=float('inf'))\n",
        "  gbest_fitness_value = float('inf')\n",
        "  gbest_position = np.array([float('inf'), float('inf')])\n",
        "  velocity_vector = np.zeros(shape=(n_particles, dimension))\n",
        "  iteration = 0\n",
        "\n",
        "  # Start iterations\n",
        "  while iteration < n_iterations:\n",
        "    for p in range(n_particles):\n",
        "      fitness_candidate = problem(particle_position_vector[p])\n",
        "      \n",
        "      # Calculate pbest\n",
        "      if pbest_fitness_value[p] > fitness_candidate:\n",
        "        pbest_fitness_value[p] = fitness_candidate\n",
        "        pbest_position[p] = particle_position_vector[p]\n",
        "      \n",
        "      # Calculate gbest\n",
        "      if gbest_fitness_value > fitness_candidate:\n",
        "        gbest_fitness_value = fitness_candidate\n",
        "        gbest_position = particle_position_vector[p]\n",
        "    if show_iter:\n",
        "      print(gbest_fitness_value, \" :\", gbest_position)\n",
        "    \n",
        "    # Update velocity of each particle\n",
        "    for p in range(n_particles):\n",
        "      new_velocity = (w * velocity_vector[p]) + \\\n",
        "      ((c1 * random.random()) * (pbest_position[p] - particle_position_vector[p])) + \\\n",
        "      ((c2 * random.random()) * (gbest_position - particle_position_vector[p]))\n",
        "      new_position = new_velocity + particle_position_vector[p]\n",
        "      particle_position_vector[p] = new_position\n",
        "\n",
        "    iteration += 1\n",
        "    w *= wdamp\n",
        "\n",
        "  # print(\"The best position is: \", gbest_position, \" with value of \", gbest_fitness_value,\n",
        "  #       \" in iteration number \", iteration)\n",
        "  return gbest_position, gbest_fitness_value"
      ],
      "execution_count": null,
      "outputs": []
    },
    {
      "cell_type": "code",
      "metadata": {
        "id": "weTK_cygo7tE",
        "colab_type": "code",
        "colab": {
          "base_uri": "https://localhost:8080/",
          "height": 336
        },
        "outputId": "01cddd27-6504-41a1-fcba-969b51197d95"
      },
      "source": [
        "# Problem definition\n",
        "fitness_functions = {\"Ackley function\": ackley_func, \n",
        "                     \"Alpine function\": alpine_func, \n",
        "                     \"Schwefel's function\": schwefel_func, \n",
        "                     \"Happy Cat function\": happy_cat_func,\n",
        "                     \"Brown function\": brown_func,\n",
        "                     \"Exponential function\": exponential_func}\n",
        "dimensions = [10, 20, 50]\n",
        "\n",
        "phi1 = 2.05\n",
        "phi2 = 2.05\n",
        "phi = phi1 + phi2\n",
        "kappa = 1\n",
        "chi = 2*kappa/(abs(2-phi-math.sqrt(phi**2 - 4*phi)))\n",
        "\n",
        "for dim in dimensions:\n",
        "  for name, func in fitness_functions.items():\n",
        "    kwargs = {\"problem\": func, \"dimension\": dim, \"var_min\": -10, \n",
        "              \"var_max\": 10, \"n_iterations\": 1000, \"n_particles\": 50,\n",
        "              \"wdamp\": 1, \"w\": chi, \"c1\": chi*phi1, \"c2\": chi*phi2, \"show_iter\": False}\n",
        "    gbest_pos, gbest_value = PSO_cc(**kwargs)\n",
        "    print(\"For dimension %s using the %s, the gbest was: %s\" % (dim, name, gbest_value))"
      ],
      "execution_count": null,
      "outputs": [
        {
          "output_type": "stream",
          "text": [
            "For dimension 10 using the Ackley function, the gbest was: 5.482614393629319\n",
            "For dimension 10 using the Alpine function, the gbest was: 5.284884444645204\n",
            "For dimension 10 using the Schwefel's function, the gbest was: 4162.266288272899\n",
            "For dimension 10 using the Happy Cat function, the gbest was: 1.2984748809579425\n",
            "For dimension 10 using the Brown function, the gbest was: 21.2898701014414\n",
            "For dimension 10 using the Exponential function, the gbest was: -8.492091376944449e-06\n",
            "For dimension 20 using the Ackley function, the gbest was: 7.438340349306808\n",
            "For dimension 20 using the Alpine function, the gbest was: 19.522356352826066\n",
            "For dimension 20 using the Schwefel's function, the gbest was: 8318.120414521023\n",
            "For dimension 20 using the Happy Cat function, the gbest was: 1.7546537364132178\n",
            "For dimension 20 using the Brown function, the gbest was: 945.6573796677054\n",
            "For dimension 20 using the Exponential function, the gbest was: -1.1184914514302178e-09\n",
            "For dimension 50 using the Ackley function, the gbest was: 7.749445107809979\n",
            "For dimension 50 using the Alpine function, the gbest was: 50.10223817713934\n",
            "For dimension 50 using the Schwefel's function, the gbest was: 20864.370401993336\n",
            "For dimension 50 using the Happy Cat function, the gbest was: 5.627485953004483\n",
            "For dimension 50 using the Brown function, the gbest was: 1.336418622333648e+16\n",
            "For dimension 50 using the Exponential function, the gbest was: -2.2137158532256967e-48\n"
          ],
          "name": "stdout"
        }
      ]
    },
    {
      "cell_type": "markdown",
      "metadata": {
        "id": "hrtqYmCdo1VQ",
        "colab_type": "text"
      },
      "source": [
        "# Outras referências\n",
        "\n",
        "* [A novel particle swarm optimization algorithm with adaptive inertia weight](https://www.sciencedirect.com/science/article/abs/pii/S156849461100055X)\n",
        "* [The particle swarm optimization algorithm: convergence analysis and parameter selection](https://www.sciencedirect.com/science/article/abs/pii/S0020019002004477)\n",
        "* [An Overview of Particle Swarm Optimization Variants](https://www.sciencedirect.com/science/article/pii/S1877705813001823)\n",
        "* [2020 Population size in Particle Swarm Optimization](https://www.sciencedirect.com/science/article/pii/S2210650220303710)"
      ]
    },
    {
      "cell_type": "code",
      "metadata": {
        "id": "rYuqJ7hRo3w2",
        "colab_type": "code",
        "colab": {
          "base_uri": "https://localhost:8080/",
          "height": 638
        },
        "outputId": "26581e95-27a1-4162-8ba8-e811a964ba25"
      },
      "source": [
        "def fitness_calc(value):\n",
        "  \"\"\" Calculate the fitness based on the object function result \"\"\"\n",
        "  if value >= 0:\n",
        "    return 1/(1+value)\n",
        "  else:\n",
        "    return 1 + abs(value)\n",
        "\n",
        "# Problem\n",
        "dimension = 4\n",
        "fitness_func = sphere_func\n",
        "var_min = 0.0\n",
        "var_max = 10.0\n",
        "\n",
        "# Fix parameters\n",
        "s = 10\n",
        "t = 10\n",
        "limit = 1\n",
        "phi = 0.81 # how does this work?\n",
        "\n",
        "employed_bees = int(s/2)\n",
        "onlooker_bees = int(s/2)\n",
        "food_source = int(s/2)\n",
        "\n",
        "# Initialization\n",
        "## The food source population with 4 variables, create random value 0<x<10\n",
        "population = np.random.uniform(var_min,var_max,(food_source, dimension)) # not randint\n",
        "print(population)\n",
        "## Calculate the object function for each food source\n",
        "obj = np.apply_along_axis(fitness_func, 1, population)\n",
        "## Calculate randintfitness of the population\n",
        "print(obj)\n",
        "fit = np.array([fitness_calc(value) for value in obj])\n",
        "print(fit)\n",
        "## Generate initial trial vector\n",
        "trial = np.zeros(food_source)\n",
        "print(trial)\n",
        "\n",
        "# Employed bee phase 4:15\n",
        "print(\"\\nEmployed bee phase\")\n",
        "for num, food in enumerate(population, start=0):\n",
        "  ## Select a random variable to change\n",
        "  var_index_lst = list(range(dimension))\n",
        "  var_index = random.choice(var_index_lst)\n",
        "  food_var = food[var_index]\n",
        "  ## Select a random partner\n",
        "  partner_index_lst = list(range(food_source))\n",
        "  partner_index_lst.remove(num)\n",
        "  partner_index = random.choice(partner_index_lst)\n",
        "  partner = population[partner_index]\n",
        "  partner_var = partner[var_index]\n",
        "  print(food)\n",
        "  print(food_var, partner, partner_var)\n",
        "  ## Create a new food location\n",
        "  x_new = food_var + (phi*(food_var - partner_var))\n",
        "  ## And if the value is ok? how we put the value in the matrix?\n",
        "  ## Evaluate the fitness\n",
        "  new_obj = fitness_func(food[var_index])\n",
        "  new_fit = fitness_calc(new_obj)\n",
        "  print(\"New fit: \", new_fit)\n",
        "  ## Perform greedy selection\n",
        "  if new_fit > fit[num]:\n",
        "    ## Check if the new location violates the lower bound (0<=x<=10)\n",
        "    if not var_min <= x_new <= var_max:\n",
        "      if x_new < var_min:\n",
        "        food[var_index] = var_min\n",
        "      else:\n",
        "        food[var_index] = var_max\n",
        "    else:\n",
        "      food[var_index] = x_new\n",
        "    fit[num] = new_fit\n",
        "    obj[num] = new_obj\n",
        "    trial[num] = 0.0\n",
        "  else:\n",
        "    trial[num] += 1.0\n",
        "# Calculate the probability values\n",
        "max = np.max(fit)\n",
        "prob = ((fit/max)*0.9)+0.1\n",
        "# Onlooker bee phase\n",
        "## Select a random number\n",
        "r = random.uniform(0,1)\n",
        "print(population)\n",
        "print(obj)\n",
        "print(fit)\n",
        "print(trial)\n",
        "print(prob)\n",
        "print(max)"
      ],
      "execution_count": null,
      "outputs": [
        {
          "output_type": "stream",
          "text": [
            "[[3.24480926 3.74219929 3.0638216  3.61559063]\n",
            " [5.13366782 5.77376883 4.34102101 5.21528388]\n",
            " [7.31795865 0.13275969 7.93992166 7.43270767]\n",
            " [2.86633084 4.83379076 1.26512182 3.84093862]\n",
            " [4.53713736 1.54546703 3.60086612 1.15078676]]\n",
            "[ 46.99234106 105.73460116 171.85764327  47.9347283   37.26463073]\n",
            "[0.02083666 0.00936903 0.00578511 0.02043538 0.02613379]\n",
            "[0. 0. 0. 0. 0.]\n",
            "\n",
            "Employed bee phase\n",
            "[3.24480926 3.74219929 3.0638216  3.61559063]\n",
            "3.615590625464681 [5.13366782 5.77376883 4.34102101 5.21528388] 5.215283875659361\n",
            "New fit:  0.07106060150869378\n",
            "[5.13366782 5.77376883 4.34102101 5.21528388]\n",
            "5.773768832701087 [7.31795865 0.13275969 7.93992166 7.43270767] 0.13275968663708615\n",
            "New fit:  0.029123606718286583\n",
            "[7.31795865 0.13275969 7.93992166 7.43270767]\n",
            "7.31795865362415 [2.86633084 4.83379076 1.26512182 3.84093862] 2.866330838587463\n",
            "New fit:  0.018330959247488846\n",
            "[2.86633084 4.83379076 1.26512182 3.84093862]\n",
            "1.2651218212796989 [3.24480926 3.74219929 3.0638216  2.31983909] 3.063821603063558\n",
            "New fit:  0.3845365216946497\n",
            "[4.53713736 1.54546703 3.60086612 1.15078676]\n",
            "1.5454670343817511 [10.          0.13275969  7.93992166  7.43270767] 0.13275968663708615\n",
            "New fit:  0.29511858911506994\n",
            "[[ 3.24480926  3.74219929  3.0638216   2.31983909]\n",
            " [ 5.13366782 10.          4.34102101  5.21528388]\n",
            " [10.          0.13275969  7.93992166  7.43270767]\n",
            " [ 2.86633084  4.83379076  0.          3.84093862]\n",
            " [ 4.53713736  2.68975999  3.60086612  1.15078676]]\n",
            "[13.07249557 33.33640653 53.55251886  1.60053322  2.38846835]\n",
            "[0.0710606  0.02912361 0.01833096 0.38453652 0.29511859]\n",
            "[0. 0. 0. 0. 0.]\n",
            "[0.26631591 0.16816322 0.14290324 1.         0.79071913]\n",
            "0.3845365216946497\n"
          ],
          "name": "stdout"
        }
      ]
    },
    {
      "cell_type": "code",
      "metadata": {
        "id": "xzhhwsVzrSij",
        "colab_type": "code",
        "colab": {
          "base_uri": "https://localhost:8080/",
          "height": 34
        },
        "outputId": "6a6f4f4b-1460-40a1-f88f-214623640762"
      },
      "source": [
        "r = random.uniform(0,1)\n",
        "r"
      ],
      "execution_count": null,
      "outputs": [
        {
          "output_type": "execute_result",
          "data": {
            "text/plain": [
              "0.20948991341798717"
            ]
          },
          "metadata": {
            "tags": []
          },
          "execution_count": 18
        }
      ]
    },
    {
      "cell_type": "code",
      "metadata": {
        "id": "TdPedcq-6gxR",
        "colab_type": "code",
        "colab": {
          "base_uri": "https://localhost:8080/",
          "height": 70
        },
        "outputId": "89a37f95-12f7-4c5a-d811-0b0a4048cb9d"
      },
      "source": [
        "lista = list(range(dimension))\n",
        "print(lista)\n",
        "num = random.choice(lista)\n",
        "lista.remove(num)\n",
        "print(lista)\n",
        "print(num)"
      ],
      "execution_count": null,
      "outputs": [
        {
          "output_type": "stream",
          "text": [
            "[0, 1, 2, 3]\n",
            "[0, 1, 2]\n",
            "3\n"
          ],
          "name": "stdout"
        }
      ]
    },
    {
      "cell_type": "code",
      "metadata": {
        "id": "d4Dr7g39jtfT",
        "colab_type": "code",
        "colab": {}
      },
      "source": [
        ""
      ],
      "execution_count": null,
      "outputs": []
    }
  ]
}