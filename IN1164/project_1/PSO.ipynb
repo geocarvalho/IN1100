{
  "nbformat": 4,
  "nbformat_minor": 0,
  "metadata": {
    "colab": {
      "name": "PSO.ipynb",
      "provenance": [],
      "collapsed_sections": [],
      "authorship_tag": "ABX9TyOZEVVP3O8mcI4vo4iJieSd",
      "include_colab_link": true
    },
    "kernelspec": {
      "name": "python3",
      "display_name": "Python 3"
    }
  },
  "cells": [
    {
      "cell_type": "markdown",
      "metadata": {
        "id": "view-in-github",
        "colab_type": "text"
      },
      "source": [
        "<a href=\"https://colab.research.google.com/github/geocarvalho/uni-proj/blob/master/IN1164/project_1/PSO.ipynb\" target=\"_parent\"><img src=\"https://colab.research.google.com/assets/colab-badge.svg\" alt=\"Open In Colab\"/></a>"
      ]
    },
    {
      "cell_type": "markdown",
      "metadata": {
        "id": "ldjXjxI_fpHS",
        "colab_type": "text"
      },
      "source": [
        "# Implementação: \n",
        "- PSO padrão e uma variação.\n",
        "- ABC (ou Firefly) padrão e uma variação.\n",
        "\n",
        "\n",
        "Testar em 6 funções de benchmark com variação de atributos de 10, 20 e 50.\n",
        "Funções:\n",
        "- [Ackley function](http://benchmarkfcns.xyz/benchmarkfcns/ackleyfcn.html) - [em python](https://www.cs.unm.edu/~neal.holts/dga/benchmarkFunction/ackley.html)\n",
        "- [Alpine function](http://benchmarkfcns.xyz/benchmarkfcns/alpinen1fcn.html)\n",
        "- [Schwefel Function](http://benchmarkfcns.xyz/benchmarkfcns/schwefelfcn.html) - [em python](https://www.cs.unm.edu/~neal.holts/dga/benchmarkFunction/schwefel.html)\n",
        "- [Happy Cat Function](http://benchmarkfcns.xyz/benchmarkfcns/happycatfcn.html) \n",
        "- [Brown function](http://benchmarkfcns.xyz/benchmarkfcns/brownfcn.html)\n",
        "- [Exponential function](http://benchmarkfcns.xyz/benchmarkfcns/exponentialfcn.html)\n",
        "\n",
        "Para funções olhar o site: http://benchmarkfcns.xyz/\n",
        "\n",
        "# Funções de fitness\n"
      ]
    },
    {
      "cell_type": "code",
      "metadata": {
        "id": "Au52g_W1XP1O",
        "colab_type": "code",
        "colab": {}
      },
      "source": [
        "import math\n",
        "import random\n",
        "import numpy as np\n",
        "\n",
        "def simple_func(position):\n",
        "  \"\"\" Simple function that models the problem \"\"\"\n",
        "  return position[0]**2 + position[1]**2 + 1\n",
        "\n",
        "def sphere_func(positions):\n",
        "  \"\"\" Sphere function \n",
        "  http://benchmarkfcns.xyz/benchmarkfcns/spherefcn.html\"\"\"\n",
        "  c = np.array(positions)\n",
        "  x = c**2\n",
        "  return np.sum(x)\n",
        "\n",
        "def ackley_func(positions):\n",
        "  \"\"\" Ackley function\"\"\"\n",
        "  c = np.array(positions)\n",
        "  firstSum = np.sum(c**2.0)\n",
        "  secondSum = np.sum(np.cos(2.0*math.pi*c))\n",
        "  n = float(len(positions))\n",
        "  return -20.0*math.exp(-0.2*math.sqrt(firstSum/n)) - math.exp(secondSum/n) + 20 + math.e\n",
        "\n",
        "def alpine_func(positions):\n",
        "  \"\"\" Alpine function \"\"\"\n",
        "  c = np.array(positions)\n",
        "  scores = np.sum(abs(c * np.sin(c) + 0.1*c))\n",
        "  return scores\n",
        "\n",
        "def schwefel_func(positions):\n",
        "  \"\"\"F7 Schwefel's function\n",
        "  multimodal, asymmetric, separable\"\"\"\n",
        "  c = np.array(positions)\n",
        "  n = len(c)\n",
        "  alpha = 418.982887\n",
        "  fitness = np.sum(c * np.sin(np.sqrt(abs(c))))\n",
        "  return alpha * n - fitness\n",
        "\n",
        "def happy_cat_func(positions):\n",
        "  \"\"\" Happy Cat function \"\"\"\n",
        "  alpha = 0.5\n",
        "  c = np.array(positions)\n",
        "  n = len(c)\n",
        "  x2 = np.sum(c*c)\n",
        "  scores = (((x2 - n)**2)**alpha + (0.5*x2 + np.sum(c)))/ (n + 0.5)\n",
        "  return scores\n",
        "\n",
        "def brown_func(positions):\n",
        "  \"\"\" Brown function \"\"\"\n",
        "  c = np.array(positions)\n",
        "  n = len(c)\n",
        "  x = c**2\n",
        "  scores = 0\n",
        "  for i in range(n-1):\n",
        "    scores = scores + x[i]**(x[i+1] + 1) + x[i+1]**(x[i]+1)\n",
        "  return scores\n",
        "\n",
        "def exponential_func(positions):\n",
        "  \"\"\" Exponential function \"\"\"\n",
        "  c = np.array(positions)\n",
        "  x2 = c**2\n",
        "  scores = -np.exp(-0.5 * np.sum(x2))\n",
        "  return scores\n"
      ],
      "execution_count": 10,
      "outputs": []
    },
    {
      "cell_type": "markdown",
      "metadata": {
        "id": "L6WM35o7X1Rl",
        "colab_type": "text"
      },
      "source": [
        "# PSO padrão\n",
        "\n",
        "* [1995 Particle swarm optimization](https://ieeexplore.ieee.org/abstract/document/488968)\n",
        "* [1998 A Modified Particle Swarm Optimizer](https://ieeexplore.ieee.org/document/699146)"
      ]
    },
    {
      "cell_type": "code",
      "metadata": {
        "id": "deK75GBtRCdD",
        "colab_type": "code",
        "colab": {}
      },
      "source": [
        "def PSO(problem, dimension, var_min, var_max, n_iterations, n_particles,\n",
        "        wdamp, w, c1, c2, show_iter):\n",
        "  \"\"\" PSO algorithm \"\"\"\n",
        "  # Inicialization\n",
        "  # np.seterr(over='ignore')\n",
        "  particle_position_vector = np.random.uniform(var_min,var_max,(\n",
        "      n_particles, dimension))\n",
        "  pbest_position = particle_position_vector\n",
        "  pbest_fitness_value = np.full(shape=n_particles, fill_value=float('inf'))\n",
        "  gbest_fitness_value = float('inf')\n",
        "  gbest_position = np.array([float('inf'), float('inf')])\n",
        "  velocity_vector = np.zeros(shape=(n_particles, dimension))\n",
        "  iteration = 0\n",
        "\n",
        "  # Start iterations\n",
        "  while iteration < n_iterations:\n",
        "    for p in range(n_particles):\n",
        "      fitness_candidate = problem(particle_position_vector[p])\n",
        "      \n",
        "      # Calculate pbest\n",
        "      if pbest_fitness_value[p] > fitness_candidate:\n",
        "        pbest_fitness_value[p] = fitness_candidate\n",
        "        pbest_position[p] = particle_position_vector[p]\n",
        "      \n",
        "      # Calculate gbest\n",
        "      if gbest_fitness_value > fitness_candidate:\n",
        "        gbest_fitness_value = fitness_candidate\n",
        "        gbest_position = particle_position_vector[p]\n",
        "    if show_iter:\n",
        "      print(gbest_fitness_value, \" :\", gbest_position)\n",
        "    \n",
        "    # Update velocity of each particle\n",
        "    for p in range(n_particles):\n",
        "      new_velocity = (w * velocity_vector[p]) + \\\n",
        "      ((c1 * random.random()) * (pbest_position[p] - particle_position_vector[p])) + \\\n",
        "      ((c2 * random.random()) * (gbest_position - particle_position_vector[p]))\n",
        "      new_position = new_velocity + particle_position_vector[p]\n",
        "      particle_position_vector[p] = new_position\n",
        "\n",
        "    iteration += 1\n",
        "    w *= wdamp\n",
        "\n",
        "  # print(\"The best position is: \", gbest_position, \" with value of \", gbest_fitness_value,\n",
        "  #       \" in iteration number \", iteration)\n",
        "  return gbest_position, gbest_fitness_value"
      ],
      "execution_count": 8,
      "outputs": []
    },
    {
      "cell_type": "code",
      "metadata": {
        "id": "TxPiKLAmdPE2",
        "colab_type": "code",
        "colab": {
          "base_uri": "https://localhost:8080/",
          "height": 336
        },
        "outputId": "693202cc-abc4-4735-cf44-01cd44731389"
      },
      "source": [
        "# Problem definition\n",
        "fitness_functions = {\"Ackley function\": ackley_func, \n",
        "                     \"Alpine function\": alpine_func, \n",
        "                     \"Schwefel's function\": schwefel_func, \n",
        "                     \"Happy Cat function\": happy_cat_func,\n",
        "                     \"Brown function\": brown_func,\n",
        "                     \"Exponential function\": exponential_func}\n",
        "dimensions = [10, 20, 50]\n",
        "\n",
        "for dim in dimensions:\n",
        "  for name, func in fitness_functions.items():\n",
        "    kwargs = {\"problem\": func, \"dimension\": dim, \"var_min\": -10, \n",
        "              \"var_max\": 10, \"n_iterations\": 1000, \"n_particles\": 50,\n",
        "              \"wdamp\": 0.99, \"w\": 1, \"c1\": 2, \"c2\": 2, \"show_iter\": False}\n",
        "    gbest_pos, gbest_value = PSO(**kwargs)\n",
        "    print(\"For dimension %s using the %s, the gbest was: %s\" % (dim, name, gbest_value))"
      ],
      "execution_count": 9,
      "outputs": [
        {
          "output_type": "stream",
          "text": [
            "For dimension 10 using the Ackley function, the gbest was: 4.836432354192709\n",
            "For dimension 10 using the Alpine function, the gbest was: 4.762118976567248\n",
            "For dimension 10 using the Schwefel's function, the gbest was: 4153.872640208571\n",
            "For dimension 10 using the Happy Cat function, the gbest was: 0.9507230529595402\n",
            "For dimension 10 using the Brown function, the gbest was: 6.795120099016241\n",
            "For dimension 10 using the Exponential function, the gbest was: -0.24433214712703163\n",
            "For dimension 20 using the Ackley function, the gbest was: 7.585733200554342\n",
            "For dimension 20 using the Alpine function, the gbest was: 17.372731716325294\n",
            "For dimension 20 using the Schwefel's function, the gbest was: 8330.831575163122\n",
            "For dimension 20 using the Happy Cat function, the gbest was: 1.0969676118090352\n",
            "For dimension 20 using the Brown function, the gbest was: 408.26967787457176\n",
            "For dimension 20 using the Exponential function, the gbest was: -3.523722372723226e-08\n",
            "For dimension 50 using the Ackley function, the gbest was: 9.169364494425844\n",
            "For dimension 50 using the Alpine function, the gbest was: 46.11069621400274\n",
            "For dimension 50 using the Schwefel's function, the gbest was: 20864.23542343482\n",
            "For dimension 50 using the Happy Cat function, the gbest was: 3.2899311617766833\n",
            "For dimension 50 using the Brown function, the gbest was: 2.78850022225391e+19\n",
            "For dimension 50 using the Exponential function, the gbest was: -2.0278190790951573e-43\n"
          ],
          "name": "stdout"
        }
      ]
    },
    {
      "cell_type": "markdown",
      "metadata": {
        "id": "c5PGJG1yoXSw",
        "colab_type": "text"
      },
      "source": [
        "# Variação do PSO\n",
        "\n",
        "* [2002 The particle swarm - explosion, stability, and convergence in a multidimensional complex space](https://ieeexplore.ieee.org/abstract/document/985692)\n",
        "\n",
        "> Constriction coefficients\n",
        "\n",
        "$\\chi = \\frac{2k}{|2 - \\phi - \\sqrt{\\phi^2 - 4\\phi}|}$\n",
        "\n",
        "* Onde $0\\leq k \\leq 1$ e $\\phi_1, \\phi_2 = 2.05$;\n",
        "* Valor de $k=1$;\n",
        "* Substituições $w = \\chi$, $c_1 = \\chi.\\phi_1$ e $c_2 = \\chi.\\phi_2$.\n",
        "* Além disso, $\\phi = \\phi_1 + \\phi_2 \\geq 4$"
      ]
    },
    {
      "cell_type": "code",
      "metadata": {
        "id": "JvpBb4QbgOsm",
        "colab_type": "code",
        "colab": {}
      },
      "source": [
        "def PSO_cc(problem, dimension, var_min, var_max, n_iterations, n_particles,\n",
        "        wdamp, w, c1, c2, show_iter):\n",
        "  \"\"\" PSO algorithm \"\"\"\n",
        "  # Inicialization\n",
        "  # np.seterr(over='ignore')\n",
        "  particle_position_vector = np.random.uniform(var_min,var_max,(\n",
        "      n_particles, dimension))\n",
        "  pbest_position = particle_position_vector\n",
        "  pbest_fitness_value = np.full(shape=n_particles, fill_value=float('inf'))\n",
        "  gbest_fitness_value = float('inf')\n",
        "  gbest_position = np.array([float('inf'), float('inf')])\n",
        "  velocity_vector = np.zeros(shape=(n_particles, dimension))\n",
        "  iteration = 0\n",
        "\n",
        "  # Start iterations\n",
        "  while iteration < n_iterations:\n",
        "    for p in range(n_particles):\n",
        "      fitness_candidate = problem(particle_position_vector[p])\n",
        "      \n",
        "      # Calculate pbest\n",
        "      if pbest_fitness_value[p] > fitness_candidate:\n",
        "        pbest_fitness_value[p] = fitness_candidate\n",
        "        pbest_position[p] = particle_position_vector[p]\n",
        "      \n",
        "      # Calculate gbest\n",
        "      if gbest_fitness_value > fitness_candidate:\n",
        "        gbest_fitness_value = fitness_candidate\n",
        "        gbest_position = particle_position_vector[p]\n",
        "    if show_iter:\n",
        "      print(gbest_fitness_value, \" :\", gbest_position)\n",
        "    \n",
        "    # Update velocity of each particle\n",
        "    for p in range(n_particles):\n",
        "      new_velocity = (w * velocity_vector[p]) + \\\n",
        "      ((c1 * random.random()) * (pbest_position[p] - particle_position_vector[p])) + \\\n",
        "      ((c2 * random.random()) * (gbest_position - particle_position_vector[p]))\n",
        "      new_position = new_velocity + particle_position_vector[p]\n",
        "      particle_position_vector[p] = new_position\n",
        "\n",
        "    iteration += 1\n",
        "    w *= wdamp\n",
        "\n",
        "  # print(\"The best position is: \", gbest_position, \" with value of \", gbest_fitness_value,\n",
        "  #       \" in iteration number \", iteration)\n",
        "  return gbest_position, gbest_fitness_value"
      ],
      "execution_count": 15,
      "outputs": []
    },
    {
      "cell_type": "code",
      "metadata": {
        "id": "weTK_cygo7tE",
        "colab_type": "code",
        "colab": {
          "base_uri": "https://localhost:8080/",
          "height": 336
        },
        "outputId": "01cddd27-6504-41a1-fcba-969b51197d95"
      },
      "source": [
        "# Problem definition\n",
        "fitness_functions = {\"Ackley function\": ackley_func, \n",
        "                     \"Alpine function\": alpine_func, \n",
        "                     \"Schwefel's function\": schwefel_func, \n",
        "                     \"Happy Cat function\": happy_cat_func,\n",
        "                     \"Brown function\": brown_func,\n",
        "                     \"Exponential function\": exponential_func}\n",
        "dimensions = [10, 20, 50]\n",
        "\n",
        "phi1 = 2.05\n",
        "phi2 = 2.05\n",
        "phi = phi1 + phi2\n",
        "kappa = 1\n",
        "chi = 2*kappa/(abs(2-phi-math.sqrt(phi**2 - 4*phi)))\n",
        "\n",
        "for dim in dimensions:\n",
        "  for name, func in fitness_functions.items():\n",
        "    kwargs = {\"problem\": func, \"dimension\": dim, \"var_min\": -10, \n",
        "              \"var_max\": 10, \"n_iterations\": 1000, \"n_particles\": 50,\n",
        "              \"wdamp\": 1, \"w\": chi, \"c1\": chi*phi1, \"c2\": chi*phi2, \"show_iter\": False}\n",
        "    gbest_pos, gbest_value = PSO_cc(**kwargs)\n",
        "    print(\"For dimension %s using the %s, the gbest was: %s\" % (dim, name, gbest_value))"
      ],
      "execution_count": 16,
      "outputs": [
        {
          "output_type": "stream",
          "text": [
            "For dimension 10 using the Ackley function, the gbest was: 5.482614393629319\n",
            "For dimension 10 using the Alpine function, the gbest was: 5.284884444645204\n",
            "For dimension 10 using the Schwefel's function, the gbest was: 4162.266288272899\n",
            "For dimension 10 using the Happy Cat function, the gbest was: 1.2984748809579425\n",
            "For dimension 10 using the Brown function, the gbest was: 21.2898701014414\n",
            "For dimension 10 using the Exponential function, the gbest was: -8.492091376944449e-06\n",
            "For dimension 20 using the Ackley function, the gbest was: 7.438340349306808\n",
            "For dimension 20 using the Alpine function, the gbest was: 19.522356352826066\n",
            "For dimension 20 using the Schwefel's function, the gbest was: 8318.120414521023\n",
            "For dimension 20 using the Happy Cat function, the gbest was: 1.7546537364132178\n",
            "For dimension 20 using the Brown function, the gbest was: 945.6573796677054\n",
            "For dimension 20 using the Exponential function, the gbest was: -1.1184914514302178e-09\n",
            "For dimension 50 using the Ackley function, the gbest was: 7.749445107809979\n",
            "For dimension 50 using the Alpine function, the gbest was: 50.10223817713934\n",
            "For dimension 50 using the Schwefel's function, the gbest was: 20864.370401993336\n",
            "For dimension 50 using the Happy Cat function, the gbest was: 5.627485953004483\n",
            "For dimension 50 using the Brown function, the gbest was: 1.336418622333648e+16\n",
            "For dimension 50 using the Exponential function, the gbest was: -2.2137158532256967e-48\n"
          ],
          "name": "stdout"
        }
      ]
    },
    {
      "cell_type": "markdown",
      "metadata": {
        "id": "hrtqYmCdo1VQ",
        "colab_type": "text"
      },
      "source": [
        "# Outras referências\n",
        "\n",
        "* [A novel particle swarm optimization algorithm with adaptive inertia weight](https://www.sciencedirect.com/science/article/abs/pii/S156849461100055X)\n",
        "* [The particle swarm optimization algorithm: convergence analysis and parameter selection](https://www.sciencedirect.com/science/article/abs/pii/S0020019002004477)\n",
        "* [An Overview of Particle Swarm Optimization Variants](https://www.sciencedirect.com/science/article/pii/S1877705813001823)\n",
        "* [2020 Population size in Particle Swarm Optimization](https://www.sciencedirect.com/science/article/pii/S2210650220303710)"
      ]
    },
    {
      "cell_type": "code",
      "metadata": {
        "id": "rYuqJ7hRo3w2",
        "colab_type": "code",
        "colab": {
          "base_uri": "https://localhost:8080/",
          "height": 34
        },
        "outputId": "e1e697b2-1cdd-4abc-bd39-735c737a0caf"
      },
      "source": [
        "phi1 = 2.05\n",
        "phi2 = 2.05\n",
        "phi = phi1 + phi2\n",
        "kappa = 1\n",
        "chi = 2*kappa/(abs(2-phi-math.sqrt(phi**2 - 4*phi)))\n",
        "chi"
      ],
      "execution_count": 12,
      "outputs": [
        {
          "output_type": "execute_result",
          "data": {
            "text/plain": [
              "0.7298437881283576"
            ]
          },
          "metadata": {
            "tags": []
          },
          "execution_count": 12
        }
      ]
    },
    {
      "cell_type": "code",
      "metadata": {
        "id": "xzhhwsVzrSij",
        "colab_type": "code",
        "colab": {}
      },
      "source": [
        ""
      ],
      "execution_count": null,
      "outputs": []
    }
  ]
}