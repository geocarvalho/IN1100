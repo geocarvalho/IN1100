{
  "nbformat": 4,
  "nbformat_minor": 0,
  "metadata": {
    "colab": {
      "name": "6-SVM.ipynb",
      "provenance": [],
      "collapsed_sections": [],
      "include_colab_link": true
    },
    "kernelspec": {
      "name": "python3",
      "display_name": "Python 3"
    }
  },
  "cells": [
    {
      "cell_type": "markdown",
      "metadata": {
        "id": "view-in-github",
        "colab_type": "text"
      },
      "source": [
        "<a href=\"https://colab.research.google.com/github/geocarvalho/uni-proj/blob/master/IF699/cleber/6-SVM.ipynb\" target=\"_parent\"><img src=\"https://colab.research.google.com/assets/colab-badge.svg\" alt=\"Open In Colab\"/></a>"
      ]
    },
    {
      "cell_type": "markdown",
      "metadata": {
        "id": "5jw5Ny5cCqs-",
        "colab_type": "text"
      },
      "source": [
        "# Support Vector Machines (SVMs)\n",
        "\n",
        "* Considere um conjunto de *n* pontos $x_i$ (i=1, ..., n) pertencentes a duas classes {+1, -1} linearmente separáveis;\n",
        "\n",
        "* Um classificador pode ser construído a partir de um hiperplano de separação $x.w + b = 0$\n",
        "\n",
        "> Se $x_i.w + b > 0$, então $y_i = +1$;\n",
        "\n",
        "> Se $x_i.w + b < 0$, então $y_i = -1$;\n",
        "\n",
        "> Ou $y_i = sign(x_i.w + b)$\n",
        "\n",
        "* Existem infinitos hiperplanos que separam dois conjuntos de pontos linearmente separáveis. Qual o melhor?\n",
        "\n",
        "> Menor erro de classificação e maior **margem**.\n",
        "\n",
        "* Hiperplano ótimo é equidistante às classes e maximiza a **margem** de separação;\n",
        "\n",
        "![slide7](slide7.png)\n",
        "\n",
        "* Pontos mais próximos do hiperplano ótimo são chamados de **vetores de suporte**;\n",
        "\n",
        "* Hiperplanos **superior** e **inferior** podem ser reescalados para: $x.w + b = +1$ e $x.w + b = -1$\n",
        "\n",
        "> Margem 2d é calculada como $\\frac{2}{|w|}$\n",
        "\n",
        "![2d](2d.png)\n",
        "\n",
        "## Considerando:\n",
        "\n",
        "* Dados de treinamento: tuplas no formato ($x_1, x_2, ..., x_n, y$), atributos $x_i$ e classe $y$ (+1, -1)\n",
        "\n",
        "* Conjunto dito linearmente separável, se existir um hiperplano H (no espaço de entrada) que separe as tuplas de classes diferentes;\n",
        "\n",
        "* Determinar os **vetores de suporte**, encontrar o **hiperplano** ótimo (com maior **margem**)\n",
        "\n",
        "* Considerando os vetores de suporte $x_1$ e $x_2$ temos que a distância entre um hiperplano que toca todos os vetores de suporte do lado de $x_1$ respeitando $w.x + b = +1$, equanto todos os vetores de suporte do lado de $x_2$ respeitam $w.x + b = -1$. Assim, a diferença entre ambas as funções define a **margem** $w.(x_1 - x_2) = 2$\n",
        "\n",
        "> Logo a diferença entre $x_1$ e $x_2$ é dada por $x_1 - x_2 = \\frac{2}{w}$\n",
        "\n",
        "![x1_x2](x1_x2.png)\n",
        "\n",
        "* Como buscamos pela máxima margem ou distância projetada entre $x_1$ e $x_2$, buscamos maximizar $d = x_1 - x_2 = \\frac{2}{|w|}$. Sendo a **distância mínima** entre o hiperplano separador e os dados de treinamento dada por $\\frac{1}{|w|}$. Logo, podemos maximizar esse termo ou o $|w|$ apenas.\n",
        "\n",
        "## Hiperplano ótimo\n",
        "\n",
        "* Aquele que possui a **maior margem** e **menor $|w|$**;\n",
        "\n",
        "* Determinação do hiperplano:\n",
        "> 1. Problema de otimização restrita;\n",
        "> 2. Minimizar uma função de custo (produto interno) sujeito a restrições;\n",
        "> 3. Multiplicadores de *Lagrange*\n",
        "\n",
        "## Multiplicadores de *Lagrange*\n",
        "\n",
        "* Empregado para resolver problemas de extremos sujeitos a restrições de igualdade;\n",
        "\n",
        "* Para $max(min)f(x)$ \n",
        "\n",
        "s.a. $g_i(x) = 0, i=1, ..., N$\n",
        "\n",
        "> Onde $f$ e $g_i(i=1,...,N) são funções reais de $n$ ($n > N$) variáveis que se assumem duas vezes diferenciáveis num determinado conjunto D.\n",
        "\n",
        "> Função de *Lagrange*: $L(x,?) = f(x) + \\sum^N_{i=1}\\lambda_ig_i(x)$\n",
        "\n",
        "* Minimizar: $L_p = \\frac{1}{2}||w||^2 - \\sum_i \\alpha_i \\times [y_i(x_i \\times w + b) -1]$\n",
        "\n",
        "> $L_p$ deve ser minimizada com respeito a $w$ e $b$ e maximizada com respeito a $\\alpha_i$:\n",
        "\n",
        "$max_{\\alpha}{min_{w,b} {L_p(w,b,\\alpha)}}$\n",
        "\n",
        "onde $\\frac{\\partial L_p}{\\partial w}\\ =\\ 0\\ \\to\\ w\\ =\\ \\sum_i\\alpha_ix_iy_i$\n",
        "\n",
        "e $\\frac{\\partial L_p}{\\partial b}\\ =\\ 0\\ \\to\\ w\\ =\\ \\sum_i \\alpha_i y_i$\n",
        "\n",
        "teremos um novo problema de otimização, maximizar:\n",
        "\n",
        "$L_D = \\sum_i \\alpha_i - \\sum_{i,j} \\alpha_i \\times \\alpha_j \\times x_i \\times x_j \\times y_i \\times y_j$\n",
        "\n",
        "> Os vetors $x_i$ e $x_j$ são o vetor de entrada e o padrão de entrada pertecente ao j-ésimo exemplo;\n",
        "\n",
        "> Problema resolvido comumente por métodos de otimização quadrática (SMO) - solução **única e ótima**\n",
        "\n",
        "> Existe um $\\alpha_i$ para cada exemplo de treinamento. Na solução ótima de $L_D, \\alpha_i > 0$ para os vetores de suporte e $\\alpha = 0$ para os outros exemplos;\n",
        "\n",
        "> O hiperplano ótimo depende apenas dos vetores suporte;\n",
        "\n",
        "> Maximizando $L_D$ o hiperplano ótimo é obtido diretamente: $w = \\sum_i \\alpha_i x_i y_i$\n",
        "\n",
        "$b = 1 - w \\times x_{(s)}$ onde $x_{(s)}$ é um vetor suporte no hiperplano superior.\n",
        "\n",
        "## SVM *softmargin*\n",
        "\n",
        "* A formulação anteriormente definida é para conjuntos linearmente separáveis (*Hard Margin SVM*)\n",
        "\n",
        "* Para conjuntos não-linearmente separáveis pequenos erros podem ser tolerados\n",
        "\n",
        "> Minimizar $\\frac{||w||^2}{2} + C \\sum_i \\xi_i$, sujeito a $y_i(x_i.w + b) - 1 + \\xi_i >= 0$\n",
        "\n",
        "* A derivação do *Lagrangiano* introduz apenas uma restrição para $\\alpha_i$\n",
        "\n",
        "$L_D = \\sum_i \\alpha_i - \\sum_{i,j} \\alpha_i \\times \\alpha_j \\times x_i \\times x_j \\times y_i \\times y_j$\n",
        "\n",
        "$0 \\leq \\alpha_i \\leq C$ - valores de $\\alpha_i$ limitados pelo parâmetro de complexidade C.\n",
        "\n",
        "## SVM não-linear\n",
        "\n",
        "* SVM linear ainda é muito limitado mesmo com margens flexíveis;\n",
        "\n",
        "* Generalização não-linear de SVM: Mapear espaço original para espaço não-linear de maior dimensão onde exemplos sejam linearmente separáveis;\n",
        "> Construir **hiperplano ótimo** no novo espaço.\n",
        "\n",
        "## Problema\n",
        "\n",
        "* Como escolher a função $\\Phi (x)$ (transformação) tal que o espaço de características transformado seja eficiente para classificação e não possua custo computacional alto demais?\n",
        "> Com uma função especial, chamada de **função kernel** é possivel calcular o produto escalar $\\Phi (x_i) \\times \\Phi (x_j)$ sem mesmo conhecer o mapeamento $\\Phi$.\n",
        "\n",
        "* Em SVM não-lineares, pontos são mapeados implicitamente através da função kernel, sendo essa função um produto escalar de vetores em algum espaço: $K(x_i, x_j$ = \\Phi(x_i) \\times \\Phi(x_j)$\n",
        "\n",
        "## *The kernel trick*\n",
        "\n",
        "* Parece ingênuo mas pode transformar quaisquer algoritmos lineares que possam ser expressos em termros de produtos internos sem algoritmos não-lineares;\n",
        "\n",
        "* Incrementar o número de dimensões do espaço;\n",
        "\n",
        "* Incrementar muito! Mover o problema para um espaço em que exista uma dimensão independente para cada uma das possíveis entradas de sua função!\n",
        "\n",
        "* O classificador linear depende do produto interno entre exemplos: $K(x_i, x_j) = x_i^{\\top}x_j$\n",
        "\n",
        "* Se cada ponto for mapeado para um espaço de alta dimensão através de uma transformação $\\Phi: x \\to \\varphi(x)$, o produto interno fica: $K(x_i, x_j) = \\varphi(x_i)^{\\top}\\varphi(x_j)$\n",
        "\n",
        "* Uma função de kernel é uma função que é equivalente a um produto interno em um espaço de maior demensionalidade;\n",
        "\n",
        "* Para algumas funções kernel provar que o espaço de transformação existe pode ser difícil. Por construção usando propriedades matemáticas como o Teorema de Mercer é possível.\n",
        "> Toda função simétrica definida semi-positiva é um kernel.\n",
        "\n",
        "* \"O desempeho destes métodos é extremamente dependente da seleção e projeto das funções de kernel utilizadas\";\n",
        "\n",
        "* \"Embora kernels mais gerais apresentem desempenho satisfatório, kernels específicos para diferentes representações de dados pode melhorar bastante os resultados obtidos\";\n",
        "\n",
        "* Não é necessário difinir explicitamente o mapeamento $\\Phi$ (alguns casos é impossível). Todo o treinamento e uso do modelo são realizados apenas usando o kernel;\n",
        "\n",
        "## Funções de kernel mais usadas\n",
        "\n",
        "* Polinomial\n",
        "\n",
        "$K(a,b) = (1 + \\sum_j a_j b_j)^d$\n",
        "\n",
        "* Função de base radial\n",
        "\n",
        "$K(a,b) = exp(\\frac{-(a-b)^2}{2\\sigma^2}$\n",
        "\n",
        "* Saturada próximo de uma sigmóide\n",
        "\n",
        "$K(a,b) = tanh(ca^{\\top}b + h)$\n",
        "\n",
        "* Outros, dependendo do tipo de dado: similaridade de string para texto, algoritmos genéticos, etc.\n",
        "\n",
        "## SVM para múltiplas classes\n",
        "\n",
        "* Uma versos todas: Treina $n$ classificadores binários, um para cada classe contra todas as outras;\n",
        "\n",
        "* Uma versos uma: Treina $\\frac{n(n-1)}{2}$ classificadores, cada um discrimando entre um par de classes. Várias estratégias para seleciona a classificação final se baseando na saída do SVM binário;\n",
        "\n",
        "* SVMs multiclasses: Generaliza a formulação do SVM para multiplas categorias.\n",
        "\n",
        "## Seleção de modelos\n",
        "\n",
        "* A escolha do kernel é importante para o desempneho das SVMs. Dependendo do kernel utilizado alguns parâmetros devem ser definidos, parâmetros de complexidade C é um dos aspectos importantes;\n",
        "\n",
        "* O Kernel **RBF** é mais flexível que o polinomial, ele depende do parâmetro $\\gamma$;\n",
        "> Valores altos dão maior flexibilidade ao modelo mas também aumentam o risco de overfitting.\n",
        "\n",
        "* Sobre o parâmetro **C**: valores muito altos propiciam a geração de modelos mais complexos (risco de overfitting), já valores menores podem aumentar o risco de underfitting.\n",
        "\n",
        "* *Grid-search* separa o conjunto de treinamento e teste. Com o conjunto de treinamento se realiza a validação cruzada para encontrar os melhores valores para $C$ e $\\gamma$. Depois se retreina com o melhor par encontrado e se testa nos dados de teste após o treinamento.\n",
        "\n",
        "## Otimização RNA versos SVM\n",
        "\n",
        "* RNA: mínimo local - Definir a quantidade de neurônios na camada intermediária;\n",
        "\n",
        "* SVM: mínimo global - Definir o melhor parâmetro $C$ (custo);\n",
        "\n",
        "## Comentários\n",
        "\n",
        "* SVM se situa dentre as técnicas de aprendizado mais poderosas, baseada em uma teoria matemática forte. É justificável teoricamente e com bom desempenho empírico;\n",
        "\n",
        "* Apesar de ter poucos parâmetros para selecionar (função kernel), a escolha adequada é importante;\n",
        "\n",
        "* A maior desvantagem é o tempo de treinamento e uso (dependendo da quantidade de classes)."
      ]
    },
    {
      "cell_type": "markdown",
      "metadata": {
        "id": "oyFWsDAg_49B",
        "colab_type": "text"
      },
      "source": [
        "---\n",
        "\n",
        "# Capítulo 26 - Máquinas de vetores de suporte (Support Vector Machines - SVM)\n",
        "\n",
        "## 26.1 Classificador de margem-máxima\n",
        "\n",
        "* O classifidor de margem-máxima é um classificador hipotético que explica muito bem como SVM funciona na prática. As variáveis numéricas de entrada ($x$) nos seus dados (colunas) formam um espaço n-dimensional. Por exemplo, se você tem duas variáveis de entrada, isso formaria um espaço bidimensional;\n",
        "\n",
        "* Um hiperplano é uma linha que divide as variáveis de entrada num espaço. Em SVM, um hiperplano é selecionado para melhor separar os pontos das variáveis de entrada num espaço pela sua classe, classe 0 ou classe 1. Em um espaço bidimensional é possível visualizar isso como uma linha e vamos assumir que todos os pontos de entrada podem ser completamente separáveis por uma linha;\n",
        "\n",
        "* Por exemplo $b_0 + (b_1 \\times x_1) + (b_2 \\times x_2) = 0$\n",
        "\n",
        "> Onde os coeficientes ($b_1$ e $b_2$) que determinam a inclinação da linha e a interceptação ($b_0$) são encontrados pelo algoritmo de apredizagem, sendo $x_1$ e $x_2$ as duas variáveis de entrada;\n",
        "\n",
        "> Classificações podem ser feitas usando essa linha, basta introduzir os valores de entrada na equação da linha que é possível calcular um novo ponto acima ou abaixo da linha.\n",
        "\n",
        "* Abaixo da linha, a equação retorna um valor maior que zero e o ponto pertence a primeira classe (classe 0). Acima da linha, a equação retorna um valor menor que zero e o ponto pertence a segunda classe (classe 1). Já um valor próximo da linha retorna um valor perto de zero e o ponto pode ser difícil de classificar. Se a magnitude do valor é grande, o modelo pode mais confiabilidade na predição.\n",
        "\n",
        "* A distância entre a linha e os dados mais próximos é referenciada como **margem**. A melhor linha ou linha ótima que pode separar duas classes é a linha com a **maior margem** (hiperplano de margem-máxima);\n",
        "\n",
        "* A margem é calculada como a distância perpendicular da linha para os pontos mais próximos. Apenas esses pontos são relevantes na definição da linha e a construção do classificador, esses pontos são chamados de **vetores de suporte**, eles suportam ou definem o hiperplano. O hiperplano é aprendido pelo dados de treinamento usando um processo de otimização que **maximiza** a margem.\n",
        "\n",
        "## 26.2 Classificador de margem suave\n",
        "\n",
        "* Ná prática, dados reais são bagunçados e não podem ser separados por um hiperplano. A restrição de maximizar a margem da linha que separa as classes deve ser relaxada, isso é normalmente chamado de **classificador de margem suave**;\n",
        "\n",
        "* Essa mudança permite que alguns pontos nos dados de treinamento violem a linha de separação. Um grupo adicional de coeficientes são introduzidos dando a margem espaço de manobra em cada dimensão. Esses coeficientes são chamados de variáveis de folga. Isso aumenta a complexidade do modelo havendo mais parâmetros para o modelo caber (*fit*) nos dados e fornecer essa complexidade;\n",
        "\n",
        "* Um parâmetro de afinação $C$ define a magnitude da flexibilidade permitida entre as dimensões. O parâmetro $C$ define a quantidade de violações na margem que são permitidas. Um $C = 0$ significa sem violação e voltamos a inflexibilidade do classificado de margem-máxima descrito anteriormente. Quanto maior o valor de $C$, mais violações no hiperplano são permitidas. Durante o aprendizado do hiperplano a partir dos dados, todas as instâncias de treinamento que estão entre a distância da margem irão afetar o posicionamento do hiperplano e são referidos como **vetores de suporte**. E como $C$ afeta o número de instâncias que permitem cairem dentro da margem, $C$ influencia o número de vetores de suporte usados pelo modelo.\n",
        "\n",
        "> Quanto **menor** o valor de $C$, **mais sensível** o algoritmo é aos dados de treinamento (**maior variância** e **menor viés**);\n",
        "\n",
        "> Quanto **mair** o valor de $C$, **menos sensível** o algoritmo é aos dados de treinamento (**baixa variância** e **maior viés**)\n",
        "\n",
        "## 26.3 Máquinas de suporte de vetores - SVMs (Kernels)\n",
        "\n",
        "* O algoritmo de SVM é implementado na prática usando um *kernel*. O aprendizado do hiperplano numa SVM linear é feito pelo aprendizado do problema usando algebra linear. Um ideia poderosa é que o SVM linear pode ser reformulado usnado o produto interior que qualquer duas observações, em vez das observações diretas;\n",
        "\n",
        "* O produto escalar entre dois vetores é a soma da multiplicação de cada par de valores de entrada. Por exemplo, o produto escalar dos vetores $[2, 3]$ e $[5, 6]$ é $2 \\times 5 + 3 \\times 6$ ou $28$. A equação para fazer a predição para um novo dado de entrada usando o produto escalar entre a entrada ($x$) e cada vetor de suporte ($x_i$) é calculada por:\n",
        "\n",
        "$f(x) = b_0 + \\sum^n_{i=1} (a_i \\times (x \\times x_i))$\n",
        "\n",
        "* Essa é uma equação que envolve calcular o produto escalar de um novo vetor de entrada ($x$) com todos os vetores de suporte nos dados de treinamento. O coeficiente $b_0$ e $a_i$ (para cada entrada) devem ser estimados dos dados de entrada pelo algoritmo de aprendizado.\n",
        "\n",
        "## 26.3.1 SVM *kernel* linear\n",
        "\n",
        "* O produto escalar é chamado de *kernel* e pode ser reescrito como: $K(x,x_i) = \\sum(x \\times x_i)$\n",
        "\n",
        "* O *kernel* define a similaridade ou a medida da distância entre um novo dado e os vetores de suporte. O produto escalar é a medida de similaridade usada no SVM linear ou *kernel* linear porque a distância é a combinação linear dos dados de entrada. Outros *kerneis* podem ser usados para transformar o espaço de entrada em dimensões maiores (chamado de **truque do kernel**) como o **kernel polinomial** e o **kernel radial**.\n",
        "> É desejável usar *kerneis* mais complexos quando se é necessário mais linhas para separar classes que são curvas ou mais complexas, isso pode gerar classificadores mais acurados.\n",
        "\n",
        "## 26.3.2 SVM *kernel* polinomial\n",
        "\n",
        "* Em vez do produto escalar, podemos usar o *kernel* polinomial:\n",
        "\n",
        "$K(x,x_i) = 1 + \\sum(x \\times x_i)^d$\n",
        "\n",
        "* Onde o grau do polinômio pode ser especificado manualmente para um algortimo de aprendizagem. Quando $d = 1$ é o mesmo que um *kernel* linear, o *kernel* polinomial permite linhas curvaos no espaço de entrada.\n",
        "\n",
        "## 26.3.3 SVM *kernel* radial (RBF)\n",
        "\n",
        "* Finalmente, podemos ter o kernel radial mais complexo:\n",
        "\n",
        "$K(x,x_i) = e^{-gamma \\times \\sum ((x-x_i)^2)}$\n",
        "\n",
        "* Onde $gamma$ é o parâmetro que deve ser especificado ao algoritmo de aprendizado. Um bom valor padrão de $gamma$ é 0.1, onde $gamma$ é frequentemente $0 < gamma < 1$;\n",
        "\n",
        "* O *kernel* radial é bem local e pode criar regiões complexas no espaço da *feature*, como aproximações de poligonos num espaço bidimensional.\n",
        "\n",
        "## 26.4 Como aprender um modelo SVM\n",
        "\n",
        "* O modelo SVM precisa ser resolvido unado um processo de otimização. Pode ser usado um processo de otimização numérica para pesquisar pelos coeficientes do hiperplano, isso é ineficiente e não é método mais utilizado nas implementações de SVM como o LIBSVM;\n",
        "\n",
        "* Se for implementar SVM como exercício, pode-se usar uma variação do gradiente descedente chamado **sub-gradiente descedente**;\n",
        "\n",
        "* Existem processos de otimizações especiais que reformulam o problema de otimização para ser um problma de **progamação quadrática**. O método mais popular de SVM é o de **otimização sequencial mínimo** (*Sequencial Minimal Optimization - SMO) que é muito eficient, ele quebra o problema em sub-problemas que podem ser resolvidos analiticamente (por calculo) em vez de numericamente (pesquisando ou otimizando).\n",
        "\n",
        "## 26.5 Preparando os dados para o modelo de SVM\n",
        "\n",
        "* Algumas sugestões:\n",
        "> 1. **Entradas numéricas**: SVM assume que os dados de entrada são numéricos, se você tem dados categoricos é preciso converter em uma variável para cada categoria (*binary dummy variables*);\n",
        "> 2. **Classificação binária**: SVM básica é descrita para uma problema de classificação binária (duas classes). Porém, extensões podem ser desenvolvidas para problemas de regressão e classificação de multiclasses.\n",
        "\n",
        "---\n",
        "\n",
        "# Capítulo 27 - tutorial de SVM\n",
        "\n",
        "* SVM é um algoritmo de aprendizado de máquina flexivel não-paramétrico;\n",
        "\n",
        "* Vamos ver o algoritmo de SVM com o kernel usando sub-gradiente descendente;\n",
        "\n",
        "* Os dados de exemplo foi criado para que as classes fossem linearmente separáveis. Isso significa que uma linha reta pode ser desenhada para separar as classes. Isso foi intensional para que fosse explorado como implementar uma SVM com um kernel linear."
      ]
    },
    {
      "cell_type": "code",
      "metadata": {
        "id": "E3aIGYb5_4X_",
        "colab_type": "code",
        "outputId": "e7bee706-7013-4138-efcd-eb8423b07f00",
        "colab": {
          "base_uri": "https://localhost:8080/",
          "height": 204
        }
      },
      "source": [
        "import pandas as pd\n",
        "\n",
        "data = {'X1': [2.327868056, 3.032830419, 4.485465382, 3.684815246, 2.283558563, 7.807521179, 6.132998136, 7.514829366, 5.502385039, 7.432932365], \n",
        "        'X2': [2.458016525, 3.170770366, 3.696728111, 3.846846973, 1.853215997, 3.290132136, 2.140563087, 2.107056961, 1.404002608, 4.236232628], \n",
        "        'Y': [-1, -1, -1, -1, -1, 1, 1, 1, 1, 1]}\n",
        "\n",
        "df = pd.DataFrame(data)\n",
        "df.head()"
      ],
      "execution_count": 0,
      "outputs": [
        {
          "output_type": "execute_result",
          "data": {
            "text/html": [
              "<div>\n",
              "<style scoped>\n",
              "    .dataframe tbody tr th:only-of-type {\n",
              "        vertical-align: middle;\n",
              "    }\n",
              "\n",
              "    .dataframe tbody tr th {\n",
              "        vertical-align: top;\n",
              "    }\n",
              "\n",
              "    .dataframe thead th {\n",
              "        text-align: right;\n",
              "    }\n",
              "</style>\n",
              "<table border=\"1\" class=\"dataframe\">\n",
              "  <thead>\n",
              "    <tr style=\"text-align: right;\">\n",
              "      <th></th>\n",
              "      <th>X1</th>\n",
              "      <th>X2</th>\n",
              "      <th>Y</th>\n",
              "    </tr>\n",
              "  </thead>\n",
              "  <tbody>\n",
              "    <tr>\n",
              "      <th>0</th>\n",
              "      <td>2.327868</td>\n",
              "      <td>2.458017</td>\n",
              "      <td>-1</td>\n",
              "    </tr>\n",
              "    <tr>\n",
              "      <th>1</th>\n",
              "      <td>3.032830</td>\n",
              "      <td>3.170770</td>\n",
              "      <td>-1</td>\n",
              "    </tr>\n",
              "    <tr>\n",
              "      <th>2</th>\n",
              "      <td>4.485465</td>\n",
              "      <td>3.696728</td>\n",
              "      <td>-1</td>\n",
              "    </tr>\n",
              "    <tr>\n",
              "      <th>3</th>\n",
              "      <td>3.684815</td>\n",
              "      <td>3.846847</td>\n",
              "      <td>-1</td>\n",
              "    </tr>\n",
              "    <tr>\n",
              "      <th>4</th>\n",
              "      <td>2.283559</td>\n",
              "      <td>1.853216</td>\n",
              "      <td>-1</td>\n",
              "    </tr>\n",
              "  </tbody>\n",
              "</table>\n",
              "</div>"
            ],
            "text/plain": [
              "         X1        X2  Y\n",
              "0  2.327868  2.458017 -1\n",
              "1  3.032830  3.170770 -1\n",
              "2  4.485465  3.696728 -1\n",
              "3  3.684815  3.846847 -1\n",
              "4  2.283559  1.853216 -1"
            ]
          },
          "metadata": {
            "tags": []
          },
          "execution_count": 1
        }
      ]
    },
    {
      "cell_type": "code",
      "metadata": {
        "id": "axO43cj1xauC",
        "colab_type": "code",
        "outputId": "1f0c333d-b6e1-450f-dae1-bb5a0315cbf5",
        "colab": {
          "base_uri": "https://localhost:8080/",
          "height": 269
        }
      },
      "source": [
        "from matplotlib import pyplot as plt\n",
        "\n",
        "plt.scatter(df[df['Y']==-1]['X1'], df[df['Y']==-1]['X2'], c='b', label='-1')\n",
        "plt.scatter(df[df['Y']==1]['X1'], df[df['Y']==1]['X2'], c='r', label='1')\n",
        "plt.xlim(0, 9)\n",
        "plt.ylim(0, 4.5)\n",
        "plt.legend()\n",
        "plt.show()"
      ],
      "execution_count": 0,
      "outputs": [
        {
          "output_type": "display_data",
          "data": {
            "image/png": "[encoded data removed]",
            "text/plain": [
              "<Figure size 432x288 with 1 Axes>"
            ]
          },
          "metadata": {
            "tags": []
          }
        }
      ]
    },
    {
      "cell_type": "markdown",
      "metadata": {
        "id": "eoBbbEp3yZXV",
        "colab_type": "text"
      },
      "source": [
        "## 27.2 Treinando SVM com gradiente descendente\n",
        "\n",
        "### 27.2.1 Modelo de SVM linear\n",
        "\n",
        "* O modelo de SVM linear é uma linha onde o objetivo do algoritmo é encontrar os melhores valores de coeficientes que separam as classes;\n",
        "\n",
        "$b_0 + (b_1 \\times x_1) + (b_2 \\times x_2) = 0$\n",
        "\n",
        "> Onde $b_0$, $b_1$ e $b_2$ são os coeficientes, $x_1$ e $x_2$ as variáveis de entrada. Essa será a forma da equação que será usada com uma pequena mudança, retiramos o termo de viés ($b_0 = 0$), também chamado *bias* ou *offset* ou *intercept*.  \n",
        "\n",
        "$(b_1 \\times x_1) + (b_2 \\times x_2) = 0$\n",
        "\n",
        "* Isso significa que a linha irá passar na origem ($x_1 = 0$ e $x_2 = 0$). Isso é para deixar o tutorial fácil de ser seguido e porque o exemplo é simples e não precisa disso, podendo ser adicionado se quiser.\n",
        "\n",
        "### 27.2.2 Método de otimização do SVM\n",
        "\n",
        "* O algoritmo de otimização para encontrar o coeficiente pode ser fixado como um problema quadrático. Isso é um tipo de otimização restrita onde soluções rápidas podem ser emplementadas (não usaremos esse modelo no tutorial). Outra forma que pode ser usada para descobrir os valores de coeficiente para o SVM linear é o **sub-gradiente descedente**;\n",
        "\n",
        "* Nesse método um padrão de treinamento aleatório é selecionado cada interação e usado para atualizar os coeficientes. Depois de um grande número de iterações (dezenas ou centenas de dezenas) o algoritmo vai resolver com um grupo estável de coeficientes. A atualização da equação de atualização dos coeficientes funciona assim:\n",
        "\n",
        "1. Primeiro um valor de saída é calculado por: $output = y \\times ((b_1 \\times x_1) + (b_2 \\times x_2))$\n",
        "> Dois procedimentos diferentes de atualização são usados dependendo do valor de saída. \n",
        "\n",
        "2. Se o **valor for > 1** isso sugere que o padrão de treinamento **não foi um vetor de suporte** (isso significa que a instância não foi diretamente envolvida no cálculo do valor de saída) que no caso os pesos são levemente diminuidos por:\n",
        "$b = (1 - \\frac{1}{t}) \\times b$\n",
        "> Onde $b$ é o peso que está sendo atualizado (como $b_1$ ou $b_2$), $t$ é a interação corrente (ex.: 1 para a primeira atualização, 2 para a segunda e assim por seguinte).\n",
        "\n",
        "2. Se o **valor de saída for < 1** então é assumido que a instância de treino é um vetor de suporte e deve ser atualizado para explicar melhor os dados:\n",
        "$b = (1 - \\frac{1}{t}) \\times b + \\frac{1}{lambda \\times t} \\times (y \\times x)$\n",
        "> Onde $b$ é o peso que está sendo atualizado, $t$ é a interação corrente e $lambda$ é o parâmetro para o algoritmo de aprendizado. O $lambda$ é o parâmetro de aprendizado e é frequentemente escolhido com um valor bem baixo como 0.0001 or menor. \n",
        "\n",
        "3. O procedimento é repetido até a taxa de erro cair até um valor desejável ou para um grande número fixo de iterações. \n",
        "> Valores baixos de taxa de aprendizado frequentemente necessitam  de grande tempo de treinamento, o número de iterações é a desvantagem desse algoritmo.\n",
        "\n",
        "## 27.3 Modelo de SVM aprendendo com os dados de treino\n",
        "\n",
        "* Aqui vamos trabalhar com algumas atualizações nos coeficientes para demonstrar o algoritmo de SVM;\n",
        "\n",
        "* Usaremos um $lambda$ alto ($lambda = 0.45$), o que é estranho já que se usa valores muito pequenos, para demonstrar grandes mudanças na atualização.\n",
        "\n",
        "* Inicializamos os coeficientes zerados;\n",
        "\n",
        "* Preciamos acompanhar a iteração ($t = 1$). Vamos treinar o modelo usando a ordem dos padrões do treino. Idealmente, a ordem dos padrões deveria ser aleatória para evitart que o algoritm pare;\n",
        "\n",
        "* O primeiro padrão que usaremos para atualizar é o índice 0 do `df`"
      ]
    },
    {
      "cell_type": "code",
      "metadata": {
        "id": "9e3aX94NG3gL",
        "colab_type": "code",
        "outputId": "d4b20ec7-3ee4-43d2-80ee-105c64a4fb11",
        "colab": {
          "base_uri": "https://localhost:8080/",
          "height": 80
        }
      },
      "source": [
        "lamb = 0.45\n",
        "b1 = 0\n",
        "b2 = 0\n",
        "t = 1\n",
        "df.iloc[[0]]"
      ],
      "execution_count": 0,
      "outputs": [
        {
          "output_type": "execute_result",
          "data": {
            "text/html": [
              "<div>\n",
              "<style scoped>\n",
              "    .dataframe tbody tr th:only-of-type {\n",
              "        vertical-align: middle;\n",
              "    }\n",
              "\n",
              "    .dataframe tbody tr th {\n",
              "        vertical-align: top;\n",
              "    }\n",
              "\n",
              "    .dataframe thead th {\n",
              "        text-align: right;\n",
              "    }\n",
              "</style>\n",
              "<table border=\"1\" class=\"dataframe\">\n",
              "  <thead>\n",
              "    <tr style=\"text-align: right;\">\n",
              "      <th></th>\n",
              "      <th>X1</th>\n",
              "      <th>X2</th>\n",
              "      <th>Y</th>\n",
              "    </tr>\n",
              "  </thead>\n",
              "  <tbody>\n",
              "    <tr>\n",
              "      <th>0</th>\n",
              "      <td>2.327868</td>\n",
              "      <td>2.458017</td>\n",
              "      <td>-1</td>\n",
              "    </tr>\n",
              "  </tbody>\n",
              "</table>\n",
              "</div>"
            ],
            "text/plain": [
              "         X1        X2  Y\n",
              "0  2.327868  2.458017 -1"
            ]
          },
          "metadata": {
            "tags": []
          },
          "execution_count": 33
        }
      ]
    },
    {
      "cell_type": "markdown",
      "metadata": {
        "id": "Ck_2YQw9Hpd4",
        "colab_type": "text"
      },
      "source": [
        "* Podemos calcular o valor de saída para essa iteração:"
      ]
    },
    {
      "cell_type": "code",
      "metadata": {
        "id": "UUVZD51kHnUY",
        "colab_type": "code",
        "outputId": "cdacf993-8784-4d27-c978-04d96aef4bdf",
        "colab": {
          "base_uri": "https://localhost:8080/",
          "height": 34
        }
      },
      "source": [
        "indice = df.iloc[[0]].values\n",
        "y = indice[0][2]\n",
        "x1 = indice[0][0]\n",
        "x2 = indice[0][1]\n",
        "output = y * ((b1 * x1) + (b2 * x2))\n",
        "output"
      ],
      "execution_count": 0,
      "outputs": [
        {
          "output_type": "execute_result",
          "data": {
            "text/plain": [
              "-0.0"
            ]
          },
          "metadata": {
            "tags": []
          },
          "execution_count": 34
        }
      ]
    },
    {
      "cell_type": "markdown",
      "metadata": {
        "id": "RJPdIehkJVy4",
        "colab_type": "text"
      },
      "source": [
        "* A saída é < 1, então vamos utilizar a atualização mais complexa que assume que o padrão de treinamento é um vetor de suporte:"
      ]
    },
    {
      "cell_type": "code",
      "metadata": {
        "id": "WFoob1GMJkCr",
        "colab_type": "code",
        "outputId": "eea73208-7a23-459d-ff4b-ecaa42fe737e",
        "colab": {
          "base_uri": "https://localhost:8080/",
          "height": 34
        }
      },
      "source": [
        "b = output\n",
        "b1 = (1 - 1/t) * b + (1/lamb*t) * (y * x1)\n",
        "b2 = (1 - 1/t) * b + (1/lamb*t) * (y * x2)\n",
        "b1, b2"
      ],
      "execution_count": 0,
      "outputs": [
        {
          "output_type": "execute_result",
          "data": {
            "text/plain": [
              "(-5.173040124444444, -5.462258944444445)"
            ]
          },
          "metadata": {
            "tags": []
          },
          "execution_count": 35
        }
      ]
    },
    {
      "cell_type": "markdown",
      "metadata": {
        "id": "tzV_8tx_KYy9",
        "colab_type": "text"
      },
      "source": [
        "* Atualizamos os coeficientes que usaremos na próxima iteração ($t = 2$) do algoritmo com a segunda instância dos dados de treinamento (indice 1);\n",
        "\n",
        "* Vamos repetir o processo:"
      ]
    },
    {
      "cell_type": "code",
      "metadata": {
        "id": "Yds6tkIZKwNp",
        "colab_type": "code",
        "outputId": "53dc7d98-a2ee-40e5-c71b-ddfd41952d38",
        "colab": {
          "base_uri": "https://localhost:8080/",
          "height": 34
        }
      },
      "source": [
        "t = 2\n",
        "indice = df.iloc[[1]].values\n",
        "y = indice[0][2]\n",
        "x1 = indice[0][0]\n",
        "x2 = indice[0][1]\n",
        "output = y * ((b1 * x1) + (b2 * x2))\n",
        "output"
      ],
      "execution_count": 0,
      "outputs": [
        {
          "output_type": "execute_result",
          "data": {
            "text/plain": [
              "33.00852224058554"
            ]
          },
          "metadata": {
            "tags": []
          },
          "execution_count": 36
        }
      ]
    },
    {
      "cell_type": "markdown",
      "metadata": {
        "id": "udDTQiv6LMV4",
        "colab_type": "text"
      },
      "source": [
        "* A saída é > 1, sugerindo que a instância do treino não é um vetor de suporte. Atualizamos os coeficientes do modo mais simples:\n"
      ]
    },
    {
      "cell_type": "code",
      "metadata": {
        "id": "IKkvL962LZF6",
        "colab_type": "code",
        "outputId": "a566e263-a6dc-4b2a-a527-ac40a53c0b26",
        "colab": {
          "base_uri": "https://localhost:8080/",
          "height": 34
        }
      },
      "source": [
        "b = output\n",
        "b1 = (1 - 1/t) * b1\n",
        "b2 = (1 - 1/t) * b2\n",
        "b1, b2"
      ],
      "execution_count": 0,
      "outputs": [
        {
          "output_type": "execute_result",
          "data": {
            "text/plain": [
              "(-2.586520062222222, -2.7311294722222224)"
            ]
          },
          "metadata": {
            "tags": []
          },
          "execution_count": 37
        }
      ]
    },
    {
      "cell_type": "markdown",
      "metadata": {
        "id": "g4GeWh-8Lz2E",
        "colab_type": "text"
      },
      "source": [
        "### 27.3.3 Mais iterações\n",
        "\n",
        "* Repitir o processo para o resto dos dados. Uma passagem pelos dados é chamado *epoch*. Agora repetiremos o processo por 15 *epochs* para um total de 160 iterações (16 *epochs* x 10 atualizações por *epoch*);\n",
        "\n",
        "* É possível ficar ciente da perda ou da acurácia do modelo para cada *epoch*. Isso é uma ótima forma de entender quando o algoritmo está convergindo ou quando há um bug na implementação. Se criarmos o gráfico para a acurácia do modelo no fim de cada *epoch*, poderiamos ver algo como:\n",
        "\n",
        "![acc](acc.png)\n",
        "\n",
        "* Você verá que depois de 16 *epochs* que teremos uma acurácia de 100% nos dados de treino. Os valores de coeficientes deveriam ser:\n",
        "\n",
        "$b_1 = 0.552391765$ e $b_2 = -0.724533592$\n",
        "\n",
        "* A forma do hiperplano aprendido é: $0 + (0.552391765 \\times x_1) + (-0.724533592 \\times x_2) = 0$\n",
        "\n",
        "## 27.4 Fazendo predições com o modelo de SVM\n",
        "\n",
        "* Agora que temos os coeficientes da linha, podemos fazer predições. Faremos predições para dados de treino, mas poderia ser adaptado para dados de teste (dados novos):\n",
        "\n"
      ]
    },
    {
      "cell_type": "code",
      "metadata": {
        "id": "bdafXaDROGQ_",
        "colab_type": "code",
        "outputId": "67af325b-a791-4408-d4d4-cca6f1a2768b",
        "colab": {
          "base_uri": "https://localhost:8080/",
          "height": 359
        }
      },
      "source": [
        "def pred(x1, x2):\n",
        "  b1 = 0.52391765\n",
        "  b2 = -0.724533592\n",
        "  output = (b1 * x1) + (b2 * x2)\n",
        "  return output\n",
        "\n",
        "df['output'] = df.apply(lambda x: pred(x['X1'], x['X2']), axis=1)\n",
        "df['crisp'] = df['output'].apply(lambda x: -1 if x < 0 else 1)\n",
        "df"
      ],
      "execution_count": 0,
      "outputs": [
        {
          "output_type": "execute_result",
          "data": {
            "text/html": [
              "<div>\n",
              "<style scoped>\n",
              "    .dataframe tbody tr th:only-of-type {\n",
              "        vertical-align: middle;\n",
              "    }\n",
              "\n",
              "    .dataframe tbody tr th {\n",
              "        vertical-align: top;\n",
              "    }\n",
              "\n",
              "    .dataframe thead th {\n",
              "        text-align: right;\n",
              "    }\n",
              "</style>\n",
              "<table border=\"1\" class=\"dataframe\">\n",
              "  <thead>\n",
              "    <tr style=\"text-align: right;\">\n",
              "      <th></th>\n",
              "      <th>X1</th>\n",
              "      <th>X2</th>\n",
              "      <th>Y</th>\n",
              "      <th>output</th>\n",
              "      <th>crisp</th>\n",
              "    </tr>\n",
              "  </thead>\n",
              "  <tbody>\n",
              "    <tr>\n",
              "      <th>0</th>\n",
              "      <td>2.327868</td>\n",
              "      <td>2.458017</td>\n",
              "      <td>-1</td>\n",
              "      <td>-0.561304</td>\n",
              "      <td>-1</td>\n",
              "    </tr>\n",
              "    <tr>\n",
              "      <th>1</th>\n",
              "      <td>3.032830</td>\n",
              "      <td>3.170770</td>\n",
              "      <td>-1</td>\n",
              "      <td>-0.708376</td>\n",
              "      <td>-1</td>\n",
              "    </tr>\n",
              "    <tr>\n",
              "      <th>2</th>\n",
              "      <td>4.485465</td>\n",
              "      <td>3.696728</td>\n",
              "      <td>-1</td>\n",
              "      <td>-0.328389</td>\n",
              "      <td>-1</td>\n",
              "    </tr>\n",
              "    <tr>\n",
              "      <th>3</th>\n",
              "      <td>3.684815</td>\n",
              "      <td>3.846847</td>\n",
              "      <td>-1</td>\n",
              "      <td>-0.856630</td>\n",
              "      <td>-1</td>\n",
              "    </tr>\n",
              "    <tr>\n",
              "      <th>4</th>\n",
              "      <td>2.283559</td>\n",
              "      <td>1.853216</td>\n",
              "      <td>-1</td>\n",
              "      <td>-0.146321</td>\n",
              "      <td>-1</td>\n",
              "    </tr>\n",
              "    <tr>\n",
              "      <th>5</th>\n",
              "      <td>7.807521</td>\n",
              "      <td>3.290132</td>\n",
              "      <td>1</td>\n",
              "      <td>1.706687</td>\n",
              "      <td>1</td>\n",
              "    </tr>\n",
              "    <tr>\n",
              "      <th>6</th>\n",
              "      <td>6.132998</td>\n",
              "      <td>2.140563</td>\n",
              "      <td>1</td>\n",
              "      <td>1.662276</td>\n",
              "      <td>1</td>\n",
              "    </tr>\n",
              "    <tr>\n",
              "      <th>7</th>\n",
              "      <td>7.514829</td>\n",
              "      <td>2.107057</td>\n",
              "      <td>1</td>\n",
              "      <td>2.410518</td>\n",
              "      <td>1</td>\n",
              "    </tr>\n",
              "    <tr>\n",
              "      <th>8</th>\n",
              "      <td>5.502385</td>\n",
              "      <td>1.404003</td>\n",
              "      <td>1</td>\n",
              "      <td>1.865550</td>\n",
              "      <td>1</td>\n",
              "    </tr>\n",
              "    <tr>\n",
              "      <th>9</th>\n",
              "      <td>7.432932</td>\n",
              "      <td>4.236233</td>\n",
              "      <td>1</td>\n",
              "      <td>0.824952</td>\n",
              "      <td>1</td>\n",
              "    </tr>\n",
              "  </tbody>\n",
              "</table>\n",
              "</div>"
            ],
            "text/plain": [
              "         X1        X2  Y    output  crisp\n",
              "0  2.327868  2.458017 -1 -0.561304     -1\n",
              "1  3.032830  3.170770 -1 -0.708376     -1\n",
              "2  4.485465  3.696728 -1 -0.328389     -1\n",
              "3  3.684815  3.846847 -1 -0.856630     -1\n",
              "4  2.283559  1.853216 -1 -0.146321     -1\n",
              "5  7.807521  3.290132  1  1.706687      1\n",
              "6  6.132998  2.140563  1  1.662276      1\n",
              "7  7.514829  2.107057  1  2.410518      1\n",
              "8  5.502385  1.404003  1  1.865550      1\n",
              "9  7.432932  4.236233  1  0.824952      1"
            ]
          },
          "metadata": {
            "tags": []
          },
          "execution_count": 44
        }
      ]
    },
    {
      "cell_type": "markdown",
      "metadata": {
        "id": "n4NsSwNFQhU0",
        "colab_type": "text"
      },
      "source": [
        "* Comparando a coluna `crisp` com a coluna `Y` podemos ver que o modelo teve 100% de acurácia nos dados de treinamento."
      ]
    },
    {
      "cell_type": "markdown",
      "metadata": {
        "id": "Am7d6Ymt_665",
        "colab_type": "text"
      },
      "source": [
        "# [Machine Learning Tutorial Python - 10 Support Vector Machine (SVM)](https://www.youtube.com/watch?v=FB5EdxAGxQg)"
      ]
    },
    {
      "cell_type": "code",
      "metadata": {
        "id": "vnUUx0tZA3qM",
        "colab_type": "code",
        "colab": {}
      },
      "source": [
        "import pandas as pd\n",
        "from sklearn.datasets import load_iris\n",
        "from matplotlib import pyplot as plt\n",
        "%matplotlib inline"
      ],
      "execution_count": 0,
      "outputs": []
    },
    {
      "cell_type": "code",
      "metadata": {
        "id": "xVIYCPnkRgiP",
        "colab_type": "code",
        "outputId": "4015a9ba-e63f-454e-bcdb-5fa62872dd24",
        "colab": {
          "base_uri": "https://localhost:8080/",
          "height": 204
        }
      },
      "source": [
        "iris = load_iris()\n",
        "df = pd.DataFrame(iris.data, columns=iris.feature_names)\n",
        "df['target'] = iris.target\n",
        "df['flower_name'] = df.target.apply(lambda x: iris.target_names[x])\n",
        "df.head()"
      ],
      "execution_count": 0,
      "outputs": [
        {
          "output_type": "execute_result",
          "data": {
            "text/html": [
              "<div>\n",
              "<style scoped>\n",
              "    .dataframe tbody tr th:only-of-type {\n",
              "        vertical-align: middle;\n",
              "    }\n",
              "\n",
              "    .dataframe tbody tr th {\n",
              "        vertical-align: top;\n",
              "    }\n",
              "\n",
              "    .dataframe thead th {\n",
              "        text-align: right;\n",
              "    }\n",
              "</style>\n",
              "<table border=\"1\" class=\"dataframe\">\n",
              "  <thead>\n",
              "    <tr style=\"text-align: right;\">\n",
              "      <th></th>\n",
              "      <th>sepal length (cm)</th>\n",
              "      <th>sepal width (cm)</th>\n",
              "      <th>petal length (cm)</th>\n",
              "      <th>petal width (cm)</th>\n",
              "      <th>target</th>\n",
              "      <th>flower_name</th>\n",
              "    </tr>\n",
              "  </thead>\n",
              "  <tbody>\n",
              "    <tr>\n",
              "      <th>0</th>\n",
              "      <td>5.1</td>\n",
              "      <td>3.5</td>\n",
              "      <td>1.4</td>\n",
              "      <td>0.2</td>\n",
              "      <td>0</td>\n",
              "      <td>setosa</td>\n",
              "    </tr>\n",
              "    <tr>\n",
              "      <th>1</th>\n",
              "      <td>4.9</td>\n",
              "      <td>3.0</td>\n",
              "      <td>1.4</td>\n",
              "      <td>0.2</td>\n",
              "      <td>0</td>\n",
              "      <td>setosa</td>\n",
              "    </tr>\n",
              "    <tr>\n",
              "      <th>2</th>\n",
              "      <td>4.7</td>\n",
              "      <td>3.2</td>\n",
              "      <td>1.3</td>\n",
              "      <td>0.2</td>\n",
              "      <td>0</td>\n",
              "      <td>setosa</td>\n",
              "    </tr>\n",
              "    <tr>\n",
              "      <th>3</th>\n",
              "      <td>4.6</td>\n",
              "      <td>3.1</td>\n",
              "      <td>1.5</td>\n",
              "      <td>0.2</td>\n",
              "      <td>0</td>\n",
              "      <td>setosa</td>\n",
              "    </tr>\n",
              "    <tr>\n",
              "      <th>4</th>\n",
              "      <td>5.0</td>\n",
              "      <td>3.6</td>\n",
              "      <td>1.4</td>\n",
              "      <td>0.2</td>\n",
              "      <td>0</td>\n",
              "      <td>setosa</td>\n",
              "    </tr>\n",
              "  </tbody>\n",
              "</table>\n",
              "</div>"
            ],
            "text/plain": [
              "   sepal length (cm)  sepal width (cm)  ...  target  flower_name\n",
              "0                5.1               3.5  ...       0       setosa\n",
              "1                4.9               3.0  ...       0       setosa\n",
              "2                4.7               3.2  ...       0       setosa\n",
              "3                4.6               3.1  ...       0       setosa\n",
              "4                5.0               3.6  ...       0       setosa\n",
              "\n",
              "[5 rows x 6 columns]"
            ]
          },
          "metadata": {
            "tags": []
          },
          "execution_count": 8
        }
      ]
    },
    {
      "cell_type": "code",
      "metadata": {
        "id": "MKckN30zRzD4",
        "colab_type": "code",
        "outputId": "8e5b06a6-aa18-44ba-9603-f3a6ba3c3930",
        "colab": {
          "base_uri": "https://localhost:8080/",
          "height": 204
        }
      },
      "source": [
        "df0 = df[df.target == 0]\n",
        "df1 = df[df.target == 1]\n",
        "df2 = df[df.target == 2]\n",
        "df1.head()"
      ],
      "execution_count": 0,
      "outputs": [
        {
          "output_type": "execute_result",
          "data": {
            "text/html": [
              "<div>\n",
              "<style scoped>\n",
              "    .dataframe tbody tr th:only-of-type {\n",
              "        vertical-align: middle;\n",
              "    }\n",
              "\n",
              "    .dataframe tbody tr th {\n",
              "        vertical-align: top;\n",
              "    }\n",
              "\n",
              "    .dataframe thead th {\n",
              "        text-align: right;\n",
              "    }\n",
              "</style>\n",
              "<table border=\"1\" class=\"dataframe\">\n",
              "  <thead>\n",
              "    <tr style=\"text-align: right;\">\n",
              "      <th></th>\n",
              "      <th>sepal length (cm)</th>\n",
              "      <th>sepal width (cm)</th>\n",
              "      <th>petal length (cm)</th>\n",
              "      <th>petal width (cm)</th>\n",
              "      <th>target</th>\n",
              "      <th>flower_name</th>\n",
              "    </tr>\n",
              "  </thead>\n",
              "  <tbody>\n",
              "    <tr>\n",
              "      <th>50</th>\n",
              "      <td>7.0</td>\n",
              "      <td>3.2</td>\n",
              "      <td>4.7</td>\n",
              "      <td>1.4</td>\n",
              "      <td>1</td>\n",
              "      <td>versicolor</td>\n",
              "    </tr>\n",
              "    <tr>\n",
              "      <th>51</th>\n",
              "      <td>6.4</td>\n",
              "      <td>3.2</td>\n",
              "      <td>4.5</td>\n",
              "      <td>1.5</td>\n",
              "      <td>1</td>\n",
              "      <td>versicolor</td>\n",
              "    </tr>\n",
              "    <tr>\n",
              "      <th>52</th>\n",
              "      <td>6.9</td>\n",
              "      <td>3.1</td>\n",
              "      <td>4.9</td>\n",
              "      <td>1.5</td>\n",
              "      <td>1</td>\n",
              "      <td>versicolor</td>\n",
              "    </tr>\n",
              "    <tr>\n",
              "      <th>53</th>\n",
              "      <td>5.5</td>\n",
              "      <td>2.3</td>\n",
              "      <td>4.0</td>\n",
              "      <td>1.3</td>\n",
              "      <td>1</td>\n",
              "      <td>versicolor</td>\n",
              "    </tr>\n",
              "    <tr>\n",
              "      <th>54</th>\n",
              "      <td>6.5</td>\n",
              "      <td>2.8</td>\n",
              "      <td>4.6</td>\n",
              "      <td>1.5</td>\n",
              "      <td>1</td>\n",
              "      <td>versicolor</td>\n",
              "    </tr>\n",
              "  </tbody>\n",
              "</table>\n",
              "</div>"
            ],
            "text/plain": [
              "    sepal length (cm)  sepal width (cm)  ...  target  flower_name\n",
              "50                7.0               3.2  ...       1   versicolor\n",
              "51                6.4               3.2  ...       1   versicolor\n",
              "52                6.9               3.1  ...       1   versicolor\n",
              "53                5.5               2.3  ...       1   versicolor\n",
              "54                6.5               2.8  ...       1   versicolor\n",
              "\n",
              "[5 rows x 6 columns]"
            ]
          },
          "metadata": {
            "tags": []
          },
          "execution_count": 10
        }
      ]
    },
    {
      "cell_type": "code",
      "metadata": {
        "id": "MfT6-f9NS29T",
        "colab_type": "code",
        "outputId": "a1bf8cb3-a69f-407e-c795-bbe751c45f69",
        "colab": {
          "base_uri": "https://localhost:8080/",
          "height": 297
        }
      },
      "source": [
        "plt.xlabel('sepal length (cm)')\n",
        "plt.ylabel('sepal width (cm)')\n",
        "plt.scatter(df0['sepal length (cm)'], df0['sepal width (cm)'], color='green', marker='+')\n",
        "plt.scatter(df1['sepal length (cm)'], df1['sepal width (cm)'], color='blue', marker='o')\n",
        "plt.scatter(df2['sepal length (cm)'], df2['sepal width (cm)'], color='pink', marker='x')"
      ],
      "execution_count": 0,
      "outputs": [
        {
          "output_type": "execute_result",
          "data": {
            "text/plain": [
              "<matplotlib.collections.PathCollection at 0x7f5c9f310780>"
            ]
          },
          "metadata": {
            "tags": []
          },
          "execution_count": 17
        },
        {
          "output_type": "display_data",
          "data": {
            "image/png": "[encoded data removed]",
            "text/plain": [
              "<Figure size 432x288 with 1 Axes>"
            ]
          },
          "metadata": {
            "tags": []
          }
        }
      ]
    },
    {
      "cell_type": "code",
      "metadata": {
        "id": "jGJPMV6VTIon",
        "colab_type": "code",
        "outputId": "c6496031-2e76-44e5-d5e8-da8a084b890f",
        "colab": {
          "base_uri": "https://localhost:8080/",
          "height": 296
        }
      },
      "source": [
        "plt.xlabel('petal length (cm)')\n",
        "plt.ylabel('petal width (cm)')\n",
        "plt.scatter(df0['petal length (cm)'], df0['petal width (cm)'], color='green', marker='+')\n",
        "plt.scatter(df1['petal length (cm)'], df1['petal width (cm)'], color='blue', marker='o')\n",
        "plt.scatter(df2['petal length (cm)'], df2['petal width (cm)'], color='pink', marker='x')"
      ],
      "execution_count": 0,
      "outputs": [
        {
          "output_type": "execute_result",
          "data": {
            "text/plain": [
              "<matplotlib.collections.PathCollection at 0x7f5c9f3107f0>"
            ]
          },
          "metadata": {
            "tags": []
          },
          "execution_count": 18
        },
        {
          "output_type": "display_data",
          "data": {
            "image/png": "[encoded data removed]",
            "text/plain": [
              "<Figure size 432x288 with 1 Axes>"
            ]
          },
          "metadata": {
            "tags": []
          }
        }
      ]
    },
    {
      "cell_type": "code",
      "metadata": {
        "id": "TpSDJ01ZT8ef",
        "colab_type": "code",
        "colab": {}
      },
      "source": [
        "from sklearn.model_selection import train_test_split"
      ],
      "execution_count": 0,
      "outputs": []
    },
    {
      "cell_type": "code",
      "metadata": {
        "id": "sTAzgZZ0UeVB",
        "colab_type": "code",
        "outputId": "0fe63652-bc5c-42cc-80ba-7593280b1434",
        "colab": {
          "base_uri": "https://localhost:8080/",
          "height": 34
        }
      },
      "source": [
        "X_train, X_test, y_train, y_test = train_test_split(iris.data, iris.target, test_size=0.2)\n",
        "X_train.shape, X_test.shape"
      ],
      "execution_count": 0,
      "outputs": [
        {
          "output_type": "execute_result",
          "data": {
            "text/plain": [
              "((120, 4), (30, 4))"
            ]
          },
          "metadata": {
            "tags": []
          },
          "execution_count": 20
        }
      ]
    },
    {
      "cell_type": "code",
      "metadata": {
        "id": "y_Dm1pUfUuw0",
        "colab_type": "code",
        "colab": {}
      },
      "source": [
        "from sklearn.svm import SVC\n",
        "\n",
        "svm = SVC(gamma='auto').fit(X_train, y_train)"
      ],
      "execution_count": 0,
      "outputs": []
    },
    {
      "cell_type": "code",
      "metadata": {
        "id": "uHXB57dBU-Xh",
        "colab_type": "code",
        "outputId": "8cad5d64-fe28-4b2c-d756-7107f745c2e2",
        "colab": {
          "base_uri": "https://localhost:8080/",
          "height": 34
        }
      },
      "source": [
        "svm.score(X_test, y_test)"
      ],
      "execution_count": 0,
      "outputs": [
        {
          "output_type": "execute_result",
          "data": {
            "text/plain": [
              "1.0"
            ]
          },
          "metadata": {
            "tags": []
          },
          "execution_count": 43
        }
      ]
    },
    {
      "cell_type": "markdown",
      "metadata": {
        "id": "tKTxfFX1cqL8",
        "colab_type": "text"
      },
      "source": [
        "## Referencias\n",
        "\n",
        "1. [Machine Learning Tutorial Python - 10 Support Vector Machine (SVM)](https://www.youtube.com/watch?v=FB5EdxAGxQg)\n",
        "2. [Support Vector Machines - The Math of Intelligence (Week 1)](https://www.youtube.com/watch?v=g8D5YL6cOSE)\n",
        "3. [Lecture 67 — Support Vector Machines - Introduction | Stanford University](https://www.youtube.com/watch?v=v7H5ks5iDEQ)\n",
        "4. [Lecture 68 — Support Vector Machines Mathematical Formulation | Stanford](https://www.youtube.com/watch?v=ax8LxRZCORU&t=1s)\n",
        "5. [Lecture 12.1 — Support Vector Machines | Optimization Objective — [ Machine Learning | Andrew Ng]](https://www.youtube.com/watch?v=hCOIMkcsm_g&list=PLLssT5z_DsK-h9vYZkQkYNWcItqhlRJLN&index=70)"
      ]
    },
    {
      "cell_type": "code",
      "metadata": {
        "id": "qp6R0oSEVP6i",
        "colab_type": "code",
        "colab": {}
      },
      "source": [
        ""
      ],
      "execution_count": 0,
      "outputs": []
    }
  ]
}