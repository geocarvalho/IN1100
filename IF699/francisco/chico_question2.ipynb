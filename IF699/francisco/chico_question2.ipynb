{
  "nbformat": 4,
  "nbformat_minor": 0,
  "metadata": {
    "colab": {
      "name": "chico_question2.ipynb",
      "provenance": [],
      "collapsed_sections": [],
      "include_colab_link": true
    },
    "kernelspec": {
      "name": "python3",
      "display_name": "Python 3"
    }
  },
  "cells": [
    {
      "cell_type": "markdown",
      "metadata": {
        "id": "view-in-github",
        "colab_type": "text"
      },
      "source": [
        "<a href=\"https://colab.research.google.com/github/geocarvalho/uni-proj/blob/master/IF699/francisco/chico_question2.ipynb\" target=\"_parent\"><img src=\"https://colab.research.google.com/assets/colab-badge.svg\" alt=\"Open In Colab\"/></a>"
      ]
    },
    {
      "cell_type": "code",
      "metadata": {
        "id": "lelRHmFS5-zX",
        "colab_type": "code",
        "colab": {}
      },
      "source": [
        "import sys, os, warnings\n",
        "import numpy as np\n",
        "import seaborn as sns\n",
        "import pandas as pd\n",
        "import scipy.stats\n",
        "import matplotlib.pyplot as plt\n",
        "from sklearn.naive_bayes import GaussianNB\n",
        "from sklearn.model_selection import RepeatedStratifiedKFold\n",
        "from sklearn.neighbors import KNeighborsClassifier\n",
        "from sklearn.model_selection import GridSearchCV\n",
        "from scipy.stats import wilcoxon"
      ],
      "execution_count": 0,
      "outputs": []
    },
    {
      "cell_type": "code",
      "metadata": {
        "id": "EnAWuMCLvein",
        "colab_type": "code",
        "outputId": "cb2558d1-6cb9-4fbc-cc2f-b2ec66f751ce",
        "colab": {
          "base_uri": "https://localhost:8080/",
          "height": 495
        }
      },
      "source": [
        "\n",
        "def mean_confidence_interval(data, confidence=0.95):\n",
        "  mean = np.mean(data)\n",
        "  std = np.std(data)\n",
        "  conf_int = scipy.stats.norm.interval(confidence, loc=mean, scale=std)\n",
        "  return conf_int\n",
        "\n",
        "\n",
        "# Ler os dados Image Segmentation Database\n",
        "data = pd.read_csv('https://raw.githubusercontent.com/FelipeMartins96/IN1102_AM_fatc_2019.2/master/data/seg.test')\n",
        "\n",
        "# Abri os resultados de classe para cada amostra\n",
        "ground_truth = np.genfromtxt('https://raw.githubusercontent.com/FelipeMartins96/IN1102_AM_fatc_2019.2/master/data/test_gt.csv', delimiter=',')\n",
        "\n",
        "# Divide o dado em shape view e rgb view\n",
        "# Primeiras 9 colunas\n",
        "# shape_view([2100]points (n), [9]features (p))\n",
        "shape_view = data.values[:, 0:9]\n",
        "# Demais 10 colunas\n",
        "# rgb_view([2100]points (n), [10]features (p))\n",
        "rgb_view = data.values[:, 9:19]\n",
        "\n",
        "L = 2\n",
        "K = 7\n",
        "\n",
        "prob_priori = np.zeros(K)\n",
        "for i in range(0,K):\n",
        "    prob_priori[i] = np.count_nonzero(ground_truth==i) / ground_truth.shape[0]\n",
        "\n",
        "#GRID SEARCH CROSS VALIDATION - ENCONTRAR MELHOR NUMERO DE VIZINHOS\n",
        "kb_1 = KNeighborsClassifier()\n",
        "kb_2 = KNeighborsClassifier()\n",
        "\n",
        "\n",
        "k_range = list(range(1,31))\n",
        "param_grid = dict(n_neighbors=k_range)\n",
        "\n",
        "grid_1 = GridSearchCV(kb_1, param_grid, cv=10, scoring='accuracy', n_jobs=6)\n",
        "grid_2 = GridSearchCV(kb_2, param_grid, cv=10, scoring='accuracy', n_jobs=6)\n",
        "\n",
        "grid_1.fit(shape_view, ground_truth)\n",
        "grid_2.fit(rgb_view, ground_truth)\n",
        "\n",
        "print('---')\n",
        "print('Best K for grid_1: ', grid_1.best_params_['n_neighbors'])\n",
        "print('Best K for grid_2: ', grid_2.best_params_['n_neighbors'])\n",
        "print('---')\n",
        "\n",
        "# Use validação cruzada estratificada '30 times ten fold' para validar e comparar\n",
        "# os classificadores combinados descritos.\n",
        "rskf = RepeatedStratifiedKFold(n_splits=10, n_repeats=30)\n",
        "score_gb = []\n",
        "score_kb = []\n",
        "\n",
        "for train_index, test_index in rskf.split(shape_view, ground_truth):\n",
        "\n",
        "    shape_train, shape_test = shape_view[train_index], shape_view[test_index]\n",
        "    rgb_train, rgb_test = rgb_view[train_index], rgb_view[test_index]\n",
        "    true_labels_train, true_labels_test = ground_truth[train_index], ground_truth[test_index]\n",
        "\n",
        "    # Classificador Bayesiano Gaussiano\n",
        "    gb_1 = GaussianNB()\n",
        "    gb_2 = GaussianNB()\n",
        "\n",
        "    gb_1.fit(shape_train, true_labels_train)\n",
        "    gb_2.fit(rgb_train, true_labels_train)\n",
        "\n",
        "    pred_1 = gb_1.predict_proba(shape_test)\n",
        "    pred_2 = gb_2.predict_proba(rgb_test)\n",
        "\n",
        "    # Classificador combinado pela regra da soma a partir do classificador\n",
        "    # bayesiano gaussiano (um para cada view).\n",
        "    gb_ensemble = np.argmax(((1-L)*(prob_priori) + pred_1 + pred_2), axis=1)\n",
        "\n",
        "    # Score do Ensemble\n",
        "    score_gb.append(np.equal(gb_ensemble, true_labels_test).sum() / true_labels_test.shape[0])\n",
        "\n",
        "    # Classificador KNN Bayesiano\n",
        "    kb_1 = KNeighborsClassifier(n_neighbors=grid_1.best_params_['n_neighbors'])\n",
        "    kb_2 = KNeighborsClassifier(n_neighbors=grid_2.best_params_['n_neighbors'])\n",
        "\n",
        "    kb_1.fit(shape_train, true_labels_train)\n",
        "    kb_2.fit(rgb_train, true_labels_train)\n",
        "\n",
        "    pred_1 = kb_1.predict_proba(shape_test)\n",
        "    pred_2 = kb_2.predict_proba(rgb_test)\n",
        "\n",
        "    # Ensemble pela regra da soma\n",
        "    kb_ensemble = np.argmax(((1-L)*(prob_priori) + pred_1 + pred_2), axis=1)\n",
        "    # Score dos ensembles\n",
        "    score_kb.append(np.equal(kb_ensemble, true_labels_test).sum() / true_labels_test.shape[0])\n",
        "\n",
        "# Teste Wilcoxon nos 2 classificadores acima\n",
        "stat, p = wilcoxon(score_gb, score_kb)\n",
        "print(wilcoxon(score_gb, score_kb))\n",
        "print('Statistics=%.3f, p=%.3f' % (stat, p))\n",
        "# Interpretação\n",
        "alpha = 0.05\n",
        "if p > alpha:\n",
        "  print('Mesma distribuição (falha em rejeitar H0)')\n",
        "  print('---')\n",
        "else:\n",
        "  print('Distribuições diferentes (rejeita H0)')\n",
        "  print('---')\n",
        "\n",
        "# Intervalo de confiança\n",
        "print('Intervalo de confiança para GaussianNB: ', mean_confidence_interval(score_gb))\n",
        "print('Acurácia para GaussianNB: ', np.mean(score_gb))\n",
        "print('Intervalo de confiança para KNeighborsClassifier: ', mean_confidence_interval(score_kb))\n",
        "print('Acurácia para KNeighborsClassifier: ', np.mean(score_kb))\n",
        "print('---')\n",
        "    \n",
        "hist_skb  = sns.distplot(score_kb, hist=True, kde=True,\n",
        "    bins=int(50), color = 'green',\n",
        "    hist_kws={'edgecolor':'black'},\n",
        "    kde_kws={'linewidth': 3})\n",
        "fig1 = hist_skb.get_figure()\n",
        "\n",
        "hist_sgb  = sns.distplot(score_gb, hist=True, kde=True,\n",
        "    bins=int(50), hist_kws={'edgecolor':'red'},\n",
        "    kde_kws={'linewidth': 3})\n",
        "hist_sgb.figure.savefig('hist_sgb.png')"
      ],
      "execution_count": 84,
      "outputs": [
        {
          "output_type": "stream",
          "text": [
            "---\n",
            "Best K for grid_1:  3\n",
            "Best K for grid_2:  1\n",
            "---\n",
            "WilcoxonResult(statistic=0.0, pvalue=5.886000650612085e-51)\n",
            "Statistics=0.000, p=0.000\n",
            "Distribuições diferentes (rejeita H0)\n",
            "---\n",
            "Intervalo de confiança para GaussianNB:  (0.6262734023724522, 0.7182027881037384)\n",
            "Acurácia para GaussianNB:  0.6722380952380953\n",
            "Intervalo de confiança para KNeighborsClassifier:  (0.8342489827368689, 0.9190208585329722)\n",
            "Acurácia para KNeighborsClassifier:  0.8766349206349205\n",
            "---\n"
          ],
          "name": "stdout"
        },
        {
          "output_type": "display_data",
          "data": {
            "image/png": "[encoded data removed]",
            "text/plain": [
              "<Figure size 432x288 with 1 Axes>"
            ]
          },
          "metadata": {
            "tags": []
          }
        }
      ]
    },
    {
      "cell_type": "code",
      "metadata": {
        "id": "U9n0_pOrmt5q",
        "colab_type": "code",
        "colab": {}
      },
      "source": [
        ""
      ],
      "execution_count": 0,
      "outputs": []
    }
  ]
}