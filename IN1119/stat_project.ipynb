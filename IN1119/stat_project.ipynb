{
  "nbformat": 4,
  "nbformat_minor": 0,
  "metadata": {
    "colab": {
      "name": "stat_project.ipynb",
      "version": "0.3.2",
      "provenance": [],
      "collapsed_sections": [],
      "include_colab_link": true
    },
    "language_info": {
      "codemirror_mode": "r",
      "file_extension": ".r",
      "mimetype": "text/x-r-source",
      "name": "R",
      "pygments_lexer": "r",
      "version": "3.3.1"
    },
    "kernelspec": {
      "display_name": "R",
      "language": "R",
      "name": "ir"
    }
  },
  "cells": [
    {
      "cell_type": "markdown",
      "metadata": {
        "id": "view-in-github",
        "colab_type": "text"
      },
      "source": [
        "<a href=\"https://colab.research.google.com/github/geocarvalho/uni-proj/blob/master/IN1119/stat_project.ipynb\" target=\"_parent\"><img src=\"https://colab.research.google.com/assets/colab-badge.svg\" alt=\"Open In Colab\"/></a>"
      ]
    },
    {
      "cell_type": "markdown",
      "metadata": {
        "id": "fbcXbfn_hwbS",
        "colab_type": "text"
      },
      "source": [
        "# Dados populacionais gerais\n",
        "## Teste de normalidade (Shapiro-Wilk)\n"
      ]
    },
    {
      "cell_type": "code",
      "metadata": {
        "id": "VaEvTZicitlD",
        "colab_type": "code",
        "outputId": "c2167721-c14a-4aec-a1cd-3f4ca15b4d89",
        "colab": {
          "base_uri": "https://localhost:8080/",
          "height": 289
        }
      },
      "source": [
        "library('ggplot2')\n",
        "library('dplyr')\n",
        "set.seed(1234)"
      ],
      "execution_count": 0,
      "outputs": [
        {
          "output_type": "stream",
          "text": [
            "Registered S3 methods overwritten by 'ggplot2':\n",
            "  method         from \n",
            "  [.quosures     rlang\n",
            "  c.quosures     rlang\n",
            "  print.quosures rlang\n",
            "\n",
            "Attaching package: ‘dplyr’\n",
            "\n",
            "The following objects are masked from ‘package:stats’:\n",
            "\n",
            "    filter, lag\n",
            "\n",
            "The following objects are masked from ‘package:base’:\n",
            "\n",
            "    intersect, setdiff, setequal, union\n",
            "\n"
          ],
          "name": "stderr"
        }
      ]
    },
    {
      "cell_type": "code",
      "metadata": {
        "id": "hSE8_ESabhB_",
        "colab_type": "code",
        "outputId": "e541afd8-c47e-44f5-e086-4c56927e98b8",
        "colab": {
          "base_uri": "https://localhost:8080/",
          "height": 214
        }
      },
      "source": [
        "# Open file\n",
        "df <- read.csv('suicidio_prop_100k_hab_ano_2010-2017.csv')\n",
        "\n",
        "# Transpose columns as rows\n",
        "# t_df <- setNames(data.frame(t(df[,-1])), df[,1])\n",
        "# t_df <- tibble::rowid_to_column(t_df, 'month')\n",
        "df$proporcao <- df$obitos_por_residencia / df$pop_br_ibge\n",
        "df$proporcao_100k <- (df$obitos_por_residencia * 100000) / df$pop_br_ibge\n",
        "df"
      ],
      "execution_count": 11,
      "outputs": [
        {
          "output_type": "display_data",
          "data": {
            "text/plain": [
              "  ano_do_obito obitos_por_residencia pop_br_ibge proporcao    proporcao_100k\n",
              "1 2010          9448                 194890682   4.847846e-05 4.847846      \n",
              "2 2011          9852                 196603732   5.011095e-05 5.011095      \n",
              "3 2012         10321                 198314934   5.204348e-05 5.204348      \n",
              "4 2013         10533                 200004188   5.266390e-05 5.266390      \n",
              "5 2014         10653                 201717541   5.281147e-05 5.281147      \n",
              "6 2015         11178                 203475683   5.493531e-05 5.493531      \n",
              "7 2016         11433                 205156587   5.572816e-05 5.572816      \n",
              "8 2017         12495                 206804741   6.041931e-05 6.041931      "
            ],
            "text/latex": "A data.frame: 8 × 5\n\\begin{tabular}{r|lllll}\n ano\\_do\\_obito & obitos\\_por\\_residencia & pop\\_br\\_ibge & proporcao & proporcao\\_100k\\\\\n <int> & <int> & <int> & <dbl> & <dbl>\\\\\n\\hline\n\t 2010 &  9448 & 194890682 & 4.847846e-05 & 4.847846\\\\\n\t 2011 &  9852 & 196603732 & 5.011095e-05 & 5.011095\\\\\n\t 2012 & 10321 & 198314934 & 5.204348e-05 & 5.204348\\\\\n\t 2013 & 10533 & 200004188 & 5.266390e-05 & 5.266390\\\\\n\t 2014 & 10653 & 201717541 & 5.281147e-05 & 5.281147\\\\\n\t 2015 & 11178 & 203475683 & 5.493531e-05 & 5.493531\\\\\n\t 2016 & 11433 & 205156587 & 5.572816e-05 & 5.572816\\\\\n\t 2017 & 12495 & 206804741 & 6.041931e-05 & 6.041931\\\\\n\\end{tabular}\n",
            "text/markdown": "\nA data.frame: 8 × 5\n\n| ano_do_obito &lt;int&gt; | obitos_por_residencia &lt;int&gt; | pop_br_ibge &lt;int&gt; | proporcao &lt;dbl&gt; | proporcao_100k &lt;dbl&gt; |\n|---|---|---|---|---|\n| 2010 |  9448 | 194890682 | 4.847846e-05 | 4.847846 |\n| 2011 |  9852 | 196603732 | 5.011095e-05 | 5.011095 |\n| 2012 | 10321 | 198314934 | 5.204348e-05 | 5.204348 |\n| 2013 | 10533 | 200004188 | 5.266390e-05 | 5.266390 |\n| 2014 | 10653 | 201717541 | 5.281147e-05 | 5.281147 |\n| 2015 | 11178 | 203475683 | 5.493531e-05 | 5.493531 |\n| 2016 | 11433 | 205156587 | 5.572816e-05 | 5.572816 |\n| 2017 | 12495 | 206804741 | 6.041931e-05 | 6.041931 |\n\n",
            "text/html": [
              "<table>\n",
              "<caption>A data.frame: 8 × 5</caption>\n",
              "<thead>\n",
              "\t<tr><th scope=col>ano_do_obito</th><th scope=col>obitos_por_residencia</th><th scope=col>pop_br_ibge</th><th scope=col>proporcao</th><th scope=col>proporcao_100k</th></tr>\n",
              "\t<tr><th scope=col>&lt;int&gt;</th><th scope=col>&lt;int&gt;</th><th scope=col>&lt;int&gt;</th><th scope=col>&lt;dbl&gt;</th><th scope=col>&lt;dbl&gt;</th></tr>\n",
              "</thead>\n",
              "<tbody>\n",
              "\t<tr><td>2010</td><td> 9448</td><td>194890682</td><td>4.847846e-05</td><td>4.847846</td></tr>\n",
              "\t<tr><td>2011</td><td> 9852</td><td>196603732</td><td>5.011095e-05</td><td>5.011095</td></tr>\n",
              "\t<tr><td>2012</td><td>10321</td><td>198314934</td><td>5.204348e-05</td><td>5.204348</td></tr>\n",
              "\t<tr><td>2013</td><td>10533</td><td>200004188</td><td>5.266390e-05</td><td>5.266390</td></tr>\n",
              "\t<tr><td>2014</td><td>10653</td><td>201717541</td><td>5.281147e-05</td><td>5.281147</td></tr>\n",
              "\t<tr><td>2015</td><td>11178</td><td>203475683</td><td>5.493531e-05</td><td>5.493531</td></tr>\n",
              "\t<tr><td>2016</td><td>11433</td><td>205156587</td><td>5.572816e-05</td><td>5.572816</td></tr>\n",
              "\t<tr><td>2017</td><td>12495</td><td>206804741</td><td>6.041931e-05</td><td>6.041931</td></tr>\n",
              "</tbody>\n",
              "</table>\n"
            ]
          },
          "metadata": {
            "tags": []
          }
        }
      ]
    },
    {
      "cell_type": "code",
      "metadata": {
        "id": "x6ERtcQnDwU2",
        "colab_type": "code",
        "colab": {
          "base_uri": "https://localhost:8080/",
          "height": 286
        },
        "outputId": "f7ca2141-aec1-403a-dc91-96cfd0434ff0"
      },
      "source": [
        "df_mes <- read.csv('suicidios_mes_2015-2017.csv')\n",
        "t_df_mes <- setNames(data.frame(t(df_mes[,-1])), df_mes[,1])\n",
        "t_df_mes <- tibble::rowid_to_column(t_df_mes, 'month')\n",
        "t_df_mes$'2017_prop_100k' <- (t_df_mes$'2017_obt' * 100000) / t_df_mes$'2017_pop'\n",
        "t_df_mes$'2016_prop_100k' <- (t_df_mes$'2016_obt' * 100000) / t_df_mes$'2016_pop'\n",
        "t_df_mes$'2015_prop_100k' <- (t_df_mes$'2015_obt' * 100000) / t_df_mes$'2015_pop'\n",
        "\n",
        "t_df_mes"
      ],
      "execution_count": 32,
      "outputs": [
        {
          "output_type": "display_data",
          "data": {
            "text/plain": [
              "   month 2017_obt 2016_obt 2015_obt 2017_pop  2015_pop  2016_pop \n",
              "1   1    1059      941     1047     206003753 202609241 204314268\n",
              "2   2     967      926      852     206143689 202751801 204455719\n",
              "3   3    1055      929      947     206283480 202894285 204597060\n",
              "4   4     923      919      935     206423124 203036688 204738287\n",
              "5   5    1029      927      899     206562618 203179009 204879397\n",
              "6   6     932      879      867     206701959 203321245 205020388\n",
              "7   7     938      925      851     206841144 203463392 205161258\n",
              "8   8    1071      910      915     206980170 203605449 205302002\n",
              "9   9    1135      962      902     207119034 203747412 205442619\n",
              "10 10    1212     1047      990     207257734 203889278 205583105\n",
              "11 11    1063     1016      921     207396267 204031044 205723458\n",
              "12 12    1111     1052     1052     207534630 204172708 205863675\n",
              "   2017_prop_100k 2016_prop_100k 2015_prop_100k\n",
              "1  0.5140683      0.4605650      0.5167583     \n",
              "2  0.4690903      0.4529098      0.4202182     \n",
              "3  0.5114321      0.4540632      0.4667455     \n",
              "4  0.4471398      0.4488657      0.4605079     \n",
              "5  0.4981540      0.4524613      0.4424670     \n",
              "6  0.4508907      0.4287378      0.4264188     \n",
              "7  0.4534881      0.4508649      0.4182571     \n",
              "8  0.5174409      0.4432495      0.4493986     \n",
              "9  0.5479941      0.4682573      0.4427050     \n",
              "10 0.5847791      0.5092831      0.4855577     \n",
              "11 0.5125454      0.4938669      0.4514019     \n",
              "12 0.5353323      0.5110178      0.5152501     "
            ],
            "text/latex": "A data.frame: 12 × 10\n\\begin{tabular}{r|llllllllll}\n month & 2017\\_obt & 2016\\_obt & 2015\\_obt & 2017\\_pop & 2015\\_pop & 2016\\_pop & 2017\\_prop\\_100k & 2016\\_prop\\_100k & 2015\\_prop\\_100k\\\\\n <int> & <int> & <int> & <int> & <int> & <int> & <int> & <dbl> & <dbl> & <dbl>\\\\\n\\hline\n\t  1 & 1059 &  941 & 1047 & 206003753 & 202609241 & 204314268 & 0.5140683 & 0.4605650 & 0.5167583\\\\\n\t  2 &  967 &  926 &  852 & 206143689 & 202751801 & 204455719 & 0.4690903 & 0.4529098 & 0.4202182\\\\\n\t  3 & 1055 &  929 &  947 & 206283480 & 202894285 & 204597060 & 0.5114321 & 0.4540632 & 0.4667455\\\\\n\t  4 &  923 &  919 &  935 & 206423124 & 203036688 & 204738287 & 0.4471398 & 0.4488657 & 0.4605079\\\\\n\t  5 & 1029 &  927 &  899 & 206562618 & 203179009 & 204879397 & 0.4981540 & 0.4524613 & 0.4424670\\\\\n\t  6 &  932 &  879 &  867 & 206701959 & 203321245 & 205020388 & 0.4508907 & 0.4287378 & 0.4264188\\\\\n\t  7 &  938 &  925 &  851 & 206841144 & 203463392 & 205161258 & 0.4534881 & 0.4508649 & 0.4182571\\\\\n\t  8 & 1071 &  910 &  915 & 206980170 & 203605449 & 205302002 & 0.5174409 & 0.4432495 & 0.4493986\\\\\n\t  9 & 1135 &  962 &  902 & 207119034 & 203747412 & 205442619 & 0.5479941 & 0.4682573 & 0.4427050\\\\\n\t 10 & 1212 & 1047 &  990 & 207257734 & 203889278 & 205583105 & 0.5847791 & 0.5092831 & 0.4855577\\\\\n\t 11 & 1063 & 1016 &  921 & 207396267 & 204031044 & 205723458 & 0.5125454 & 0.4938669 & 0.4514019\\\\\n\t 12 & 1111 & 1052 & 1052 & 207534630 & 204172708 & 205863675 & 0.5353323 & 0.5110178 & 0.5152501\\\\\n\\end{tabular}\n",
            "text/markdown": "\nA data.frame: 12 × 10\n\n| month &lt;int&gt; | 2017_obt &lt;int&gt; | 2016_obt &lt;int&gt; | 2015_obt &lt;int&gt; | 2017_pop &lt;int&gt; | 2015_pop &lt;int&gt; | 2016_pop &lt;int&gt; | 2017_prop_100k &lt;dbl&gt; | 2016_prop_100k &lt;dbl&gt; | 2015_prop_100k &lt;dbl&gt; |\n|---|---|---|---|---|---|---|---|---|---|\n|  1 | 1059 |  941 | 1047 | 206003753 | 202609241 | 204314268 | 0.5140683 | 0.4605650 | 0.5167583 |\n|  2 |  967 |  926 |  852 | 206143689 | 202751801 | 204455719 | 0.4690903 | 0.4529098 | 0.4202182 |\n|  3 | 1055 |  929 |  947 | 206283480 | 202894285 | 204597060 | 0.5114321 | 0.4540632 | 0.4667455 |\n|  4 |  923 |  919 |  935 | 206423124 | 203036688 | 204738287 | 0.4471398 | 0.4488657 | 0.4605079 |\n|  5 | 1029 |  927 |  899 | 206562618 | 203179009 | 204879397 | 0.4981540 | 0.4524613 | 0.4424670 |\n|  6 |  932 |  879 |  867 | 206701959 | 203321245 | 205020388 | 0.4508907 | 0.4287378 | 0.4264188 |\n|  7 |  938 |  925 |  851 | 206841144 | 203463392 | 205161258 | 0.4534881 | 0.4508649 | 0.4182571 |\n|  8 | 1071 |  910 |  915 | 206980170 | 203605449 | 205302002 | 0.5174409 | 0.4432495 | 0.4493986 |\n|  9 | 1135 |  962 |  902 | 207119034 | 203747412 | 205442619 | 0.5479941 | 0.4682573 | 0.4427050 |\n| 10 | 1212 | 1047 |  990 | 207257734 | 203889278 | 205583105 | 0.5847791 | 0.5092831 | 0.4855577 |\n| 11 | 1063 | 1016 |  921 | 207396267 | 204031044 | 205723458 | 0.5125454 | 0.4938669 | 0.4514019 |\n| 12 | 1111 | 1052 | 1052 | 207534630 | 204172708 | 205863675 | 0.5353323 | 0.5110178 | 0.5152501 |\n\n",
            "text/html": [
              "<table>\n",
              "<caption>A data.frame: 12 × 10</caption>\n",
              "<thead>\n",
              "\t<tr><th scope=col>month</th><th scope=col>2017_obt</th><th scope=col>2016_obt</th><th scope=col>2015_obt</th><th scope=col>2017_pop</th><th scope=col>2015_pop</th><th scope=col>2016_pop</th><th scope=col>2017_prop_100k</th><th scope=col>2016_prop_100k</th><th scope=col>2015_prop_100k</th></tr>\n",
              "\t<tr><th scope=col>&lt;int&gt;</th><th scope=col>&lt;int&gt;</th><th scope=col>&lt;int&gt;</th><th scope=col>&lt;int&gt;</th><th scope=col>&lt;int&gt;</th><th scope=col>&lt;int&gt;</th><th scope=col>&lt;int&gt;</th><th scope=col>&lt;dbl&gt;</th><th scope=col>&lt;dbl&gt;</th><th scope=col>&lt;dbl&gt;</th></tr>\n",
              "</thead>\n",
              "<tbody>\n",
              "\t<tr><td> 1</td><td>1059</td><td> 941</td><td>1047</td><td>206003753</td><td>202609241</td><td>204314268</td><td>0.5140683</td><td>0.4605650</td><td>0.5167583</td></tr>\n",
              "\t<tr><td> 2</td><td> 967</td><td> 926</td><td> 852</td><td>206143689</td><td>202751801</td><td>204455719</td><td>0.4690903</td><td>0.4529098</td><td>0.4202182</td></tr>\n",
              "\t<tr><td> 3</td><td>1055</td><td> 929</td><td> 947</td><td>206283480</td><td>202894285</td><td>204597060</td><td>0.5114321</td><td>0.4540632</td><td>0.4667455</td></tr>\n",
              "\t<tr><td> 4</td><td> 923</td><td> 919</td><td> 935</td><td>206423124</td><td>203036688</td><td>204738287</td><td>0.4471398</td><td>0.4488657</td><td>0.4605079</td></tr>\n",
              "\t<tr><td> 5</td><td>1029</td><td> 927</td><td> 899</td><td>206562618</td><td>203179009</td><td>204879397</td><td>0.4981540</td><td>0.4524613</td><td>0.4424670</td></tr>\n",
              "\t<tr><td> 6</td><td> 932</td><td> 879</td><td> 867</td><td>206701959</td><td>203321245</td><td>205020388</td><td>0.4508907</td><td>0.4287378</td><td>0.4264188</td></tr>\n",
              "\t<tr><td> 7</td><td> 938</td><td> 925</td><td> 851</td><td>206841144</td><td>203463392</td><td>205161258</td><td>0.4534881</td><td>0.4508649</td><td>0.4182571</td></tr>\n",
              "\t<tr><td> 8</td><td>1071</td><td> 910</td><td> 915</td><td>206980170</td><td>203605449</td><td>205302002</td><td>0.5174409</td><td>0.4432495</td><td>0.4493986</td></tr>\n",
              "\t<tr><td> 9</td><td>1135</td><td> 962</td><td> 902</td><td>207119034</td><td>203747412</td><td>205442619</td><td>0.5479941</td><td>0.4682573</td><td>0.4427050</td></tr>\n",
              "\t<tr><td>10</td><td>1212</td><td>1047</td><td> 990</td><td>207257734</td><td>203889278</td><td>205583105</td><td>0.5847791</td><td>0.5092831</td><td>0.4855577</td></tr>\n",
              "\t<tr><td>11</td><td>1063</td><td>1016</td><td> 921</td><td>207396267</td><td>204031044</td><td>205723458</td><td>0.5125454</td><td>0.4938669</td><td>0.4514019</td></tr>\n",
              "\t<tr><td>12</td><td>1111</td><td>1052</td><td>1052</td><td>207534630</td><td>204172708</td><td>205863675</td><td>0.5353323</td><td>0.5110178</td><td>0.5152501</td></tr>\n",
              "</tbody>\n",
              "</table>\n"
            ]
          },
          "metadata": {
            "tags": []
          }
        }
      ]
    },
    {
      "cell_type": "markdown",
      "metadata": {
        "id": "1i0R0gZ_HMEQ",
        "colab_type": "text"
      },
      "source": [
        "## Normality test for 2017"
      ]
    },
    {
      "cell_type": "code",
      "metadata": {
        "id": "KFNeKGfJbhCW",
        "colab_type": "code",
        "outputId": "3ca8c98f-0302-4632-db70-de0705ec5b84",
        "colab": {
          "base_uri": "https://localhost:8080/",
          "height": 106
        }
      },
      "source": [
        "# Normality test with Shapiro-Wilk for 2017 proportion (100k) during the months\n",
        "shapiro.test(t_df_mes$'2017_prop_100k')"
      ],
      "execution_count": 30,
      "outputs": [
        {
          "output_type": "display_data",
          "data": {
            "text/plain": [
              "\n",
              "\tShapiro-Wilk normality test\n",
              "\n",
              "data:  t_df_mes$\"2017_prop_100k\"\n",
              "W = 0.93883, p-value = 0.4831\n"
            ]
          },
          "metadata": {
            "tags": []
          }
        }
      ]
    },
    {
      "cell_type": "code",
      "metadata": {
        "id": "IN7B49qPXRx9",
        "colab_type": "code",
        "outputId": "1d1895ef-4474-497d-c28e-0c66a16a8445",
        "colab": {
          "base_uri": "https://localhost:8080/",
          "height": 124
        }
      },
      "source": [
        "# Normality test with Kolmogorov-Smirnov for 2017 proportion (100k) during the months\n",
        "ks.test(t_df_mes$'2017_prop_100k', \"pnorm\", mean(t_df_mes$'2017_prop_100k'), sd(t_df_mes$'2017_prop_100k'))"
      ],
      "execution_count": 31,
      "outputs": [
        {
          "output_type": "display_data",
          "data": {
            "text/plain": [
              "\n",
              "\tOne-sample Kolmogorov-Smirnov test\n",
              "\n",
              "data:  t_df_mes$\"2017_prop_100k\"\n",
              "D = 0.15738, p-value = 0.8833\n",
              "alternative hypothesis: two-sided\n"
            ]
          },
          "metadata": {
            "tags": []
          }
        }
      ]
    },
    {
      "cell_type": "markdown",
      "metadata": {
        "id": "EW0T6nUTHU16",
        "colab_type": "text"
      },
      "source": [
        "## Normality test for 2016"
      ]
    },
    {
      "cell_type": "code",
      "metadata": {
        "id": "iPanTY9QGEwJ",
        "colab_type": "code",
        "colab": {
          "base_uri": "https://localhost:8080/",
          "height": 106
        },
        "outputId": "1b210719-1ca3-4d1c-f3eb-dfafebaeab67"
      },
      "source": [
        "# Normality test with Shapiro-Wilk for 2016 proportion (100k) during the months\n",
        "shapiro.test(t_df_mes$'2016_prop_100k')"
      ],
      "execution_count": 34,
      "outputs": [
        {
          "output_type": "display_data",
          "data": {
            "text/plain": [
              "\n",
              "\tShapiro-Wilk normality test\n",
              "\n",
              "data:  t_df_mes$\"2016_prop_100k\"\n",
              "W = 0.86435, p-value = 0.05544\n"
            ]
          },
          "metadata": {
            "tags": []
          }
        }
      ]
    },
    {
      "cell_type": "code",
      "metadata": {
        "id": "SWoFecdjGE4g",
        "colab_type": "code",
        "colab": {
          "base_uri": "https://localhost:8080/",
          "height": 124
        },
        "outputId": "ce1a7c5e-cfb1-4714-aa36-ffc3681f1ab1"
      },
      "source": [
        "# Normality test with Kolmogorov-Smirnov for 2016 proportion (100k) during the months\n",
        "ks.test(t_df_mes$'2016_prop_100k', \"pnorm\", mean(t_df_mes$'2016_prop_100k'), sd(t_df_mes$'2016_prop_100k'))"
      ],
      "execution_count": 36,
      "outputs": [
        {
          "output_type": "display_data",
          "data": {
            "text/plain": [
              "\n",
              "\tOne-sample Kolmogorov-Smirnov test\n",
              "\n",
              "data:  t_df_mes$\"2016_prop_100k\"\n",
              "D = 0.23774, p-value = 0.4387\n",
              "alternative hypothesis: two-sided\n"
            ]
          },
          "metadata": {
            "tags": []
          }
        }
      ]
    },
    {
      "cell_type": "markdown",
      "metadata": {
        "id": "rMqh_-4oHWal",
        "colab_type": "text"
      },
      "source": [
        "## Normality test for 2015"
      ]
    },
    {
      "cell_type": "code",
      "metadata": {
        "id": "z17E9k0aGFGh",
        "colab_type": "code",
        "colab": {
          "base_uri": "https://localhost:8080/",
          "height": 106
        },
        "outputId": "9842647c-a0c7-4c8b-8909-29a3f92cfb21"
      },
      "source": [
        "# Normality test with Shapiro-Wilk for 2015 proportion (100k) during the months\n",
        "shapiro.test(t_df_mes$'2015_prop_100k')"
      ],
      "execution_count": 35,
      "outputs": [
        {
          "output_type": "display_data",
          "data": {
            "text/plain": [
              "\n",
              "\tShapiro-Wilk normality test\n",
              "\n",
              "data:  t_df_mes$\"2015_prop_100k\"\n",
              "W = 0.90531, p-value = 0.1857\n"
            ]
          },
          "metadata": {
            "tags": []
          }
        }
      ]
    },
    {
      "cell_type": "code",
      "metadata": {
        "id": "RRrrlhCZGFNr",
        "colab_type": "code",
        "colab": {
          "base_uri": "https://localhost:8080/",
          "height": 124
        },
        "outputId": "7a4af5e6-09c2-4969-df53-da2f6f12216a"
      },
      "source": [
        "# Normality test with Kolmogorov-Smirnov for 2015 proportion (100k) during the months\n",
        "ks.test(t_df_mes$'2015_prop_100k', \"pnorm\", mean(t_df_mes$'2015_prop_100k'), sd(t_df_mes$'2015_prop_100k'))"
      ],
      "execution_count": 37,
      "outputs": [
        {
          "output_type": "display_data",
          "data": {
            "text/plain": [
              "\n",
              "\tOne-sample Kolmogorov-Smirnov test\n",
              "\n",
              "data:  t_df_mes$\"2015_prop_100k\"\n",
              "D = 0.16165, p-value = 0.8639\n",
              "alternative hypothesis: two-sided\n"
            ]
          },
          "metadata": {
            "tags": []
          }
        }
      ]
    },
    {
      "cell_type": "markdown",
      "metadata": {
        "id": "DVUUXOkJiVSd",
        "colab_type": "text"
      },
      "source": [
        "> Como vimos, não conseguimos rejeitar a hipótese nula para as proporções a cada 100 mil habitantes (`p > 0.05`) nos anos de 2015, 2016 e 2017. Assim, esses conjuntos de dados foram extraídos de uma população com distribuição normal.\n",
        "\n",
        "## Análise gráfica"
      ]
    },
    {
      "cell_type": "code",
      "metadata": {
        "id": "CNikiyuKifyU",
        "colab_type": "code",
        "outputId": "4f1bfda4-520d-4373-8faf-b416df211d5a",
        "colab": {
          "base_uri": "https://localhost:8080/",
          "height": 892
        }
      },
      "source": [
        "# Plot graph to proportion 2017 col\n",
        "ggplot(t_df_mes, aes(t_df_mes$'month', t_df_mes$'2017_prop_100k')) + \n",
        "geom_histogram(stat='identity', fill='white', colour='black') + \n",
        "labs(x='Ano', y='Proporção para cada 100 mil habitantes')"
      ],
      "execution_count": 38,
      "outputs": [
        {
          "output_type": "stream",
          "text": [
            "Warning message:\n",
            "“Ignoring unknown parameters: binwidth, bins, pad”"
          ],
          "name": "stderr"
        },
        {
          "output_type": "display_data",
          "data": {
            "image/png": "[encoded data removed]",
            "text/plain": [
              "plot without title"
            ]
          },
          "metadata": {
            "tags": []
          }
        }
      ]
    },
    {
      "cell_type": "code",
      "metadata": {
        "id": "eVeewW0lGsQo",
        "colab_type": "code",
        "colab": {
          "base_uri": "https://localhost:8080/",
          "height": 892
        },
        "outputId": "f448b142-d9dc-4140-b6ee-53a43be3fc76"
      },
      "source": [
        "# Plot graph to proportion 2016 col\n",
        "ggplot(t_df_mes, aes(t_df_mes$'month', t_df_mes$'2016_prop_100k')) + \n",
        "geom_histogram(stat='identity', fill='white', colour='black') + \n",
        "labs(x='Ano', y='Proporção para cada 100 mil habitantes')"
      ],
      "execution_count": 39,
      "outputs": [
        {
          "output_type": "stream",
          "text": [
            "Warning message:\n",
            "“Ignoring unknown parameters: binwidth, bins, pad”"
          ],
          "name": "stderr"
        },
        {
          "output_type": "display_data",
          "data": {
            "image/png": "[encoded data removed]",
            "text/plain": [
              "plot without title"
            ]
          },
          "metadata": {
            "tags": []
          }
        }
      ]
    },
    {
      "cell_type": "code",
      "metadata": {
        "id": "nWFvkh96GsUQ",
        "colab_type": "code",
        "colab": {
          "base_uri": "https://localhost:8080/",
          "height": 892
        },
        "outputId": "6bcd9fa3-30d7-48e0-e8ae-d07cd0b30856"
      },
      "source": [
        "# Plot graph to proportion 2015 col\n",
        "ggplot(t_df_mes, aes(t_df_mes$'month', t_df_mes$'2015_prop_100k')) + \n",
        "geom_histogram(stat='identity', fill='white', colour='black') + \n",
        "labs(x='Ano', y='Proporção para cada 100 mil habitantes')"
      ],
      "execution_count": 40,
      "outputs": [
        {
          "output_type": "stream",
          "text": [
            "Warning message:\n",
            "“Ignoring unknown parameters: binwidth, bins, pad”"
          ],
          "name": "stderr"
        },
        {
          "output_type": "display_data",
          "data": {
            "image/png": "[encoded data removed]",
            "text/plain": [
              "plot without title"
            ]
          },
          "metadata": {
            "tags": []
          }
        }
      ]
    },
    {
      "cell_type": "markdown",
      "metadata": {
        "id": "l2Gp5vR_Woct",
        "colab_type": "text"
      },
      "source": [
        "## Teste de hipótese para duas proporções"
      ]
    },
    {
      "cell_type": "code",
      "metadata": {
        "id": "dHEEfcuYxDw-",
        "colab_type": "code",
        "outputId": "66331098-d787-4272-d3e5-9075ea0c5d8b",
        "colab": {
          "base_uri": "https://localhost:8080/",
          "height": 214
        }
      },
      "source": [
        "# There are difference between 2015 and 2016 proportions\n",
        "prop.test(\n",
        "  x=c(df$obitos_por_residencia[6], df$obitos_por_residencia[7]), \n",
        "  n=c(df$pop_br_ibge[6], df$pop_br_ibge[7]),\n",
        "  alternative='two.sided')"
      ],
      "execution_count": 41,
      "outputs": [
        {
          "output_type": "display_data",
          "data": {
            "text/plain": [
              "\n",
              "\t2-sample test for equality of proportions with continuity correction\n",
              "\n",
              "data:  c(df$obitos_por_residencia[6], df$obitos_por_residencia[7]) out of c(df$pop_br_ibge[6], df$pop_br_ibge[7])\n",
              "X-squared = 1.1463, df = 1, p-value = 0.2843\n",
              "alternative hypothesis: two.sided\n",
              "95 percent confidence interval:\n",
              " -2.240142e-06  6.544363e-07\n",
              "sample estimates:\n",
              "      prop 1       prop 2 \n",
              "5.493531e-05 5.572816e-05 \n"
            ]
          },
          "metadata": {
            "tags": []
          }
        }
      ]
    },
    {
      "cell_type": "markdown",
      "metadata": {
        "id": "Cz-vdSIZXCOt",
        "colab_type": "text"
      },
      "source": [
        "> Ao nível de 95 % de confiança **não há forte evidência** de diferença (`p > 0.05`) entre as proporções de suicídios de 2015 e 2016. Ao contrário do que foi afirmado na reportagem, em que houve aumento de um ano para o outro"
      ]
    },
    {
      "cell_type": "code",
      "metadata": {
        "id": "Xda6dvaTyf4c",
        "colab_type": "code",
        "outputId": "735951b3-cd74-4400-92a1-690295345483",
        "colab": {
          "base_uri": "https://localhost:8080/",
          "height": 214
        }
      },
      "source": [
        "# And about 2016 to 2017?\n",
        "prop.test(\n",
        "  x=c(df$obitos_por_residencia[7], df$obitos_por_residencia[8]), \n",
        "  n=c(df$pop_br_ibge[7], df$pop_br_ibge[8]),\n",
        "  alternative='two.sided')"
      ],
      "execution_count": 42,
      "outputs": [
        {
          "output_type": "display_data",
          "data": {
            "text/plain": [
              "\n",
              "\t2-sample test for equality of proportions with continuity correction\n",
              "\n",
              "data:  c(df$obitos_por_residencia[7], df$obitos_por_residencia[8]) out of c(df$pop_br_ibge[7], df$pop_br_ibge[8])\n",
              "X-squared = 38.942, df = 1, p-value = 4.365e-10\n",
              "alternative hypothesis: two.sided\n",
              "95 percent confidence interval:\n",
              " -6.167621e-06 -3.214673e-06\n",
              "sample estimates:\n",
              "      prop 1       prop 2 \n",
              "5.572816e-05 6.041931e-05 \n"
            ]
          },
          "metadata": {
            "tags": []
          }
        }
      ]
    },
    {
      "cell_type": "markdown",
      "metadata": {
        "id": "NrNfk--_XrQQ",
        "colab_type": "text"
      },
      "source": [
        "> Ao nível de 95 % de confiança **há fortes evidências** da diferença (`p < 0.05`) de proporções de suicídios de 2016 e 2017.[link text](https://)"
      ]
    },
    {
      "cell_type": "markdown",
      "metadata": {
        "id": "-Z9pucMynYl8",
        "colab_type": "text"
      },
      "source": [
        "# Análise populacional por faixa etaria e sexo\n",
        "## Abrindo o arquivo"
      ]
    },
    {
      "cell_type": "markdown",
      "metadata": {
        "id": "kO-0uwoOp5YN",
        "colab_type": "text"
      },
      "source": [
        "## Checar normalidade das duas amostras com Shapiro-Wilk"
      ]
    },
    {
      "cell_type": "markdown",
      "metadata": {
        "id": "u7k3arx3coPu",
        "colab_type": "text"
      },
      "source": [
        "## Referências\n",
        "\n",
        "1. Dados no [repositório](https://github.com/geocarvalho/uni-proj/blob/master/IN1119/stat_project.ipynb)"
      ]
    }
  ]
}