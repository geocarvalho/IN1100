{
  "nbformat": 4,
  "nbformat_minor": 0,
  "metadata": {
    "colab": {
      "name": "stat_project.ipynb",
      "version": "0.3.2",
      "provenance": [],
      "collapsed_sections": [],
      "toc_visible": true,
      "include_colab_link": true
    },
    "language_info": {
      "codemirror_mode": "r",
      "file_extension": ".r",
      "mimetype": "text/x-r-source",
      "name": "R",
      "pygments_lexer": "r",
      "version": "3.3.1"
    },
    "kernelspec": {
      "display_name": "R",
      "language": "R",
      "name": "ir"
    }
  },
  "cells": [
    {
      "cell_type": "markdown",
      "metadata": {
        "id": "view-in-github",
        "colab_type": "text"
      },
      "source": [
        "<a href=\"https://colab.research.google.com/github/geocarvalho/uni-proj/blob/master/IN1119/stat_project.ipynb\" target=\"_parent\"><img src=\"https://colab.research.google.com/assets/colab-badge.svg\" alt=\"Open In Colab\"/></a>"
      ]
    },
    {
      "cell_type": "markdown",
      "metadata": {
        "id": "fbcXbfn_hwbS",
        "colab_type": "text"
      },
      "source": [
        "# Dados populacionais gerais\n",
        "## Creating dataframes\n"
      ]
    },
    {
      "cell_type": "code",
      "metadata": {
        "id": "VaEvTZicitlD",
        "colab_type": "code",
        "outputId": "9920b555-76d0-469e-ab3c-6b1ebfac1c27",
        "colab": {
          "base_uri": "https://localhost:8080/",
          "height": 52
        }
      },
      "source": [
        "install.packages('nortest')\n",
        "library('ggplot2')\n",
        "library('dplyr')\n",
        "library('nortest')\n",
        "set.seed(1234)"
      ],
      "execution_count": 32,
      "outputs": [
        {
          "output_type": "stream",
          "text": [
            "Installing package into ‘/usr/local/lib/R/site-library’\n",
            "(as ‘lib’ is unspecified)\n"
          ],
          "name": "stderr"
        }
      ]
    },
    {
      "cell_type": "code",
      "metadata": {
        "id": "hSE8_ESabhB_",
        "colab_type": "code",
        "outputId": "1ade33b6-2e93-40b7-d94a-a1c7991ef543",
        "colab": {
          "base_uri": "https://localhost:8080/",
          "height": 214
        }
      },
      "source": [
        "# Open file\n",
        "df <- read.csv('suicidio_prop_100k_hab_ano_2010-2017.csv')\n",
        "\n",
        "# Transpose columns as rows\n",
        "# t_df <- setNames(data.frame(t(df[,-1])), df[,1])\n",
        "# t_df <- tibble::rowid_to_column(t_df, 'month')\n",
        "df$proporcao <- df$obitos_por_residencia / df$pop_br_ibge\n",
        "df$proporcao_100k <- (df$obitos_por_residencia * 100000) / df$pop_br_ibge\n",
        "df"
      ],
      "execution_count": 17,
      "outputs": [
        {
          "output_type": "display_data",
          "data": {
            "text/plain": [
              "  ano_do_obito obitos_por_residencia pop_br_ibge proporcao    proporcao_100k\n",
              "1 2010          9448                 194890682   4.847846e-05 4.847846      \n",
              "2 2011          9852                 196603732   5.011095e-05 5.011095      \n",
              "3 2012         10321                 198314934   5.204348e-05 5.204348      \n",
              "4 2013         10533                 200004188   5.266390e-05 5.266390      \n",
              "5 2014         10653                 201717541   5.281147e-05 5.281147      \n",
              "6 2015         11178                 203475683   5.493531e-05 5.493531      \n",
              "7 2016         11433                 205156587   5.572816e-05 5.572816      \n",
              "8 2017         12495                 206804741   6.041931e-05 6.041931      "
            ],
            "text/latex": "A data.frame: 8 × 5\n\\begin{tabular}{r|lllll}\n ano\\_do\\_obito & obitos\\_por\\_residencia & pop\\_br\\_ibge & proporcao & proporcao\\_100k\\\\\n <int> & <int> & <int> & <dbl> & <dbl>\\\\\n\\hline\n\t 2010 &  9448 & 194890682 & 4.847846e-05 & 4.847846\\\\\n\t 2011 &  9852 & 196603732 & 5.011095e-05 & 5.011095\\\\\n\t 2012 & 10321 & 198314934 & 5.204348e-05 & 5.204348\\\\\n\t 2013 & 10533 & 200004188 & 5.266390e-05 & 5.266390\\\\\n\t 2014 & 10653 & 201717541 & 5.281147e-05 & 5.281147\\\\\n\t 2015 & 11178 & 203475683 & 5.493531e-05 & 5.493531\\\\\n\t 2016 & 11433 & 205156587 & 5.572816e-05 & 5.572816\\\\\n\t 2017 & 12495 & 206804741 & 6.041931e-05 & 6.041931\\\\\n\\end{tabular}\n",
            "text/markdown": "\nA data.frame: 8 × 5\n\n| ano_do_obito &lt;int&gt; | obitos_por_residencia &lt;int&gt; | pop_br_ibge &lt;int&gt; | proporcao &lt;dbl&gt; | proporcao_100k &lt;dbl&gt; |\n|---|---|---|---|---|\n| 2010 |  9448 | 194890682 | 4.847846e-05 | 4.847846 |\n| 2011 |  9852 | 196603732 | 5.011095e-05 | 5.011095 |\n| 2012 | 10321 | 198314934 | 5.204348e-05 | 5.204348 |\n| 2013 | 10533 | 200004188 | 5.266390e-05 | 5.266390 |\n| 2014 | 10653 | 201717541 | 5.281147e-05 | 5.281147 |\n| 2015 | 11178 | 203475683 | 5.493531e-05 | 5.493531 |\n| 2016 | 11433 | 205156587 | 5.572816e-05 | 5.572816 |\n| 2017 | 12495 | 206804741 | 6.041931e-05 | 6.041931 |\n\n",
            "text/html": [
              "<table>\n",
              "<caption>A data.frame: 8 × 5</caption>\n",
              "<thead>\n",
              "\t<tr><th scope=col>ano_do_obito</th><th scope=col>obitos_por_residencia</th><th scope=col>pop_br_ibge</th><th scope=col>proporcao</th><th scope=col>proporcao_100k</th></tr>\n",
              "\t<tr><th scope=col>&lt;int&gt;</th><th scope=col>&lt;int&gt;</th><th scope=col>&lt;int&gt;</th><th scope=col>&lt;dbl&gt;</th><th scope=col>&lt;dbl&gt;</th></tr>\n",
              "</thead>\n",
              "<tbody>\n",
              "\t<tr><td>2010</td><td> 9448</td><td>194890682</td><td>4.847846e-05</td><td>4.847846</td></tr>\n",
              "\t<tr><td>2011</td><td> 9852</td><td>196603732</td><td>5.011095e-05</td><td>5.011095</td></tr>\n",
              "\t<tr><td>2012</td><td>10321</td><td>198314934</td><td>5.204348e-05</td><td>5.204348</td></tr>\n",
              "\t<tr><td>2013</td><td>10533</td><td>200004188</td><td>5.266390e-05</td><td>5.266390</td></tr>\n",
              "\t<tr><td>2014</td><td>10653</td><td>201717541</td><td>5.281147e-05</td><td>5.281147</td></tr>\n",
              "\t<tr><td>2015</td><td>11178</td><td>203475683</td><td>5.493531e-05</td><td>5.493531</td></tr>\n",
              "\t<tr><td>2016</td><td>11433</td><td>205156587</td><td>5.572816e-05</td><td>5.572816</td></tr>\n",
              "\t<tr><td>2017</td><td>12495</td><td>206804741</td><td>6.041931e-05</td><td>6.041931</td></tr>\n",
              "</tbody>\n",
              "</table>\n"
            ]
          },
          "metadata": {
            "tags": []
          }
        }
      ]
    },
    {
      "cell_type": "code",
      "metadata": {
        "id": "x6ERtcQnDwU2",
        "colab_type": "code",
        "outputId": "483da80a-a0a1-4853-eb6c-5fa212d29276",
        "colab": {
          "base_uri": "https://localhost:8080/",
          "height": 286
        }
      },
      "source": [
        "df_mes <- read.csv('suicidios_mes_2015-2017.csv')\n",
        "t_df_mes <- setNames(data.frame(t(df_mes[,-1])), df_mes[,1])\n",
        "t_df_mes <- tibble::rowid_to_column(t_df_mes, 'month')\n",
        "t_df_mes$'2017_prop_100k' <- (t_df_mes$'2017_obt' * 100000) / t_df_mes$'2017_pop'\n",
        "t_df_mes$'2016_prop_100k' <- (t_df_mes$'2016_obt' * 100000) / t_df_mes$'2016_pop'\n",
        "t_df_mes$'2015_prop_100k' <- (t_df_mes$'2015_obt' * 100000) / t_df_mes$'2015_pop'\n",
        "\n",
        "t_df_mes"
      ],
      "execution_count": 4,
      "outputs": [
        {
          "output_type": "display_data",
          "data": {
            "text/plain": [
              "   month 2017_obt 2016_obt 2015_obt 2017_pop  2015_pop  2016_pop \n",
              "1   1    1059      941     1047     206003753 202609241 204314268\n",
              "2   2     967      926      852     206143689 202751801 204455719\n",
              "3   3    1055      929      947     206283480 202894285 204597060\n",
              "4   4     923      919      935     206423124 203036688 204738287\n",
              "5   5    1029      927      899     206562618 203179009 204879397\n",
              "6   6     932      879      867     206701959 203321245 205020388\n",
              "7   7     938      925      851     206841144 203463392 205161258\n",
              "8   8    1071      910      915     206980170 203605449 205302002\n",
              "9   9    1135      962      902     207119034 203747412 205442619\n",
              "10 10    1212     1047      990     207257734 203889278 205583105\n",
              "11 11    1063     1016      921     207396267 204031044 205723458\n",
              "12 12    1111     1052     1052     207534630 204172708 205863675\n",
              "   2017_prop_100k 2016_prop_100k 2015_prop_100k\n",
              "1  0.5140683      0.4605650      0.5167583     \n",
              "2  0.4690903      0.4529098      0.4202182     \n",
              "3  0.5114321      0.4540632      0.4667455     \n",
              "4  0.4471398      0.4488657      0.4605079     \n",
              "5  0.4981540      0.4524613      0.4424670     \n",
              "6  0.4508907      0.4287378      0.4264188     \n",
              "7  0.4534881      0.4508649      0.4182571     \n",
              "8  0.5174409      0.4432495      0.4493986     \n",
              "9  0.5479941      0.4682573      0.4427050     \n",
              "10 0.5847791      0.5092831      0.4855577     \n",
              "11 0.5125454      0.4938669      0.4514019     \n",
              "12 0.5353323      0.5110178      0.5152501     "
            ],
            "text/latex": "A data.frame: 12 × 10\n\\begin{tabular}{r|llllllllll}\n month & 2017\\_obt & 2016\\_obt & 2015\\_obt & 2017\\_pop & 2015\\_pop & 2016\\_pop & 2017\\_prop\\_100k & 2016\\_prop\\_100k & 2015\\_prop\\_100k\\\\\n <int> & <int> & <int> & <int> & <int> & <int> & <int> & <dbl> & <dbl> & <dbl>\\\\\n\\hline\n\t  1 & 1059 &  941 & 1047 & 206003753 & 202609241 & 204314268 & 0.5140683 & 0.4605650 & 0.5167583\\\\\n\t  2 &  967 &  926 &  852 & 206143689 & 202751801 & 204455719 & 0.4690903 & 0.4529098 & 0.4202182\\\\\n\t  3 & 1055 &  929 &  947 & 206283480 & 202894285 & 204597060 & 0.5114321 & 0.4540632 & 0.4667455\\\\\n\t  4 &  923 &  919 &  935 & 206423124 & 203036688 & 204738287 & 0.4471398 & 0.4488657 & 0.4605079\\\\\n\t  5 & 1029 &  927 &  899 & 206562618 & 203179009 & 204879397 & 0.4981540 & 0.4524613 & 0.4424670\\\\\n\t  6 &  932 &  879 &  867 & 206701959 & 203321245 & 205020388 & 0.4508907 & 0.4287378 & 0.4264188\\\\\n\t  7 &  938 &  925 &  851 & 206841144 & 203463392 & 205161258 & 0.4534881 & 0.4508649 & 0.4182571\\\\\n\t  8 & 1071 &  910 &  915 & 206980170 & 203605449 & 205302002 & 0.5174409 & 0.4432495 & 0.4493986\\\\\n\t  9 & 1135 &  962 &  902 & 207119034 & 203747412 & 205442619 & 0.5479941 & 0.4682573 & 0.4427050\\\\\n\t 10 & 1212 & 1047 &  990 & 207257734 & 203889278 & 205583105 & 0.5847791 & 0.5092831 & 0.4855577\\\\\n\t 11 & 1063 & 1016 &  921 & 207396267 & 204031044 & 205723458 & 0.5125454 & 0.4938669 & 0.4514019\\\\\n\t 12 & 1111 & 1052 & 1052 & 207534630 & 204172708 & 205863675 & 0.5353323 & 0.5110178 & 0.5152501\\\\\n\\end{tabular}\n",
            "text/markdown": "\nA data.frame: 12 × 10\n\n| month &lt;int&gt; | 2017_obt &lt;int&gt; | 2016_obt &lt;int&gt; | 2015_obt &lt;int&gt; | 2017_pop &lt;int&gt; | 2015_pop &lt;int&gt; | 2016_pop &lt;int&gt; | 2017_prop_100k &lt;dbl&gt; | 2016_prop_100k &lt;dbl&gt; | 2015_prop_100k &lt;dbl&gt; |\n|---|---|---|---|---|---|---|---|---|---|\n|  1 | 1059 |  941 | 1047 | 206003753 | 202609241 | 204314268 | 0.5140683 | 0.4605650 | 0.5167583 |\n|  2 |  967 |  926 |  852 | 206143689 | 202751801 | 204455719 | 0.4690903 | 0.4529098 | 0.4202182 |\n|  3 | 1055 |  929 |  947 | 206283480 | 202894285 | 204597060 | 0.5114321 | 0.4540632 | 0.4667455 |\n|  4 |  923 |  919 |  935 | 206423124 | 203036688 | 204738287 | 0.4471398 | 0.4488657 | 0.4605079 |\n|  5 | 1029 |  927 |  899 | 206562618 | 203179009 | 204879397 | 0.4981540 | 0.4524613 | 0.4424670 |\n|  6 |  932 |  879 |  867 | 206701959 | 203321245 | 205020388 | 0.4508907 | 0.4287378 | 0.4264188 |\n|  7 |  938 |  925 |  851 | 206841144 | 203463392 | 205161258 | 0.4534881 | 0.4508649 | 0.4182571 |\n|  8 | 1071 |  910 |  915 | 206980170 | 203605449 | 205302002 | 0.5174409 | 0.4432495 | 0.4493986 |\n|  9 | 1135 |  962 |  902 | 207119034 | 203747412 | 205442619 | 0.5479941 | 0.4682573 | 0.4427050 |\n| 10 | 1212 | 1047 |  990 | 207257734 | 203889278 | 205583105 | 0.5847791 | 0.5092831 | 0.4855577 |\n| 11 | 1063 | 1016 |  921 | 207396267 | 204031044 | 205723458 | 0.5125454 | 0.4938669 | 0.4514019 |\n| 12 | 1111 | 1052 | 1052 | 207534630 | 204172708 | 205863675 | 0.5353323 | 0.5110178 | 0.5152501 |\n\n",
            "text/html": [
              "<table>\n",
              "<caption>A data.frame: 12 × 10</caption>\n",
              "<thead>\n",
              "\t<tr><th scope=col>month</th><th scope=col>2017_obt</th><th scope=col>2016_obt</th><th scope=col>2015_obt</th><th scope=col>2017_pop</th><th scope=col>2015_pop</th><th scope=col>2016_pop</th><th scope=col>2017_prop_100k</th><th scope=col>2016_prop_100k</th><th scope=col>2015_prop_100k</th></tr>\n",
              "\t<tr><th scope=col>&lt;int&gt;</th><th scope=col>&lt;int&gt;</th><th scope=col>&lt;int&gt;</th><th scope=col>&lt;int&gt;</th><th scope=col>&lt;int&gt;</th><th scope=col>&lt;int&gt;</th><th scope=col>&lt;int&gt;</th><th scope=col>&lt;dbl&gt;</th><th scope=col>&lt;dbl&gt;</th><th scope=col>&lt;dbl&gt;</th></tr>\n",
              "</thead>\n",
              "<tbody>\n",
              "\t<tr><td> 1</td><td>1059</td><td> 941</td><td>1047</td><td>206003753</td><td>202609241</td><td>204314268</td><td>0.5140683</td><td>0.4605650</td><td>0.5167583</td></tr>\n",
              "\t<tr><td> 2</td><td> 967</td><td> 926</td><td> 852</td><td>206143689</td><td>202751801</td><td>204455719</td><td>0.4690903</td><td>0.4529098</td><td>0.4202182</td></tr>\n",
              "\t<tr><td> 3</td><td>1055</td><td> 929</td><td> 947</td><td>206283480</td><td>202894285</td><td>204597060</td><td>0.5114321</td><td>0.4540632</td><td>0.4667455</td></tr>\n",
              "\t<tr><td> 4</td><td> 923</td><td> 919</td><td> 935</td><td>206423124</td><td>203036688</td><td>204738287</td><td>0.4471398</td><td>0.4488657</td><td>0.4605079</td></tr>\n",
              "\t<tr><td> 5</td><td>1029</td><td> 927</td><td> 899</td><td>206562618</td><td>203179009</td><td>204879397</td><td>0.4981540</td><td>0.4524613</td><td>0.4424670</td></tr>\n",
              "\t<tr><td> 6</td><td> 932</td><td> 879</td><td> 867</td><td>206701959</td><td>203321245</td><td>205020388</td><td>0.4508907</td><td>0.4287378</td><td>0.4264188</td></tr>\n",
              "\t<tr><td> 7</td><td> 938</td><td> 925</td><td> 851</td><td>206841144</td><td>203463392</td><td>205161258</td><td>0.4534881</td><td>0.4508649</td><td>0.4182571</td></tr>\n",
              "\t<tr><td> 8</td><td>1071</td><td> 910</td><td> 915</td><td>206980170</td><td>203605449</td><td>205302002</td><td>0.5174409</td><td>0.4432495</td><td>0.4493986</td></tr>\n",
              "\t<tr><td> 9</td><td>1135</td><td> 962</td><td> 902</td><td>207119034</td><td>203747412</td><td>205442619</td><td>0.5479941</td><td>0.4682573</td><td>0.4427050</td></tr>\n",
              "\t<tr><td>10</td><td>1212</td><td>1047</td><td> 990</td><td>207257734</td><td>203889278</td><td>205583105</td><td>0.5847791</td><td>0.5092831</td><td>0.4855577</td></tr>\n",
              "\t<tr><td>11</td><td>1063</td><td>1016</td><td> 921</td><td>207396267</td><td>204031044</td><td>205723458</td><td>0.5125454</td><td>0.4938669</td><td>0.4514019</td></tr>\n",
              "\t<tr><td>12</td><td>1111</td><td>1052</td><td>1052</td><td>207534630</td><td>204172708</td><td>205863675</td><td>0.5353323</td><td>0.5110178</td><td>0.5152501</td></tr>\n",
              "</tbody>\n",
              "</table>\n"
            ]
          },
          "metadata": {
            "tags": []
          }
        }
      ]
    },
    {
      "cell_type": "markdown",
      "metadata": {
        "id": "1i0R0gZ_HMEQ",
        "colab_type": "text"
      },
      "source": [
        "## Normality test and graphs for 2017"
      ]
    },
    {
      "cell_type": "code",
      "metadata": {
        "id": "KFNeKGfJbhCW",
        "colab_type": "code",
        "outputId": "1c3f837d-ddad-4686-a21a-9660173c2716",
        "colab": {
          "base_uri": "https://localhost:8080/",
          "height": 106
        }
      },
      "source": [
        "# Normality test with Shapiro-Wilk for 2017 suicide sample during the months\n",
        "shapiro.test(t_df_mes$'2017_obt')"
      ],
      "execution_count": 34,
      "outputs": [
        {
          "output_type": "display_data",
          "data": {
            "text/plain": [
              "\n",
              "\tShapiro-Wilk normality test\n",
              "\n",
              "data:  t_df_mes$\"2017_obt\"\n",
              "W = 0.94165, p-value = 0.5198\n"
            ]
          },
          "metadata": {
            "tags": []
          }
        }
      ]
    },
    {
      "cell_type": "code",
      "metadata": {
        "id": "IN7B49qPXRx9",
        "colab_type": "code",
        "outputId": "5dacb998-6c82-4319-f53f-7551d84d9691",
        "colab": {
          "base_uri": "https://localhost:8080/",
          "height": 124
        }
      },
      "source": [
        "# Normality test with Kolmogorov-Smirnov for 2017 suicide sample during the months\n",
        "ks.test(t_df_mes$'2017_obt', \"pnorm\", mean(t_df_mes$'2017_obt'), sd(t_df_mes$'2017_obt'))"
      ],
      "execution_count": 6,
      "outputs": [
        {
          "output_type": "display_data",
          "data": {
            "text/plain": [
              "\n",
              "\tOne-sample Kolmogorov-Smirnov test\n",
              "\n",
              "data:  t_df_mes$\"2017_obt\"\n",
              "D = 0.1448, p-value = 0.9322\n",
              "alternative hypothesis: two-sided\n"
            ]
          },
          "metadata": {
            "tags": []
          }
        }
      ]
    },
    {
      "cell_type": "code",
      "metadata": {
        "id": "Qn_u5yLkikN3",
        "colab_type": "code",
        "colab": {
          "base_uri": "https://localhost:8080/",
          "height": 106
        },
        "outputId": "9d9f9044-3181-46d5-8eca-b308116afd59"
      },
      "source": [
        "# Anderson-Darling normality test for 2017 suicide sample during the months\n",
        "ad.test(t_df_mes$'2017_obt')"
      ],
      "execution_count": 33,
      "outputs": [
        {
          "output_type": "display_data",
          "data": {
            "text/plain": [
              "\n",
              "\tAnderson-Darling normality test\n",
              "\n",
              "data:  t_df_mes$\"2017_obt\"\n",
              "A = 0.31865, p-value = 0.4891\n"
            ]
          },
          "metadata": {
            "tags": []
          }
        }
      ]
    },
    {
      "cell_type": "code",
      "metadata": {
        "id": "DmTKEyzJcjxe",
        "colab_type": "code",
        "colab": {
          "base_uri": "https://localhost:8080/",
          "height": 856
        },
        "outputId": "ceb16186-0c8b-46e1-83b1-32eb50aee020"
      },
      "source": [
        "qqnorm(t_df_mes$'2017_obt')\n",
        "qqline(t_df_mes$'2017_obt')"
      ],
      "execution_count": 37,
      "outputs": [
        {
          "output_type": "display_data",
          "data": {
            "image/png": "[encoded data removed]",
            "text/plain": [
              "Plot with title “Normal Q-Q Plot”"
            ]
          },
          "metadata": {
            "tags": []
          }
        }
      ]
    },
    {
      "cell_type": "code",
      "metadata": {
        "id": "6iglv0Y5lHIp",
        "colab_type": "code",
        "colab": {
          "base_uri": "https://localhost:8080/",
          "height": 892
        },
        "outputId": "ecc2b73f-ec27-4548-9fd6-f85f95c6f636"
      },
      "source": [
        "# Plot graph to proportion 2017 col\n",
        "ggplot(t_df_mes, aes(t_df_mes$'month', t_df_mes$'2017_prop_100k')) + \n",
        "geom_histogram(stat='identity', fill='white', colour='black') + \n",
        "labs(x='Ano', y='Proporção para cada 100 mil habitantes')"
      ],
      "execution_count": 40,
      "outputs": [
        {
          "output_type": "stream",
          "text": [
            "Warning message:\n",
            "“Ignoring unknown parameters: binwidth, bins, pad”"
          ],
          "name": "stderr"
        },
        {
          "output_type": "display_data",
          "data": {
            "image/png": "[encoded data removed]",
            "text/plain": [
              "plot without title"
            ]
          },
          "metadata": {
            "tags": []
          }
        }
      ]
    },
    {
      "cell_type": "markdown",
      "metadata": {
        "id": "EW0T6nUTHU16",
        "colab_type": "text"
      },
      "source": [
        "## Normality test and graphs for 2016"
      ]
    },
    {
      "cell_type": "code",
      "metadata": {
        "id": "iPanTY9QGEwJ",
        "colab_type": "code",
        "outputId": "8b5c012f-cd3a-4c54-cd25-1f27bf03b61f",
        "colab": {
          "base_uri": "https://localhost:8080/",
          "height": 106
        }
      },
      "source": [
        "# Normality test with Shapiro-Wilk for 2016 proportion (100k) during the months\n",
        "shapiro.test(t_df_mes$'2016_obt')"
      ],
      "execution_count": 7,
      "outputs": [
        {
          "output_type": "display_data",
          "data": {
            "text/plain": [
              "\n",
              "\tShapiro-Wilk normality test\n",
              "\n",
              "data:  t_df_mes$\"2016_obt\"\n",
              "W = 0.85154, p-value = 0.03836\n"
            ]
          },
          "metadata": {
            "tags": []
          }
        }
      ]
    },
    {
      "cell_type": "code",
      "metadata": {
        "id": "SWoFecdjGE4g",
        "colab_type": "code",
        "outputId": "24246209-9fe6-4b69-ab43-0189d5c7cf73",
        "colab": {
          "base_uri": "https://localhost:8080/",
          "height": 124
        }
      },
      "source": [
        "# Normality test with Kolmogorov-Smirnov for 2016 proportion (100k) during the months\n",
        "ks.test(t_df_mes$'2016_obt', \"pnorm\", mean(t_df_mes$'2016_obt'), sd(t_df_mes$'2016_obt'))"
      ],
      "execution_count": 8,
      "outputs": [
        {
          "output_type": "display_data",
          "data": {
            "text/plain": [
              "\n",
              "\tOne-sample Kolmogorov-Smirnov test\n",
              "\n",
              "data:  t_df_mes$\"2016_obt\"\n",
              "D = 0.25027, p-value = 0.3766\n",
              "alternative hypothesis: two-sided\n"
            ]
          },
          "metadata": {
            "tags": []
          }
        }
      ]
    },
    {
      "cell_type": "code",
      "metadata": {
        "id": "q0MHadzPjY-J",
        "colab_type": "code",
        "colab": {
          "base_uri": "https://localhost:8080/",
          "height": 106
        },
        "outputId": "a1dcf374-6375-4c08-c4cd-9ca9db5a6253"
      },
      "source": [
        "# Anderson-Darling normality test for 2016 suicide sample during the months\n",
        "ad.test(t_df_mes$'2016_obt')"
      ],
      "execution_count": 35,
      "outputs": [
        {
          "output_type": "display_data",
          "data": {
            "text/plain": [
              "\n",
              "\tAnderson-Darling normality test\n",
              "\n",
              "data:  t_df_mes$\"2016_obt\"\n",
              "A = 0.87921, p-value = 0.01655\n"
            ]
          },
          "metadata": {
            "tags": []
          }
        }
      ]
    },
    {
      "cell_type": "code",
      "metadata": {
        "id": "XcoA5KB7crw1",
        "colab_type": "code",
        "colab": {
          "base_uri": "https://localhost:8080/",
          "height": 856
        },
        "outputId": "0441d250-00c0-4d85-e4ac-5455b4467b80"
      },
      "source": [
        "qqnorm(t_df_mes$'2016_obt')\n",
        "qqline(t_df_mes$'2016_obt')"
      ],
      "execution_count": 38,
      "outputs": [
        {
          "output_type": "display_data",
          "data": {
            "image/png": "[encoded data removed]",
            "text/plain": [
              "Plot with title “Normal Q-Q Plot”"
            ]
          },
          "metadata": {
            "tags": []
          }
        }
      ]
    },
    {
      "cell_type": "code",
      "metadata": {
        "id": "mRcof7RwlF91",
        "colab_type": "code",
        "colab": {
          "base_uri": "https://localhost:8080/",
          "height": 892
        },
        "outputId": "26eb00ef-759b-457e-f4ff-e4ae886d097c"
      },
      "source": [
        "# Plot graph to proportion 2016 col\n",
        "ggplot(t_df_mes, aes(t_df_mes$'month', t_df_mes$'2016_prop_100k')) + \n",
        "geom_histogram(stat='identity', fill='white', colour='black') + \n",
        "labs(x='Ano', y='Proporção para cada 100 mil habitantes')"
      ],
      "execution_count": 41,
      "outputs": [
        {
          "output_type": "stream",
          "text": [
            "Warning message:\n",
            "“Ignoring unknown parameters: binwidth, bins, pad”"
          ],
          "name": "stderr"
        },
        {
          "output_type": "display_data",
          "data": {
            "image/png": "[encoded data removed]",
            "text/plain": [
              "plot without title"
            ]
          },
          "metadata": {
            "tags": []
          }
        }
      ]
    },
    {
      "cell_type": "markdown",
      "metadata": {
        "id": "rMqh_-4oHWal",
        "colab_type": "text"
      },
      "source": [
        "## Normality test and graphs for 2015"
      ]
    },
    {
      "cell_type": "code",
      "metadata": {
        "id": "z17E9k0aGFGh",
        "colab_type": "code",
        "outputId": "3eb9d210-fe08-41ed-92aa-8188c5bbe187",
        "colab": {
          "base_uri": "https://localhost:8080/",
          "height": 106
        }
      },
      "source": [
        "# Normality test with Shapiro-Wilk for 2015 proportion (100k) during the months\n",
        "shapiro.test(t_df_mes$'2015_obt')"
      ],
      "execution_count": 9,
      "outputs": [
        {
          "output_type": "display_data",
          "data": {
            "text/plain": [
              "\n",
              "\tShapiro-Wilk normality test\n",
              "\n",
              "data:  t_df_mes$\"2015_obt\"\n",
              "W = 0.90641, p-value = 0.1918\n"
            ]
          },
          "metadata": {
            "tags": []
          }
        }
      ]
    },
    {
      "cell_type": "code",
      "metadata": {
        "id": "RRrrlhCZGFNr",
        "colab_type": "code",
        "outputId": "868b6f5f-b48a-45b4-f86d-61e5f16ee72f",
        "colab": {
          "base_uri": "https://localhost:8080/",
          "height": 124
        }
      },
      "source": [
        "# Normality test with Kolmogorov-Smirnov for 2015 proportion (100k) during the months\n",
        "ks.test(t_df_mes$'2015_obt', \"pnorm\", mean(t_df_mes$'2015_obt'), sd(t_df_mes$'2015_obt'))"
      ],
      "execution_count": 11,
      "outputs": [
        {
          "output_type": "display_data",
          "data": {
            "text/plain": [
              "\n",
              "\tOne-sample Kolmogorov-Smirnov test\n",
              "\n",
              "data:  t_df_mes$\"2015_obt\"\n",
              "D = 0.15979, p-value = 0.8725\n",
              "alternative hypothesis: two-sided\n"
            ]
          },
          "metadata": {
            "tags": []
          }
        }
      ]
    },
    {
      "cell_type": "code",
      "metadata": {
        "id": "31ueHPijjgdQ",
        "colab_type": "code",
        "colab": {
          "base_uri": "https://localhost:8080/",
          "height": 106
        },
        "outputId": "fe0332eb-37ce-490a-9881-407fe27973c3"
      },
      "source": [
        "# Anderson-Darling normality test for 2015 suicide sample during the months\n",
        "ad.test(t_df_mes$'2015_obt')"
      ],
      "execution_count": 36,
      "outputs": [
        {
          "output_type": "display_data",
          "data": {
            "text/plain": [
              "\n",
              "\tAnderson-Darling normality test\n",
              "\n",
              "data:  t_df_mes$\"2015_obt\"\n",
              "A = 0.42359, p-value = 0.266\n"
            ]
          },
          "metadata": {
            "tags": []
          }
        }
      ]
    },
    {
      "cell_type": "code",
      "metadata": {
        "id": "r_lrzlVjcy5R",
        "colab_type": "code",
        "colab": {
          "base_uri": "https://localhost:8080/",
          "height": 856
        },
        "outputId": "c68520e8-c0e5-4d73-dd3f-b47a3dfa5813"
      },
      "source": [
        "qqnorm(t_df_mes$'2015_obt')\n",
        "qqline(t_df_mes$'2015_obt')"
      ],
      "execution_count": 39,
      "outputs": [
        {
          "output_type": "display_data",
          "data": {
            "image/png": "[encoded data removed]",
            "text/plain": [
              "Plot with title “Normal Q-Q Plot”"
            ]
          },
          "metadata": {
            "tags": []
          }
        }
      ]
    },
    {
      "cell_type": "code",
      "metadata": {
        "id": "yvPtYB_llD5b",
        "colab_type": "code",
        "colab": {
          "base_uri": "https://localhost:8080/",
          "height": 892
        },
        "outputId": "6c6211b3-c4dc-465b-bcfd-142c45709fff"
      },
      "source": [
        "# Plot graph to proportion 2015 col\n",
        "ggplot(t_df_mes, aes(t_df_mes$'month', t_df_mes$'2015_prop_100k')) + \n",
        "geom_histogram(stat='identity', fill='white', colour='black') + \n",
        "labs(x='Ano', y='Proporção para cada 100 mil habitantes')"
      ],
      "execution_count": 42,
      "outputs": [
        {
          "output_type": "stream",
          "text": [
            "Warning message:\n",
            "“Ignoring unknown parameters: binwidth, bins, pad”"
          ],
          "name": "stderr"
        },
        {
          "output_type": "display_data",
          "data": {
            "image/png": "[encoded data removed]",
            "text/plain": [
              "plot without title"
            ]
          },
          "metadata": {
            "tags": []
          }
        }
      ]
    },
    {
      "cell_type": "markdown",
      "metadata": {
        "id": "DVUUXOkJiVSd",
        "colab_type": "text"
      },
      "source": [
        "## Interpretation\n",
        "\n",
        "> Como vimos, não conseguimos rejeitar a hipótese nula  (`p > 0.05`)  para os dados nos anos de 2015 e 2017, porém em 2016 foi possível rejeitar a hipótese nula (`p < 0.05`). Assim, os conjuntos de dados de 2015 e 2017 foram extraídos de uma população com distribuição normal, enquanto os dados de 2016 vieram de uma distribuição não-normal.\n"
      ]
    },
    {
      "cell_type": "markdown",
      "metadata": {
        "id": "l2Gp5vR_Woct",
        "colab_type": "text"
      },
      "source": [
        "## Teste de hipótese para duas proporções"
      ]
    },
    {
      "cell_type": "code",
      "metadata": {
        "id": "dHEEfcuYxDw-",
        "colab_type": "code",
        "outputId": "55804436-28d6-4cf2-a432-110ea1a4f21d",
        "colab": {
          "base_uri": "https://localhost:8080/",
          "height": 232
        }
      },
      "source": [
        "# There are difference between 2015 and 2016 proportions\n",
        "prop.test(\n",
        "  x=c(df$obitos_por_residencia[6], df$obitos_por_residencia[7]), \n",
        "  n=c(df$pop_br_ibge[6], df$pop_br_ibge[7]),\n",
        "  alternative='less', correct=FALSE)"
      ],
      "execution_count": 24,
      "outputs": [
        {
          "output_type": "display_data",
          "data": {
            "text/plain": [
              "\n",
              "\t2-sample test for equality of proportions without continuity\n",
              "\tcorrection\n",
              "\n",
              "data:  c(df$obitos_por_residencia[6], df$obitos_por_residencia[7]) out of c(df$pop_br_ibge[6], df$pop_br_ibge[7])\n",
              "X-squared = 1.1606, df = 1, p-value = 0.1407\n",
              "alternative hypothesis: less\n",
              "95 percent confidence interval:\n",
              " -1.000000e+00  4.176429e-07\n",
              "sample estimates:\n",
              "      prop 1       prop 2 \n",
              "5.493531e-05 5.572816e-05 \n"
            ]
          },
          "metadata": {
            "tags": []
          }
        }
      ]
    },
    {
      "cell_type": "markdown",
      "metadata": {
        "id": "Cz-vdSIZXCOt",
        "colab_type": "text"
      },
      "source": [
        "> Ao nível de 95 % de confiança **não há forte evidência** de diferença (`p > 0.05`) entre as proporções de suicídios de 2015 e 2016. Ao contrário do que foi afirmado na reportagem, em que houve aumento de um ano para o outro"
      ]
    },
    {
      "cell_type": "code",
      "metadata": {
        "id": "Xda6dvaTyf4c",
        "colab_type": "code",
        "outputId": "30bbe82b-a8ba-4a94-96d3-26e0c1ef0ff9",
        "colab": {
          "base_uri": "https://localhost:8080/",
          "height": 232
        }
      },
      "source": [
        "# And about 2016 to 2017?\n",
        "prop.test(\n",
        "  x=c(df$obitos_por_residencia[7], df$obitos_por_residencia[8]), \n",
        "  n=c(df$pop_br_ibge[7], df$pop_br_ibge[8]),\n",
        "  alternative='less', correct=FALSE)"
      ],
      "execution_count": 25,
      "outputs": [
        {
          "output_type": "display_data",
          "data": {
            "text/plain": [
              "\n",
              "\t2-sample test for equality of proportions without continuity\n",
              "\tcorrection\n",
              "\n",
              "data:  c(df$obitos_por_residencia[7], df$obitos_por_residencia[8]) out of c(df$pop_br_ibge[7], df$pop_br_ibge[8])\n",
              "X-squared = 39.023, df = 1, p-value = 2.094e-10\n",
              "alternative hypothesis: less\n",
              "95 percent confidence interval:\n",
              " -1.000000e+00 -3.456125e-06\n",
              "sample estimates:\n",
              "      prop 1       prop 2 \n",
              "5.572816e-05 6.041931e-05 \n"
            ]
          },
          "metadata": {
            "tags": []
          }
        }
      ]
    },
    {
      "cell_type": "markdown",
      "metadata": {
        "id": "NrNfk--_XrQQ",
        "colab_type": "text"
      },
      "source": [
        "> Ao nível de 95 % de confiança **há fortes evidências** da diferença (`p < 0.05`) de proporções de suicídios de 2016 e 2017.[link text](https://)"
      ]
    },
    {
      "cell_type": "markdown",
      "metadata": {
        "id": "u7k3arx3coPu",
        "colab_type": "text"
      },
      "source": [
        "## Referências\n",
        "\n",
        "1. Dados no [repositório](https://github.com/geocarvalho/uni-proj/blob/master/IN1119/stat_project.ipynb)\n",
        "2. [Comparison of two proportions: parametric (Z-test) and non-parametric (chi-squared) methods](https://www.r-bloggers.com/comparison-of-two-proportions-parametric-z-test-and-non-parametric-chi-squared-methods/)\n",
        "3. [Normality tests don’t do what you think they do](https://www.r-bloggers.com/normality-tests-don%E2%80%99t-do-what-you-think-they-do/)"
      ]
    },
    {
      "cell_type": "code",
      "metadata": {
        "id": "5pUePM_GhsNg",
        "colab_type": "code",
        "colab": {}
      },
      "source": [
        ""
      ],
      "execution_count": 0,
      "outputs": []
    }
  ]
}