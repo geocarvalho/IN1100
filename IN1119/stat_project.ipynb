{
  "nbformat": 4,
  "nbformat_minor": 0,
  "metadata": {
    "colab": {
      "name": "stat_project.ipynb",
      "version": "0.3.2",
      "provenance": [],
      "collapsed_sections": [],
      "include_colab_link": true
    },
    "language_info": {
      "codemirror_mode": "r",
      "file_extension": ".r",
      "mimetype": "text/x-r-source",
      "name": "R",
      "pygments_lexer": "r",
      "version": "3.3.1"
    },
    "kernelspec": {
      "display_name": "R",
      "language": "R",
      "name": "ir"
    }
  },
  "cells": [
    {
      "cell_type": "markdown",
      "metadata": {
        "id": "view-in-github",
        "colab_type": "text"
      },
      "source": [
        "<a href=\"https://colab.research.google.com/github/geocarvalho/uni-proj/blob/master/IN1119/stat_project.ipynb\" target=\"_parent\"><img src=\"https://colab.research.google.com/assets/colab-badge.svg\" alt=\"Open In Colab\"/></a>"
      ]
    },
    {
      "cell_type": "markdown",
      "metadata": {
        "id": "fbcXbfn_hwbS",
        "colab_type": "text"
      },
      "source": [
        "# Dados populacionais gerais\n",
        "## Teste de normalidade (Shapiro-Wilk)\n"
      ]
    },
    {
      "cell_type": "code",
      "metadata": {
        "id": "VaEvTZicitlD",
        "colab_type": "code",
        "colab": {}
      },
      "source": [
        "library('ggplot2')\n",
        "library('dplyr')\n",
        "set.seed(1234)"
      ],
      "execution_count": 0,
      "outputs": []
    },
    {
      "cell_type": "code",
      "metadata": {
        "id": "hSE8_ESabhB_",
        "colab_type": "code",
        "colab": {
          "base_uri": "https://localhost:8080/",
          "height": 246
        },
        "outputId": "d232bbe2-5fef-4654-aa33-b0c46a822079"
      },
      "source": [
        "# Open file\n",
        "df <- read.csv('suicidio_prop_100k_hab_ano_2010-2017.csv')\n",
        "\n",
        "# Transpose columns as rows\n",
        "# t_df <- setNames(data.frame(t(df[,-1])), df[,1])\n",
        "# t_df <- tibble::rowid_to_column(t_df, 'month')\n",
        "df$proporcao <- df$obitos_por_residencia / df$pop_br_ibge\n",
        "df$proporcao_100k <- (df$obitos_por_residencia * 100000) / df$pop_br_ibge\n",
        "\n",
        "df"
      ],
      "execution_count": 161,
      "outputs": [
        {
          "output_type": "display_data",
          "data": {
            "text/plain": [
              "  ano_do_obito obitos_por_residencia pop_br_ibge proporcao    proporcao_100k\n",
              "1 2010          9448                 194890682   4.847846e-05 4.847846      \n",
              "2 2011          9852                 196603732   5.011095e-05 5.011095      \n",
              "3 2012         10321                 198314934   5.204348e-05 5.204348      \n",
              "4 2013         10533                 200004188   5.266390e-05 5.266390      \n",
              "5 2014         10653                 201717541   5.281147e-05 5.281147      \n",
              "6 2015         11178                 203475683   5.493531e-05 5.493531      \n",
              "7 2016         11433                 205156587   5.572816e-05 5.572816      \n",
              "8 2017         12495                 206804741   6.041931e-05 6.041931      "
            ],
            "text/latex": "A data.frame: 8 × 5\n\\begin{tabular}{r|lllll}\n ano\\_do\\_obito & obitos\\_por\\_residencia & pop\\_br\\_ibge & proporcao & proporcao\\_100k\\\\\n <int> & <int> & <int> & <dbl> & <dbl>\\\\\n\\hline\n\t 2010 &  9448 & 194890682 & 4.847846e-05 & 4.847846\\\\\n\t 2011 &  9852 & 196603732 & 5.011095e-05 & 5.011095\\\\\n\t 2012 & 10321 & 198314934 & 5.204348e-05 & 5.204348\\\\\n\t 2013 & 10533 & 200004188 & 5.266390e-05 & 5.266390\\\\\n\t 2014 & 10653 & 201717541 & 5.281147e-05 & 5.281147\\\\\n\t 2015 & 11178 & 203475683 & 5.493531e-05 & 5.493531\\\\\n\t 2016 & 11433 & 205156587 & 5.572816e-05 & 5.572816\\\\\n\t 2017 & 12495 & 206804741 & 6.041931e-05 & 6.041931\\\\\n\\end{tabular}\n",
            "text/markdown": "\nA data.frame: 8 × 5\n\n| ano_do_obito &lt;int&gt; | obitos_por_residencia &lt;int&gt; | pop_br_ibge &lt;int&gt; | proporcao &lt;dbl&gt; | proporcao_100k &lt;dbl&gt; |\n|---|---|---|---|---|\n| 2010 |  9448 | 194890682 | 4.847846e-05 | 4.847846 |\n| 2011 |  9852 | 196603732 | 5.011095e-05 | 5.011095 |\n| 2012 | 10321 | 198314934 | 5.204348e-05 | 5.204348 |\n| 2013 | 10533 | 200004188 | 5.266390e-05 | 5.266390 |\n| 2014 | 10653 | 201717541 | 5.281147e-05 | 5.281147 |\n| 2015 | 11178 | 203475683 | 5.493531e-05 | 5.493531 |\n| 2016 | 11433 | 205156587 | 5.572816e-05 | 5.572816 |\n| 2017 | 12495 | 206804741 | 6.041931e-05 | 6.041931 |\n\n",
            "text/html": [
              "<table>\n",
              "<caption>A data.frame: 8 × 5</caption>\n",
              "<thead>\n",
              "\t<tr><th scope=col>ano_do_obito</th><th scope=col>obitos_por_residencia</th><th scope=col>pop_br_ibge</th><th scope=col>proporcao</th><th scope=col>proporcao_100k</th></tr>\n",
              "\t<tr><th scope=col>&lt;int&gt;</th><th scope=col>&lt;int&gt;</th><th scope=col>&lt;int&gt;</th><th scope=col>&lt;dbl&gt;</th><th scope=col>&lt;dbl&gt;</th></tr>\n",
              "</thead>\n",
              "<tbody>\n",
              "\t<tr><td>2010</td><td> 9448</td><td>194890682</td><td>4.847846e-05</td><td>4.847846</td></tr>\n",
              "\t<tr><td>2011</td><td> 9852</td><td>196603732</td><td>5.011095e-05</td><td>5.011095</td></tr>\n",
              "\t<tr><td>2012</td><td>10321</td><td>198314934</td><td>5.204348e-05</td><td>5.204348</td></tr>\n",
              "\t<tr><td>2013</td><td>10533</td><td>200004188</td><td>5.266390e-05</td><td>5.266390</td></tr>\n",
              "\t<tr><td>2014</td><td>10653</td><td>201717541</td><td>5.281147e-05</td><td>5.281147</td></tr>\n",
              "\t<tr><td>2015</td><td>11178</td><td>203475683</td><td>5.493531e-05</td><td>5.493531</td></tr>\n",
              "\t<tr><td>2016</td><td>11433</td><td>205156587</td><td>5.572816e-05</td><td>5.572816</td></tr>\n",
              "\t<tr><td>2017</td><td>12495</td><td>206804741</td><td>6.041931e-05</td><td>6.041931</td></tr>\n",
              "</tbody>\n",
              "</table>\n"
            ]
          },
          "metadata": {
            "tags": []
          }
        }
      ]
    },
    {
      "cell_type": "code",
      "metadata": {
        "id": "KFNeKGfJbhCW",
        "colab_type": "code",
        "colab": {
          "base_uri": "https://localhost:8080/",
          "height": 102
        },
        "outputId": "a310bab5-fdad-44ff-ab7a-307821d9400c"
      },
      "source": [
        "# Normality test with Shapiro-Wilk for proportion (100k) during the years\n",
        "shapiro.test(df$proporcao_100k)"
      ],
      "execution_count": 162,
      "outputs": [
        {
          "output_type": "display_data",
          "data": {
            "text/plain": [
              "\n",
              "\tShapiro-Wilk normality test\n",
              "\n",
              "data:  df$proporcao_100k\n",
              "W = 0.95513, p-value = 0.7627\n"
            ]
          },
          "metadata": {
            "tags": []
          }
        }
      ]
    },
    {
      "cell_type": "markdown",
      "metadata": {
        "id": "DVUUXOkJiVSd",
        "colab_type": "text"
      },
      "source": [
        "> Como vimos, não conseguimos rejeitar a hipótese nula para as proporções a cada 100 mil habitantes (`p > 0.05`). Assim, esses conjuntos de dados foram extraídos de uma população com distribuição normal.\n",
        "\n",
        "## Análise gráfica"
      ]
    },
    {
      "cell_type": "code",
      "metadata": {
        "id": "CNikiyuKifyU",
        "colab_type": "code",
        "outputId": "d7955da2-ead4-4d3e-895c-51bd51c4c37e",
        "colab": {
          "base_uri": "https://localhost:8080/",
          "height": 911
        }
      },
      "source": [
        "# Plot graph to 2015 col\n",
        "ggplot(df, aes(df$ano_do_obito, df$proporcao_100k)) + \n",
        "geom_histogram(stat='identity', fill='white', colour='black') + \n",
        "labs(x='Ano', y='Proporção para cada 100 mil habitantes')"
      ],
      "execution_count": 163,
      "outputs": [
        {
          "output_type": "stream",
          "text": [
            "Warning message:\n",
            "“Ignoring unknown parameters: binwidth, bins, pad”"
          ],
          "name": "stderr"
        },
        {
          "output_type": "display_data",
          "data": {
            "image/png": "[encoded data removed]",
            "text/plain": [
              "plot without title"
            ]
          },
          "metadata": {
            "tags": []
          }
        }
      ]
    },
    {
      "cell_type": "markdown",
      "metadata": {
        "id": "l2Gp5vR_Woct",
        "colab_type": "text"
      },
      "source": [
        "## Teste de hipótese para duas proporções"
      ]
    },
    {
      "cell_type": "code",
      "metadata": {
        "id": "dHEEfcuYxDw-",
        "colab_type": "code",
        "colab": {
          "base_uri": "https://localhost:8080/",
          "height": 224
        },
        "outputId": "c2de6de0-be11-4dda-e79d-e2b3fb81cf40"
      },
      "source": [
        "# There are difference between 2015 and 2016 proportions\n",
        "prop.test(\n",
        "  x=c(df$obitos_por_residencia[6], df$obitos_por_residencia[7]), \n",
        "  n=c(df$pop_br_ibge[6], df$pop_br_ibge[7]),\n",
        "  alternative='two.sided')"
      ],
      "execution_count": 165,
      "outputs": [
        {
          "output_type": "display_data",
          "data": {
            "text/plain": [
              "\n",
              "\t2-sample test for equality of proportions with continuity correction\n",
              "\n",
              "data:  c(df$obitos_por_residencia[6], df$obitos_por_residencia[7]) out of c(df$pop_br_ibge[6], df$pop_br_ibge[7])\n",
              "X-squared = 1.1463, df = 1, p-value = 0.2843\n",
              "alternative hypothesis: two.sided\n",
              "95 percent confidence interval:\n",
              " -2.240142e-06  6.544363e-07\n",
              "sample estimates:\n",
              "      prop 1       prop 2 \n",
              "5.493531e-05 5.572816e-05 \n"
            ]
          },
          "metadata": {
            "tags": []
          }
        }
      ]
    },
    {
      "cell_type": "markdown",
      "metadata": {
        "id": "Cz-vdSIZXCOt",
        "colab_type": "text"
      },
      "source": [
        "> Ao nível de 95 % de confiança **não há forte evidência** de diferença (`p > 0.05`) entre as proporções de suicídios de 2015 e 2016. Ao contrário do que foi afirmado na reportagem, em que houve aumento de um ano para o outro"
      ]
    },
    {
      "cell_type": "code",
      "metadata": {
        "id": "Xda6dvaTyf4c",
        "colab_type": "code",
        "colab": {
          "base_uri": "https://localhost:8080/",
          "height": 224
        },
        "outputId": "04add828-d7b8-4895-a3cd-3ac96eb736e2"
      },
      "source": [
        "# And about 2016 to 2017?\n",
        "prop.test(\n",
        "  x=c(df$obitos_por_residencia[7], df$obitos_por_residencia[8]), \n",
        "  n=c(df$pop_br_ibge[7], df$pop_br_ibge[8]),\n",
        "  alternative='two.sided')"
      ],
      "execution_count": 166,
      "outputs": [
        {
          "output_type": "display_data",
          "data": {
            "text/plain": [
              "\n",
              "\t2-sample test for equality of proportions with continuity correction\n",
              "\n",
              "data:  c(df$obitos_por_residencia[7], df$obitos_por_residencia[8]) out of c(df$pop_br_ibge[7], df$pop_br_ibge[8])\n",
              "X-squared = 38.942, df = 1, p-value = 4.365e-10\n",
              "alternative hypothesis: two.sided\n",
              "95 percent confidence interval:\n",
              " -6.167621e-06 -3.214673e-06\n",
              "sample estimates:\n",
              "      prop 1       prop 2 \n",
              "5.572816e-05 6.041931e-05 \n"
            ]
          },
          "metadata": {
            "tags": []
          }
        }
      ]
    },
    {
      "cell_type": "markdown",
      "metadata": {
        "id": "NrNfk--_XrQQ",
        "colab_type": "text"
      },
      "source": [
        "> Ao nível de 95 % de confiança **há fortes evidências** da diferença (`p < 0.05`) de proporções de suicídios de 2016 e 2017.[link text](https://)"
      ]
    },
    {
      "cell_type": "markdown",
      "metadata": {
        "id": "-Z9pucMynYl8",
        "colab_type": "text"
      },
      "source": [
        "# Análise populacional separada por sexo\n",
        "## Abrindo o arquivo"
      ]
    },
    {
      "cell_type": "code",
      "metadata": {
        "id": "DgLhPa6vngk1",
        "colab_type": "code",
        "colab": {
          "base_uri": "https://localhost:8080/",
          "height": 266
        },
        "outputId": "d2cda93d-ade0-4049-97f0-4ee4fc71ce90"
      },
      "source": [
        "# Open file\n",
        "df_hm <- read.csv('suicidio_prop_masc_fem_ano.csv')\n",
        "\n",
        "# Transpose columns as rows\n",
        "# t_df <- setNames(data.frame(t(df[,-1])), df[,1])\n",
        "# t_df <- tibble::rowid_to_column(t_df, 'month')\n",
        "# df$prop_masc <- df$masc / df$pop_masc_ibge\n",
        "# df$prop_fem <- df$fem / df$pop_fem_ibge\n",
        "df_hm$prop_masc_100k <- (df_hm$masc * 100000) / df_hm$pop_masc_ibge\n",
        "df_hm$prop_fem_100k <- (df_hm$fem * 100000) / df_hm$pop_fem_ibge\n",
        "df_hm"
      ],
      "execution_count": 182,
      "outputs": [
        {
          "output_type": "display_data",
          "data": {
            "text/plain": [
              "  ano  masc fem  lgn total pop_masc_ibge pop_fem_ibge prop_masc_100k\n",
              "1 2017 9826 2664 5   12495 101163599     105641142    9.712980      \n",
              "2 2016 9053 2378 2   11433 100379640     104776947    9.018761      \n",
              "3 2015 8780 2396 2   11178  99581002     103894681    8.816943      \n",
              "4 2014 8419 2233 1   10653  98744098     102973443    8.526079      \n",
              "5 2013 8309 2223 1   10533  97931331     102072857    8.484517      \n",
              "6 2012 8061 2257 3   10321  96322635     101182880    8.368749      \n",
              "7 2011 7762 2089 1    9852  96322635     100281097    8.058334      \n",
              "8 2010 7375 2073 0    9448  95513298      99377384    7.721438      \n",
              "  prop_fem_100k\n",
              "1 2.521745     \n",
              "2 2.269583     \n",
              "3 2.306182     \n",
              "4 2.168520     \n",
              "5 2.177856     \n",
              "6 2.230615     \n",
              "7 2.083144     \n",
              "8 2.085988     "
            ],
            "text/latex": "A data.frame: 8 × 9\n\\begin{tabular}{r|lllllllll}\n ano & masc & fem & lgn & total & pop\\_masc\\_ibge & pop\\_fem\\_ibge & prop\\_masc\\_100k & prop\\_fem\\_100k\\\\\n <int> & <int> & <int> & <int> & <int> & <int> & <int> & <dbl> & <dbl>\\\\\n\\hline\n\t 2017 & 9826 & 2664 & 5 & 12495 & 101163599 & 105641142 & 9.712980 & 2.521745\\\\\n\t 2016 & 9053 & 2378 & 2 & 11433 & 100379640 & 104776947 & 9.018761 & 2.269583\\\\\n\t 2015 & 8780 & 2396 & 2 & 11178 &  99581002 & 103894681 & 8.816943 & 2.306182\\\\\n\t 2014 & 8419 & 2233 & 1 & 10653 &  98744098 & 102973443 & 8.526079 & 2.168520\\\\\n\t 2013 & 8309 & 2223 & 1 & 10533 &  97931331 & 102072857 & 8.484517 & 2.177856\\\\\n\t 2012 & 8061 & 2257 & 3 & 10321 &  96322635 & 101182880 & 8.368749 & 2.230615\\\\\n\t 2011 & 7762 & 2089 & 1 &  9852 &  96322635 & 100281097 & 8.058334 & 2.083144\\\\\n\t 2010 & 7375 & 2073 & 0 &  9448 &  95513298 &  99377384 & 7.721438 & 2.085988\\\\\n\\end{tabular}\n",
            "text/markdown": "\nA data.frame: 8 × 9\n\n| ano &lt;int&gt; | masc &lt;int&gt; | fem &lt;int&gt; | lgn &lt;int&gt; | total &lt;int&gt; | pop_masc_ibge &lt;int&gt; | pop_fem_ibge &lt;int&gt; | prop_masc_100k &lt;dbl&gt; | prop_fem_100k &lt;dbl&gt; |\n|---|---|---|---|---|---|---|---|---|\n| 2017 | 9826 | 2664 | 5 | 12495 | 101163599 | 105641142 | 9.712980 | 2.521745 |\n| 2016 | 9053 | 2378 | 2 | 11433 | 100379640 | 104776947 | 9.018761 | 2.269583 |\n| 2015 | 8780 | 2396 | 2 | 11178 |  99581002 | 103894681 | 8.816943 | 2.306182 |\n| 2014 | 8419 | 2233 | 1 | 10653 |  98744098 | 102973443 | 8.526079 | 2.168520 |\n| 2013 | 8309 | 2223 | 1 | 10533 |  97931331 | 102072857 | 8.484517 | 2.177856 |\n| 2012 | 8061 | 2257 | 3 | 10321 |  96322635 | 101182880 | 8.368749 | 2.230615 |\n| 2011 | 7762 | 2089 | 1 |  9852 |  96322635 | 100281097 | 8.058334 | 2.083144 |\n| 2010 | 7375 | 2073 | 0 |  9448 |  95513298 |  99377384 | 7.721438 | 2.085988 |\n\n",
            "text/html": [
              "<table>\n",
              "<caption>A data.frame: 8 × 9</caption>\n",
              "<thead>\n",
              "\t<tr><th scope=col>ano</th><th scope=col>masc</th><th scope=col>fem</th><th scope=col>lgn</th><th scope=col>total</th><th scope=col>pop_masc_ibge</th><th scope=col>pop_fem_ibge</th><th scope=col>prop_masc_100k</th><th scope=col>prop_fem_100k</th></tr>\n",
              "\t<tr><th scope=col>&lt;int&gt;</th><th scope=col>&lt;int&gt;</th><th scope=col>&lt;int&gt;</th><th scope=col>&lt;int&gt;</th><th scope=col>&lt;int&gt;</th><th scope=col>&lt;int&gt;</th><th scope=col>&lt;int&gt;</th><th scope=col>&lt;dbl&gt;</th><th scope=col>&lt;dbl&gt;</th></tr>\n",
              "</thead>\n",
              "<tbody>\n",
              "\t<tr><td>2017</td><td>9826</td><td>2664</td><td>5</td><td>12495</td><td>101163599</td><td>105641142</td><td>9.712980</td><td>2.521745</td></tr>\n",
              "\t<tr><td>2016</td><td>9053</td><td>2378</td><td>2</td><td>11433</td><td>100379640</td><td>104776947</td><td>9.018761</td><td>2.269583</td></tr>\n",
              "\t<tr><td>2015</td><td>8780</td><td>2396</td><td>2</td><td>11178</td><td> 99581002</td><td>103894681</td><td>8.816943</td><td>2.306182</td></tr>\n",
              "\t<tr><td>2014</td><td>8419</td><td>2233</td><td>1</td><td>10653</td><td> 98744098</td><td>102973443</td><td>8.526079</td><td>2.168520</td></tr>\n",
              "\t<tr><td>2013</td><td>8309</td><td>2223</td><td>1</td><td>10533</td><td> 97931331</td><td>102072857</td><td>8.484517</td><td>2.177856</td></tr>\n",
              "\t<tr><td>2012</td><td>8061</td><td>2257</td><td>3</td><td>10321</td><td> 96322635</td><td>101182880</td><td>8.368749</td><td>2.230615</td></tr>\n",
              "\t<tr><td>2011</td><td>7762</td><td>2089</td><td>1</td><td> 9852</td><td> 96322635</td><td>100281097</td><td>8.058334</td><td>2.083144</td></tr>\n",
              "\t<tr><td>2010</td><td>7375</td><td>2073</td><td>0</td><td> 9448</td><td> 95513298</td><td> 99377384</td><td>7.721438</td><td>2.085988</td></tr>\n",
              "</tbody>\n",
              "</table>\n"
            ]
          },
          "metadata": {
            "tags": []
          }
        }
      ]
    },
    {
      "cell_type": "markdown",
      "metadata": {
        "id": "kO-0uwoOp5YN",
        "colab_type": "text"
      },
      "source": [
        "## Checar normalidade das duas amostras com Shapiro-Wilk"
      ]
    },
    {
      "cell_type": "code",
      "metadata": {
        "id": "WIwtlRL4qD4t",
        "colab_type": "code",
        "colab": {
          "base_uri": "https://localhost:8080/",
          "height": 102
        },
        "outputId": "b28c497d-3a1b-4c7e-eea7-61438409f0f9"
      },
      "source": [
        "# Normalidade da proporcao de suicidios em homens a cada 100 mil habitantes\n",
        "shapiro.test(df_hm$prop_masc_100k)"
      ],
      "execution_count": 173,
      "outputs": [
        {
          "output_type": "display_data",
          "data": {
            "text/plain": [
              "\n",
              "\tShapiro-Wilk normality test\n",
              "\n",
              "data:  df_hm$prop_masc_100k\n",
              "W = 0.97277, p-value = 0.9188\n"
            ]
          },
          "metadata": {
            "tags": []
          }
        }
      ]
    },
    {
      "cell_type": "code",
      "metadata": {
        "id": "xphfOEKNqlfJ",
        "colab_type": "code",
        "colab": {
          "base_uri": "https://localhost:8080/",
          "height": 102
        },
        "outputId": "04a61418-1914-4c48-e211-96382bda1c75"
      },
      "source": [
        "# Normalidade da proporcao de suicidios em mulheres a cada 100 mil habitantes\n",
        "shapiro.test(df_hm$prop_fem_100k)"
      ],
      "execution_count": 174,
      "outputs": [
        {
          "output_type": "display_data",
          "data": {
            "text/plain": [
              "\n",
              "\tShapiro-Wilk normality test\n",
              "\n",
              "data:  df_hm$prop_fem_100k\n",
              "W = 0.89551, p-value = 0.2631\n"
            ]
          },
          "metadata": {
            "tags": []
          }
        }
      ]
    },
    {
      "cell_type": "markdown",
      "metadata": {
        "id": "4EQPTSRrqxAb",
        "colab_type": "text"
      },
      "source": [
        "> Como vimos, não conseguimos rejeitar a hipótese nula para as proporções de suicídios em homens e em mulheres a cada 100 mil habitantes (`p > 0.05`). Assim, esses conjuntos de dados foram extraídos de uma população com distribuição normal.\n",
        "\n",
        "## Análise gráfica"
      ]
    },
    {
      "cell_type": "code",
      "metadata": {
        "id": "IqvHHdiTq990",
        "colab_type": "code",
        "colab": {
          "base_uri": "https://localhost:8080/",
          "height": 911
        },
        "outputId": "3c995f79-8885-488c-d3fa-08f4c5638a26"
      },
      "source": [
        "# Plot graph to prop_masc_100k col\n",
        "ggplot(df_hm, aes(df_hm$ano, df_hm$prop_masc_100k)) + \n",
        "geom_histogram(stat='identity', fill='white', colour='black') + \n",
        "labs(x='Ano', y='Proporção de suicídios em homens a cada 100 mil habitantes')"
      ],
      "execution_count": 175,
      "outputs": [
        {
          "output_type": "stream",
          "text": [
            "Warning message:\n",
            "“Ignoring unknown parameters: binwidth, bins, pad”"
          ],
          "name": "stderr"
        },
        {
          "output_type": "display_data",
          "data": {
            "image/png": "[encoded data removed]",
            "text/plain": [
              "plot without title"
            ]
          },
          "metadata": {
            "tags": []
          }
        }
      ]
    },
    {
      "cell_type": "code",
      "metadata": {
        "id": "gjaF077-rUvJ",
        "colab_type": "code",
        "colab": {
          "base_uri": "https://localhost:8080/",
          "height": 911
        },
        "outputId": "f90c32ec-6f52-48f9-9435-d3209d3d18c3"
      },
      "source": [
        "# Plot graph to prop_fem_100k col\n",
        "ggplot(df_hm, aes(df_hm$ano, df_hm$prop_fem_100k)) + \n",
        "geom_histogram(stat='identity', fill='white', colour='black') + \n",
        "labs(x='Ano', y='Proporção de suicídios em mulheres a cada 100 mil habitantes')"
      ],
      "execution_count": 176,
      "outputs": [
        {
          "output_type": "stream",
          "text": [
            "Warning message:\n",
            "“Ignoring unknown parameters: binwidth, bins, pad”"
          ],
          "name": "stderr"
        },
        {
          "output_type": "display_data",
          "data": {
            "image/png": "[encoded data removed]",
            "text/plain": [
              "plot without title"
            ]
          },
          "metadata": {
            "tags": []
          }
        }
      ]
    },
    {
      "cell_type": "markdown",
      "metadata": {
        "id": "_FxG5VqcriFp",
        "colab_type": "text"
      },
      "source": [
        "## Teste de hipótese para as proporções de homens e mulheres"
      ]
    },
    {
      "cell_type": "code",
      "metadata": {
        "id": "oZ08nhOArs9h",
        "colab_type": "code",
        "colab": {
          "base_uri": "https://localhost:8080/",
          "height": 224
        },
        "outputId": "370dbd22-42c0-466c-a672-251e383cc544"
      },
      "source": [
        "# The male proportion of suicide is greater than the female proportion?\n",
        "prop.test(\n",
        "  x=c(df_hm$masc[2], df_hm$fem[2]), \n",
        "  n=c(df_hm$pop_masc_ibge[2], df_hm$pop_fem_ibge[2]),\n",
        "  alternative='greater')"
      ],
      "execution_count": 184,
      "outputs": [
        {
          "output_type": "display_data",
          "data": {
            "text/plain": [
              "\n",
              "\t2-sample test for equality of proportions with continuity correction\n",
              "\n",
              "data:  c(df_hm$masc[2], df_hm$fem[2]) out of c(df_hm$pop_masc_ibge[2], df_hm$pop_fem_ibge[2])\n",
              "X-squared = 4190.1, df = 1, p-value < 2.2e-16\n",
              "alternative hypothesis: greater\n",
              "95 percent confidence interval:\n",
              " 6.574517e-05 1.000000e+00\n",
              "sample estimates:\n",
              "      prop 1       prop 2 \n",
              "9.018761e-05 2.269583e-05 \n"
            ]
          },
          "metadata": {
            "tags": []
          }
        }
      ]
    },
    {
      "cell_type": "markdown",
      "metadata": {
        "id": "J8TVXyV8sjqg",
        "colab_type": "text"
      },
      "source": [
        "> Ao nível de 95 % de confiança **há fortes evidências** da diferença (`p < 0.05`) de proporções de suicídios de entre homens e mulheresno ano de 2016 assim como indicado na reportagem."
      ]
    },
    {
      "cell_type": "markdown",
      "metadata": {
        "id": "u7k3arx3coPu",
        "colab_type": "text"
      },
      "source": [
        "## Referências\n",
        "\n",
        "1. Dados no [repositório](https://github.com/geocarvalho/uni-proj/blob/master/IN1119/stat_project.ipynb)"
      ]
    }
  ]
}