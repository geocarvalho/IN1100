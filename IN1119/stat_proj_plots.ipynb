{
  "nbformat": 4,
  "nbformat_minor": 0,
  "metadata": {
    "colab": {
      "name": "stat_proj_plots.ipynb",
      "version": "0.3.2",
      "provenance": [],
      "include_colab_link": true
    },
    "kernelspec": {
      "name": "python3",
      "display_name": "Python 3"
    }
  },
  "cells": [
    {
      "cell_type": "markdown",
      "metadata": {
        "id": "view-in-github",
        "colab_type": "text"
      },
      "source": [
        "<a href=\"https://colab.research.google.com/github/geocarvalho/uni-proj/blob/master/IN1119/stat_proj_plots.ipynb\" target=\"_parent\"><img src=\"https://colab.research.google.com/assets/colab-badge.svg\" alt=\"Open In Colab\"/></a>"
      ]
    },
    {
      "cell_type": "code",
      "metadata": {
        "id": "8AJHwMEE9LTO",
        "colab_type": "code",
        "colab": {}
      },
      "source": [
        "import pandas as pd\n",
        "import matplotlib.pyplot as plt"
      ],
      "execution_count": 0,
      "outputs": []
    },
    {
      "cell_type": "code",
      "metadata": {
        "id": "BpqCfDjb9O-V",
        "colab_type": "code",
        "colab": {
          "base_uri": "https://localhost:8080/",
          "height": 426
        },
        "outputId": "81819766-9aae-4802-bef9-67e348bdd097"
      },
      "source": [
        "df = pd.read_csv('suicidios_mes_2015-2017.csv')\n",
        "t_df = df.set_index('ano').T\n",
        "df_n = t_df.reset_index()\n",
        "df_n.columns = ['meses', '2017_obt', '2016_obt', '2015_obt', '2017_pop', '2015_pop',\n",
        "       '2016_pop']\n",
        "df_n"
      ],
      "execution_count": 44,
      "outputs": [
        {
          "output_type": "execute_result",
          "data": {
            "text/html": [
              "<div>\n",
              "<style scoped>\n",
              "    .dataframe tbody tr th:only-of-type {\n",
              "        vertical-align: middle;\n",
              "    }\n",
              "\n",
              "    .dataframe tbody tr th {\n",
              "        vertical-align: top;\n",
              "    }\n",
              "\n",
              "    .dataframe thead th {\n",
              "        text-align: right;\n",
              "    }\n",
              "</style>\n",
              "<table border=\"1\" class=\"dataframe\">\n",
              "  <thead>\n",
              "    <tr style=\"text-align: right;\">\n",
              "      <th></th>\n",
              "      <th>meses</th>\n",
              "      <th>2017_obt</th>\n",
              "      <th>2016_obt</th>\n",
              "      <th>2015_obt</th>\n",
              "      <th>2017_pop</th>\n",
              "      <th>2015_pop</th>\n",
              "      <th>2016_pop</th>\n",
              "    </tr>\n",
              "  </thead>\n",
              "  <tbody>\n",
              "    <tr>\n",
              "      <th>0</th>\n",
              "      <td>janeiro</td>\n",
              "      <td>1059</td>\n",
              "      <td>941</td>\n",
              "      <td>1047</td>\n",
              "      <td>206003753</td>\n",
              "      <td>202609241</td>\n",
              "      <td>204314268</td>\n",
              "    </tr>\n",
              "    <tr>\n",
              "      <th>1</th>\n",
              "      <td>fevereiro</td>\n",
              "      <td>967</td>\n",
              "      <td>926</td>\n",
              "      <td>852</td>\n",
              "      <td>206143689</td>\n",
              "      <td>202751801</td>\n",
              "      <td>204455719</td>\n",
              "    </tr>\n",
              "    <tr>\n",
              "      <th>2</th>\n",
              "      <td>marco</td>\n",
              "      <td>1055</td>\n",
              "      <td>929</td>\n",
              "      <td>947</td>\n",
              "      <td>206283480</td>\n",
              "      <td>202894285</td>\n",
              "      <td>204597060</td>\n",
              "    </tr>\n",
              "    <tr>\n",
              "      <th>3</th>\n",
              "      <td>abril</td>\n",
              "      <td>923</td>\n",
              "      <td>919</td>\n",
              "      <td>935</td>\n",
              "      <td>206423124</td>\n",
              "      <td>203036688</td>\n",
              "      <td>204738287</td>\n",
              "    </tr>\n",
              "    <tr>\n",
              "      <th>4</th>\n",
              "      <td>maio</td>\n",
              "      <td>1029</td>\n",
              "      <td>927</td>\n",
              "      <td>899</td>\n",
              "      <td>206562618</td>\n",
              "      <td>203179009</td>\n",
              "      <td>204879397</td>\n",
              "    </tr>\n",
              "    <tr>\n",
              "      <th>5</th>\n",
              "      <td>junho</td>\n",
              "      <td>932</td>\n",
              "      <td>879</td>\n",
              "      <td>867</td>\n",
              "      <td>206701959</td>\n",
              "      <td>203321245</td>\n",
              "      <td>205020388</td>\n",
              "    </tr>\n",
              "    <tr>\n",
              "      <th>6</th>\n",
              "      <td>julho</td>\n",
              "      <td>938</td>\n",
              "      <td>925</td>\n",
              "      <td>851</td>\n",
              "      <td>206841144</td>\n",
              "      <td>203463392</td>\n",
              "      <td>205161258</td>\n",
              "    </tr>\n",
              "    <tr>\n",
              "      <th>7</th>\n",
              "      <td>agosto</td>\n",
              "      <td>1071</td>\n",
              "      <td>910</td>\n",
              "      <td>915</td>\n",
              "      <td>206980170</td>\n",
              "      <td>203605449</td>\n",
              "      <td>205302002</td>\n",
              "    </tr>\n",
              "    <tr>\n",
              "      <th>8</th>\n",
              "      <td>setembro</td>\n",
              "      <td>1135</td>\n",
              "      <td>962</td>\n",
              "      <td>902</td>\n",
              "      <td>207119034</td>\n",
              "      <td>203747412</td>\n",
              "      <td>205442619</td>\n",
              "    </tr>\n",
              "    <tr>\n",
              "      <th>9</th>\n",
              "      <td>outubro</td>\n",
              "      <td>1212</td>\n",
              "      <td>1047</td>\n",
              "      <td>990</td>\n",
              "      <td>207257734</td>\n",
              "      <td>203889278</td>\n",
              "      <td>205583105</td>\n",
              "    </tr>\n",
              "    <tr>\n",
              "      <th>10</th>\n",
              "      <td>novembro</td>\n",
              "      <td>1063</td>\n",
              "      <td>1016</td>\n",
              "      <td>921</td>\n",
              "      <td>207396267</td>\n",
              "      <td>204031044</td>\n",
              "      <td>205723458</td>\n",
              "    </tr>\n",
              "    <tr>\n",
              "      <th>11</th>\n",
              "      <td>dezembro</td>\n",
              "      <td>1111</td>\n",
              "      <td>1052</td>\n",
              "      <td>1052</td>\n",
              "      <td>207534630</td>\n",
              "      <td>204172708</td>\n",
              "      <td>205863675</td>\n",
              "    </tr>\n",
              "  </tbody>\n",
              "</table>\n",
              "</div>"
            ],
            "text/plain": [
              "        meses  2017_obt  2016_obt  2015_obt   2017_pop   2015_pop   2016_pop\n",
              "0     janeiro      1059       941      1047  206003753  202609241  204314268\n",
              "1   fevereiro       967       926       852  206143689  202751801  204455719\n",
              "2       marco      1055       929       947  206283480  202894285  204597060\n",
              "3       abril       923       919       935  206423124  203036688  204738287\n",
              "4        maio      1029       927       899  206562618  203179009  204879397\n",
              "5       junho       932       879       867  206701959  203321245  205020388\n",
              "6       julho       938       925       851  206841144  203463392  205161258\n",
              "7      agosto      1071       910       915  206980170  203605449  205302002\n",
              "8    setembro      1135       962       902  207119034  203747412  205442619\n",
              "9     outubro      1212      1047       990  207257734  203889278  205583105\n",
              "10   novembro      1063      1016       921  207396267  204031044  205723458\n",
              "11   dezembro      1111      1052      1052  207534630  204172708  205863675"
            ]
          },
          "metadata": {
            "tags": []
          },
          "execution_count": 44
        }
      ]
    },
    {
      "cell_type": "code",
      "metadata": {
        "id": "70Jsx5fa9suR",
        "colab_type": "code",
        "colab": {
          "base_uri": "https://localhost:8080/",
          "height": 353
        },
        "outputId": "9dc9921e-563a-4b1d-f97f-7d41d1b4cd35"
      },
      "source": [
        "# Bar plot for month\n",
        "bar = df_n[['meses','2017_obt']].plot.bar(\n",
        "    x=\"meses\", y='2017_obt', title='Número de suicídios por mês no ano de 2017')\n",
        "bar.set_xlabel(\"Meses\")\n",
        "bar.set_ylabel(\"Nº de suicídios\")"
      ],
      "execution_count": 52,
      "outputs": [
        {
          "output_type": "execute_result",
          "data": {
            "text/plain": [
              "Text(0, 0.5, 'Nº de suicídios')"
            ]
          },
          "metadata": {
            "tags": []
          },
          "execution_count": 52
        },
        {
          "output_type": "display_data",
          "data": {
            "image/png": "[encoded data removed]",
            "text/plain": [
              "<Figure size 432x288 with 1 Axes>"
            ]
          },
          "metadata": {
            "tags": []
          }
        }
      ]
    },
    {
      "cell_type": "code",
      "metadata": {
        "id": "2nXMgjxu_ACW",
        "colab_type": "code",
        "colab": {
          "base_uri": "https://localhost:8080/",
          "height": 353
        },
        "outputId": "3452e8fa-064d-4903-d58e-28edee809622"
      },
      "source": [
        "# Bar plot for month\n",
        "bar = df_n[['meses','2016_obt']].plot.bar(\n",
        "    x=\"meses\", y='2016_obt', title='Número de suicídios por mês no ano de 2016')\n",
        "bar.set_xlabel(\"Meses\")\n",
        "bar.set_ylabel(\"Nº de suicídios\")"
      ],
      "execution_count": 53,
      "outputs": [
        {
          "output_type": "execute_result",
          "data": {
            "text/plain": [
              "Text(0, 0.5, 'Nº de suicídios')"
            ]
          },
          "metadata": {
            "tags": []
          },
          "execution_count": 53
        },
        {
          "output_type": "display_data",
          "data": {
            "image/png": "[encoded data removed]",
            "text/plain": [
              "<Figure size 432x288 with 1 Axes>"
            ]
          },
          "metadata": {
            "tags": []
          }
        }
      ]
    },
    {
      "cell_type": "code",
      "metadata": {
        "id": "mAbT0q3eGaoM",
        "colab_type": "code",
        "colab": {
          "base_uri": "https://localhost:8080/",
          "height": 353
        },
        "outputId": "bad58394-f90c-4757-b564-dcc1b02797df"
      },
      "source": [
        "# Bar plot for month\n",
        "bar = df_n[['meses','2015_obt']].plot.bar(\n",
        "    x=\"meses\", y='2015_obt', title='Número de suicídios por mês no ano de 2015')\n",
        "bar.set_xlabel(\"Meses\")\n",
        "bar.set_ylabel(\"Nº de suicídios\")"
      ],
      "execution_count": 54,
      "outputs": [
        {
          "output_type": "execute_result",
          "data": {
            "text/plain": [
              "Text(0, 0.5, 'Nº de suicídios')"
            ]
          },
          "metadata": {
            "tags": []
          },
          "execution_count": 54
        },
        {
          "output_type": "display_data",
          "data": {
            "image/png": "[encoded data removed]",
            "text/plain": [
              "<Figure size 432x288 with 1 Axes>"
            ]
          },
          "metadata": {
            "tags": []
          }
        }
      ]
    },
    {
      "cell_type": "markdown",
      "metadata": {
        "id": "lBh04Pu_JP77",
        "colab_type": "text"
      },
      "source": [
        "## Ref\n",
        "1. [A Gentle Introduction to Normality Tests in Python](https://machinelearningmastery.com/a-gentle-introduction-to-normality-tests-in-python/)"
      ]
    },
    {
      "cell_type": "code",
      "metadata": {
        "id": "xn3d94lpJWNc",
        "colab_type": "code",
        "colab": {}
      },
      "source": [
        ""
      ],
      "execution_count": 0,
      "outputs": []
    }
  ]
}